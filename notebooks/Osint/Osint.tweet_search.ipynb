{
 "cells": [
  {
   "cell_type": "code",
   "execution_count": 1,
   "id": "6770def7",
   "metadata": {},
   "outputs": [
    {
     "name": "stdout",
     "output_type": "stream",
     "text": [
      "usage: tweet_search [-h] -q QUERY [-l LIMIT] [-s] [-d DATERANGE] [-m] [-v]\r\n",
      "                    [--output] [--api] [--format]\r\n",
      "\r\n",
      "tweet_search 0.7(Kaushik) - description: Search tweets from twitter\r\n",
      "\r\n",
      "optional arguments:\r\n",
      "  -h, --help            show this help message and exit\r\n",
      "  -q QUERY, --query QUERY\r\n",
      "                        Query string\r\n",
      "  -l LIMIT, --limit LIMIT\r\n",
      "                        Max result count (default=15)\r\n",
      "  -s, --sentiment       Do sentiment Analysis on tweets(default=False)\r\n",
      "  -d DATERANGE, --daterange DATERANGE\r\n",
      "                        Number of past days to fetch tweets for\r\n",
      "  -m, --monthly         Group datewise sentiment values by month\r\n",
      "  -v, --verbose         Print all tweet details as json\r\n",
      "  --output, --output    Save the output to the workspace\r\n",
      "  --api, --api          Show results in the JSON format\r\n",
      "  --format, --format    Beautifying JSON output if --api is used\r\n"
     ]
    }
   ],
   "source": [
    "!maryam -e tweet_search --help"
   ]
  },
  {
   "cell_type": "code",
   "execution_count": 2,
   "id": "02d40f1f",
   "metadata": {},
   "outputs": [
    {
     "name": "stdout",
     "output_type": "stream",
     "text": [
      "\u001b[94m[*]\u001b[m [TWEETSEARCH] Searching the twitter domain...\u001b[m\n",
      "\u001b[94m[*]\u001b[m If you're looking to pivot into tech, here's a thread of 8 FREE Software Engineering, Cybersecurity, Cloud, Java an… https://t.co/X9y8WC77up\u001b[m\n",
      "\u001b[94m[*]\u001b[m Check out the @IrishTimes featuring the results of our Cyber Resilience Survey. With #cybersecurity becoming a prom… https://t.co/ugx7kN0sW9\u001b[m\n",
      "\u001b[94m[*]\u001b[m User-Friendly Cybersecurity is Key in a Hybrid Landscape - https://t.co/1o4tOMZ7MO https://t.co/8s9BikPw2N\u001b[m\n",
      "\u001b[94m[*]\u001b[m Collection of Facebook Bug Bounty Writeups\n",
      "https://t.co/kzYWFBh632 \n",
      "#Security #Pentesting #SecurityEveryday #BugBounty #Pentest #AppSec\u001b[m\n",
      "\u001b[94m[*]\u001b[m A potentially critical SonicOS #vulnerability affects SonicWall #firewall appliances, allowing unauthenticated, rem… https://t.co/uTRL5FB6jb\u001b[m\n",
      "\u001b[94m[*]\u001b[m Are you interested in learning these skills?\n",
      "•Cloud \n",
      "•Project Management\n",
      "•Data Analysis \n",
      "•Cyber Security/Linux\n",
      "•Ap… https://t.co/Sso5s5ZQ6d\u001b[m\n",
      "\u001b[94m[*]\u001b[m 15 types of cyber attacks\n",
      "#CyberSecurity https://t.co/lYKXEK8Xvt\u001b[m\n",
      "\u001b[94m[*]\u001b[m Some Basic #linux commands #CyberSecurity #hacktheplanet #itsecurity #infosec https://t.co/1y8P7ypEnO\u001b[m\n",
      "\u001b[94m[*]\u001b[m #Python Cheat Sheet #MLOps #MachineLearning #DataScience #Linux #CyberSecurity #SQL #BigData #Analytics #AI #IIoT… https://t.co/ogO9ZvdNAo\u001b[m\n",
      "\u001b[94m[*]\u001b[m my tech journey was all over the place. i went from project management to cybersecurity to product management and n… https://t.co/t4S9ouhMIF\u001b[m\n",
      "\u001b[94m[*]\u001b[m Want to break into cybersecurity? We've got something special to ease your journey. 😎😎\n",
      "You can't afford to miss th… https://t.co/kxFvWS5gpZ\u001b[m\n",
      "\u001b[94m[*]\u001b[m New: A NJ talent firm exposed a database containing thousands of resumés of prospective IT workers, including their… https://t.co/vBfjsGJC7d\u001b[m\n",
      "\u001b[94m[*]\u001b[m Finding Bugs in Windows Drivers, Part 1 – WDM  https://t.co/idH2oDHRVi  #Pentesting #BugBounty #Windows… https://t.co/Pmukem8xwq\u001b[m\n",
      "\u001b[94m[*]\u001b[m Just infosec things ! \n",
      "#infosec #CyberSecurity #hacking #cloudsecurity https://t.co/JexqP0IVES\u001b[m\n",
      "\u001b[94m[*]\u001b[m Found 10+ information disclosure on @Hacker0x01\n",
      "Expecting 4k+ USD\n",
      "#bugbounty #cybersecurity #Hackingtime https://t.co/legQdUTp2X\u001b[m\n",
      "\u001b[94m[*]\u001b[m 10 steps for enhancing #cybersecurity https://t.co/URmGnNxlZ9\u001b[m\n",
      "\u001b[94m[*]\u001b[m I just pwned Heist in Hack The Box! https://t.co/aSJjYqY0Na #hackthebox #htb #cybersecurity\u001b[m\n",
      "\u001b[94m[*]\u001b[m Finally My #Reconator project hits 200 ⭐ \n",
      "I hope it would have helped lot of people on infosec, and for people who… https://t.co/QO7JBzkGXA\u001b[m\n",
      "\u001b[94m[*]\u001b[m What is Data Integrity :-\n",
      "Why is data integrity valued so highly in infosec ?.\n",
      "1) - Available\n",
      "2) - Attributable\n",
      "3)… https://t.co/VO7fFmNCPL\u001b[m\n",
      "\u001b[94m[*]\u001b[m weekend study:\n",
      "A New Exploit Method for CVE-2021-3560 PolicyKit Linux Privilege Escalation https://t.co/iKYgPHdXdd\u001b[m\n",
      "\u001b[94m[*]\u001b[m Are you ready to get started in your cybersecurity career? We are glad to announce the launch of Introduction to Cy… https://t.co/66unvF8Pph\u001b[m\n"
     ]
    }
   ],
   "source": [
    "!maryam -e tweet_search -q cybersecurity"
   ]
  },
  {
   "cell_type": "code",
   "execution_count": 3,
   "id": "8de397c7",
   "metadata": {},
   "outputs": [
    {
     "name": "stdout",
     "output_type": "stream",
     "text": [
      "{\r\n",
      "    \"results\": [\r\n",
      "        \"\\u5148\\u751f,\\u672c\\u5f53\\u306b\\u3042\\u308a\\u304c\\u3068\\u3046\\u3054\\u3056\\u3044\\u307e\\u3057\\u305f #kumadai #kendo https://t.co/RrlGUDKBn0\",\r\n",
      "        \"#raker #ppijk 2019-2020 isshouni ganbarimashou https://t.co/0bMxX8b2UO\",\r\n",
      "        \"Interpretable Machine Learning is now available Bahasa Indonesia!  \\ud83c\\udf89\\ud83c\\udf89\\ud83c\\udf89\\nhttps://t.co/BBnBnekIPc\\nA complete transla\\u2026 https://t.co/o3uoEqPIho\"\r\n",
      "    ],\r\n",
      "    \"running_errors\": []\r\n",
      "}\r\n"
     ]
    }
   ],
   "source": [
    "!maryam -e tweet_search -q suryotrisongko --output --api --format"
   ]
  },
  {
   "cell_type": "code",
   "execution_count": null,
   "id": "5fab5707",
   "metadata": {},
   "outputs": [],
   "source": []
  }
 ],
 "metadata": {
  "kernelspec": {
   "display_name": "tf",
   "language": "python",
   "name": "tf"
  },
  "language_info": {
   "codemirror_mode": {
    "name": "ipython",
    "version": 3
   },
   "file_extension": ".py",
   "mimetype": "text/x-python",
   "name": "python",
   "nbconvert_exporter": "python",
   "pygments_lexer": "ipython3",
   "version": "3.9.12"
  }
 },
 "nbformat": 4,
 "nbformat_minor": 5
}
