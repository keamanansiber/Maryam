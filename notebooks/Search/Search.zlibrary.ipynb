{
 "cells": [
  {
   "cell_type": "code",
   "execution_count": 1,
   "id": "9f371f7d",
   "metadata": {},
   "outputs": [
    {
     "name": "stdout",
     "output_type": "stream",
     "text": [
      "usage: zlibrary [-h] -q QUERY [--exact] [-sy START_YEAR] [-ey END_YEAR]\r\n",
      "                [-ln LANG] [-e EXT] [-c COUNT] [--output] [--api] [--format]\r\n",
      "\r\n",
      "zlibrary 0.1(Vikas Kundu) - description: Search books and articles on Zlibrary\r\n",
      ".\r\n",
      "\r\n",
      "optional arguments:\r\n",
      "  -h, --help            show this help message and exit\r\n",
      "  -q QUERY, --query QUERY\r\n",
      "                        Query string to search for\r\n",
      "  --exact, --exact      Search for exact query(True or False, default=False)\r\n",
      "  -sy START_YEAR, --start_year START_YEAR\r\n",
      "                        Year to start search from(min: 1800 onwards)\r\n",
      "  -ey END_YEAR, --end_year END_YEAR\r\n",
      "                        Year till which to search for(max: present year)\r\n",
      "  -ln LANG, --lang LANG\r\n",
      "                        Language in which to search(i.e. English)\r\n",
      "  -e EXT, --ext EXT     Extension of the ebook or article(i.e. pdf, epub, txt,\r\n",
      "                        rar, mobi)\r\n",
      "  -c COUNT, --count COUNT\r\n",
      "                        No. of results to show(default=50)\r\n",
      "  --output, --output    Save the output to the workspace\r\n",
      "  --api, --api          Show results in the JSON format\r\n",
      "  --format, --format    Beautifying JSON output if --api is used\r\n"
     ]
    }
   ],
   "source": [
    "!maryam -e zlibrary --help"
   ]
  },
  {
   "cell_type": "code",
   "execution_count": 4,
   "id": "92cc8812",
   "metadata": {},
   "outputs": [
    {
     "name": "stdout",
     "output_type": "stream",
     "text": [
      "\u001b[94m[*]\u001b[m [Zlibrary Search] Fetching location of servers...\u001b[m\n",
      "\u001b[94m[*]\u001b[m [Zlibrary Search] Fetching query in books...\u001b[m\n",
      "\u001b[94m[*]\u001b[m [Zlibrary Search] Fetching page 1...\u001b[m\n",
      "\u001b[93m[!] [util/zlibrary:search_all] Zlibrary books, page 1 is missed!\u001b[m\n",
      "\u001b[94m[*]\u001b[m [Zlibrary Search] Fetching query in articles...\u001b[m\n",
      "\u001b[94m[*]\u001b[m [Zlibrary Search] Fetching page 1...\u001b[m\n",
      "\u001b[93m[!] [util/zlibrary:search_all] Zlibrary articles, page 1 is missed!\u001b[m\n"
     ]
    }
   ],
   "source": [
    "!maryam -e zlibrary -q security"
   ]
  },
  {
   "cell_type": "code",
   "execution_count": 5,
   "id": "691c72e6",
   "metadata": {},
   "outputs": [
    {
     "name": "stdout",
     "output_type": "stream",
     "text": [
      "{\r\n",
      "    \"results\": [\r\n",
      "        {\r\n",
      "            \"books\": []\r\n",
      "        },\r\n",
      "        {\r\n",
      "            \"articles\": []\r\n",
      "        }\r\n",
      "    ],\r\n",
      "    \"running_errors\": [\r\n",
      "        \"[util/zlibrary:search_all] Zlibrary books, page 1 is missed!\",\r\n",
      "        \"[util/zlibrary:search_all] Zlibrary articles, page 1 is missed!\"\r\n",
      "    ]\r\n",
      "}\r\n"
     ]
    }
   ],
   "source": [
    "!maryam -e zlibrary -q owasp --output --api --format"
   ]
  },
  {
   "cell_type": "code",
   "execution_count": null,
   "id": "13d53153",
   "metadata": {},
   "outputs": [],
   "source": []
  }
 ],
 "metadata": {
  "kernelspec": {
   "display_name": "tf",
   "language": "python",
   "name": "tf"
  },
  "language_info": {
   "codemirror_mode": {
    "name": "ipython",
    "version": 3
   },
   "file_extension": ".py",
   "mimetype": "text/x-python",
   "name": "python",
   "nbconvert_exporter": "python",
   "pygments_lexer": "ipython3",
   "version": "3.9.12"
  }
 },
 "nbformat": 4,
 "nbformat_minor": 5
}
