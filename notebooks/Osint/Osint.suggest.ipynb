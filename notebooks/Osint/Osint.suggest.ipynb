{
 "cells": [
  {
   "cell_type": "code",
   "execution_count": 1,
   "id": "c08a98e3",
   "metadata": {},
   "outputs": [
    {
     "name": "stdout",
     "output_type": "stream",
     "text": [
      "usage: suggest [-h] -q QUERY [--output] [--api] [--format]\r\n",
      "\r\n",
      "suggest 0.1(Saeed) - description: Keyword autocompleter to find suggestions in\r\n",
      "search engines\r\n",
      "\r\n",
      "optional arguments:\r\n",
      "  -h, --help            show this help message and exit\r\n",
      "  -q QUERY, --query QUERY\r\n",
      "                        keyword, domain name, company name, etc\r\n",
      "  --output, --output    Save the output to the workspace\r\n",
      "  --api, --api          Show results in the JSON format\r\n",
      "  --format, --format    Beautifying JSON output if --api is used\r\n"
     ]
    }
   ],
   "source": [
    "!maryam -e suggest --help"
   ]
  },
  {
   "cell_type": "code",
   "execution_count": 2,
   "id": "ca3bf06e",
   "metadata": {},
   "outputs": [
    {
     "name": "stdout",
     "output_type": "stream",
     "text": [
      "\u001b[92m[*]\u001b[m SUGGESTIONS\r\n",
      "\u001b[94m[*]\u001b[92m \tcyber security certification\u001b[m\r\n",
      "\u001b[94m[*]\u001b[92m \tcybersecurity services company\u001b[m\r\n",
      "\u001b[94m[*]\u001b[92m \tcybersecurity bootcamp\u001b[m\r\n",
      "\u001b[94m[*]\u001b[92m \tcybersecurity\u001b[m\r\n",
      "\u001b[94m[*]\u001b[92m \tcybersecurity threats\u001b[m\r\n",
      "\u001b[94m[*]\u001b[92m \tcybersecurity salary\u001b[m\r\n",
      "\u001b[94m[*]\u001b[92m \tcybersecurity aktien\u001b[m\r\n",
      "\u001b[94m[*]\u001b[92m \tcyber security jobs\u001b[m\r\n",
      "\u001b[94m[*]\u001b[92m \tcybersecurity stocks\u001b[m\r\n",
      "\u001b[94m[*]\u001b[92m \tcybersecurity training programs\u001b[m\r\n",
      "\u001b[94m[*]\u001b[92m \tcybersecurity courses online\u001b[m\r\n",
      "\u001b[94m[*]\u001b[92m \tcybersecurity jobs\u001b[m\r\n",
      "\u001b[94m[*]\u001b[92m \tcybersecurity certificate\u001b[m\r\n",
      "\u001b[94m[*]\u001b[92m \tcybersecurity act 2009\u001b[m\r\n",
      "\u001b[94m[*]\u001b[92m \tcybersecurity mesh\u001b[m\r\n",
      "\u001b[94m[*]\u001b[92m \tcybersecurity course\u001b[m\r\n",
      "\u001b[94m[*]\u001b[92m \tcybersecurity executive order\u001b[m\r\n",
      "\u001b[94m[*]\u001b[92m \tcybersecurity definition\u001b[m\r\n",
      "\u001b[94m[*]\u001b[92m \tcybersecurity framework\u001b[m\r\n",
      "\u001b[94m[*]\u001b[92m \tcybersecurity training\u001b[m\r\n",
      "\u001b[94m[*]\u001b[92m \tcybersecurity act\u001b[m\r\n",
      "\u001b[94m[*]\u001b[92m \tcybersecurity certifications\u001b[m\r\n",
      "\u001b[94m[*]\u001b[92m \tcybersecurity courses\u001b[m\r\n",
      "\u001b[94m[*]\u001b[92m \tcybersecurity analyst\u001b[m\r\n",
      "\u001b[94m[*]\u001b[92m \tcybersecurity act 2010\u001b[m\r\n",
      "\u001b[94m[*]\u001b[92m \tcybersecurity act of 2009\u001b[m\r\n",
      "\u001b[94m[*]\u001b[92m \tcybersecurity service company\u001b[m\r\n",
      "\u001b[94m[*]\u001b[92m \tcybersecurity etf\u001b[m\r\n",
      "\u001b[94m[*]\u001b[92m \tcybersecurity bill\u001b[m\r\n",
      "\u001b[94m[*]\u001b[92m \tcybersecurity degree\u001b[m\r\n",
      "\u001b[94m[*]\u001b[92m \tcyber security tips\u001b[m\r\n",
      "\u001b[94m[*]\u001b[92m \tcyber security studium\u001b[m\r\n",
      "\u001b[94m[*]\u001b[92m \tcyber security\u001b[m\r\n",
      "\u001b[94m[*]\u001b[92m \tcybersecurity insurance\u001b[m\r\n",
      "\u001b[94m[*]\u001b[92m \tcybersecurity news\u001b[m\r\n",
      "\u001b[94m[*]\u001b[92m \tcyber security companies\u001b[m\r\n",
      "\r\n"
     ]
    }
   ],
   "source": [
    "!maryam -e suggest -q cybersecurity"
   ]
  },
  {
   "cell_type": "code",
   "execution_count": 4,
   "id": "95ceb96b",
   "metadata": {},
   "outputs": [
    {
     "name": "stdout",
     "output_type": "stream",
     "text": [
      "\u001b[92m[*]\u001b[m SUGGESTIONS\r\n",
      "\u001b[94m[*]\u001b[92m \thatman auctions\u001b[m\r\n",
      "\u001b[94m[*]\u001b[92m \thatmakers bar knoxville tn\u001b[m\r\n",
      "\u001b[94m[*]\u001b[92m \tbatman\u001b[m\r\n",
      "\u001b[94m[*]\u001b[92m \thotmail live\u001b[m\r\n",
      "\u001b[94m[*]\u001b[92m \thatman jack's wichita hat works\u001b[m\r\n",
      "\u001b[94m[*]\u001b[92m \thitman pro\u001b[m\r\n",
      "\u001b[94m[*]\u001b[92m \thatmakerfuneralhome.com\u001b[m\r\n",
      "\u001b[94m[*]\u001b[92m \thatmaiuocmo tap 21\u001b[m\r\n",
      "\u001b[94m[*]\u001b[92m \thatmaker's bar & grill\u001b[m\r\n",
      "\u001b[94m[*]\u001b[92m \thatmaker funeral home obits\u001b[m\r\n",
      "\u001b[94m[*]\u001b[92m \thatman of ireland\u001b[m\r\n",
      "\u001b[94m[*]\u001b[92m \thatmaker's bar and grill\u001b[m\r\n",
      "\u001b[94m[*]\u001b[92m \thatmakers\u001b[m\r\n",
      "\u001b[94m[*]\u001b[92m \thatman.com\u001b[m\r\n",
      "\u001b[94m[*]\u001b[92m \thamatchi\u001b[m\r\n",
      "\u001b[94m[*]\u001b[92m \thotmail login\u001b[m\r\n",
      "\u001b[94m[*]\u001b[92m \thatman motorsport\u001b[m\r\n",
      "\u001b[94m[*]\u001b[92m \thatmaker funeral home\u001b[m\r\n",
      "\u001b[94m[*]\u001b[92m \thatmaker.org\u001b[m\r\n",
      "\u001b[94m[*]\u001b[92m \thatman of ireland amazon\u001b[m\r\n",
      "\u001b[94m[*]\u001b[92m \thatmat\u001b[m\r\n",
      "\u001b[94m[*]\u001b[92m \twww.hatmakerfuneralhome.com\u001b[m\r\n",
      "\u001b[94m[*]\u001b[92m \thitman\u001b[m\r\n",
      "\u001b[94m[*]\u001b[92m \that makers\u001b[m\r\n",
      "\u001b[94m[*]\u001b[92m \thotmail\u001b[m\r\n",
      "\u001b[94m[*]\u001b[92m \thatmans one stop\u001b[m\r\n",
      "\u001b[94m[*]\u001b[92m \thatmail\u001b[m\r\n",
      "\u001b[94m[*]\u001b[92m \thatman\u001b[m\r\n",
      "\u001b[94m[*]\u001b[92m \thatman jack's wichita ks\u001b[m\r\n",
      "\u001b[94m[*]\u001b[92m \thatmail.com\u001b[m\r\n",
      "\u001b[94m[*]\u001b[92m \thartmann\u001b[m\r\n",
      "\u001b[94m[*]\u001b[92m \thatma\u001b[m\r\n",
      "\u001b[94m[*]\u001b[92m \thatman simulator codes\u001b[m\r\n",
      "\u001b[94m[*]\u001b[92m \thatmaker\u001b[m\r\n",
      "\u001b[94m[*]\u001b[92m \thatmaker hats\u001b[m\r\n",
      "\u001b[94m[*]\u001b[92m \thotmail.fr\u001b[m\r\n",
      "\u001b[94m[*]\u001b[92m \thamtaro\u001b[m\r\n",
      "\u001b[94m[*]\u001b[92m \thatmaker funeral home obituaries\u001b[m\r\n",
      "\u001b[94m[*]\u001b[92m \thatmaker divorce\u001b[m\r\n",
      "\u001b[94m[*]\u001b[92m \thatmaz suit\u001b[m\r\n",
      "\u001b[94m[*]\u001b[92m \thazmat\u001b[m\r\n",
      "\u001b[94m[*]\u001b[92m \thotmail sign in\u001b[m\r\n",
      "\u001b[94m[*]\u001b[92m \twww.hatman.com\u001b[m\r\n",
      "\r\n"
     ]
    }
   ],
   "source": [
    "!maryam -e suggest -q hatma"
   ]
  },
  {
   "cell_type": "code",
   "execution_count": 3,
   "id": "8aa10fa1",
   "metadata": {},
   "outputs": [
    {
     "name": "stdout",
     "output_type": "stream",
     "text": [
      "{\r\n",
      "    \"suggestions\": [],\r\n",
      "    \"running_errors\": []\r\n",
      "}\r\n"
     ]
    }
   ],
   "source": [
    "!maryam -e suggest -q suryotrisongko --output --api --format"
   ]
  },
  {
   "cell_type": "code",
   "execution_count": null,
   "id": "7f4dfefc",
   "metadata": {},
   "outputs": [],
   "source": []
  }
 ],
 "metadata": {
  "kernelspec": {
   "display_name": "tf",
   "language": "python",
   "name": "tf"
  },
  "language_info": {
   "codemirror_mode": {
    "name": "ipython",
    "version": 3
   },
   "file_extension": ".py",
   "mimetype": "text/x-python",
   "name": "python",
   "nbconvert_exporter": "python",
   "pygments_lexer": "ipython3",
   "version": "3.9.12"
  }
 },
 "nbformat": 4,
 "nbformat_minor": 5
}
