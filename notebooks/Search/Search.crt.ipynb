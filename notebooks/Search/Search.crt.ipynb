{
 "cells": [
  {
   "cell_type": "code",
   "execution_count": 1,
   "id": "2d99d4b6",
   "metadata": {},
   "outputs": [
    {
     "name": "stdout",
     "output_type": "stream",
     "text": [
      "usage: crt [-h] -q QUERY [--output] [--api] [--format]\r\n",
      "\r\n",
      "crt 0.2(Saeed) - description: Search your query in the crt.sh and show the\r\n",
      "results.\r\n",
      "\r\n",
      "optional arguments:\r\n",
      "  -h, --help            show this help message and exit\r\n",
      "  -q QUERY, --query QUERY\r\n",
      "                        Query string\r\n",
      "  --output, --output    Save the output to the workspace\r\n",
      "  --api, --api          Show results in the JSON format\r\n",
      "  --format, --format    Beautifying JSON output if --api is used\r\n"
     ]
    }
   ],
   "source": [
    "!maryam -e crt --help"
   ]
  },
  {
   "cell_type": "code",
   "execution_count": 7,
   "id": "923f2109",
   "metadata": {},
   "outputs": [
    {
     "name": "stdout",
     "output_type": "stream",
     "text": [
      "\u001b[94m[*]\u001b[m [CRT] Starting Search...\u001b[m\n",
      "\n",
      "  +_____________________________________________________________________________________________________________________________________________________+\n",
      "  |            crt.sh ID            | Logged at  | Not Before | Not After  |              Maching Identities              |         Issuer Name         |\n",
      "  +_____________________________________________________________________________________________________________________________________________________+\n",
      "  | https://crt.sh/?caid=6711526881 | 2022-05-12 | 2022-05-12 | 2023-05-12 | INSTITUT TEKNOLOGI SEPULUH NOPEMBER SURABAYA | https://crt.sh/?caid=105487 |\n",
      "  +_____________________________________________________________________________________________________________________________________________________+\n",
      "  | https://crt.sh/?caid=6711525882 | 2022-05-12 | 2022-05-12 | 2023-05-12 | INSTITUT TEKNOLOGI SEPULUH NOPEMBER SURABAYA | https://crt.sh/?caid=105487 |\n",
      "  +_____________________________________________________________________________________________________________________________________________________+\n",
      "  | https://crt.sh/?caid=2682631507 | 2020-04-08 | 2020-04-06 | 2022-05-12 | Institut Teknologi Sepuluh Nopember          | https://crt.sh/?caid=1191   |\n",
      "  +_____________________________________________________________________________________________________________________________________________________+\n",
      "  | https://crt.sh/?caid=2672432519 | 2020-04-06 | 2020-04-06 | 2022-05-12 | Institut Teknologi Sepuluh Nopember          | https://crt.sh/?caid=1191   |\n",
      "  +_____________________________________________________________________________________________________________________________________________________+\n",
      "  | https://crt.sh/?caid=380475621  | 2018-04-06 | 2018-04-03 | 2020-04-21 | Institut Teknologi Sepuluh Nopember          | https://crt.sh/?caid=1191   |\n",
      "  +_____________________________________________________________________________________________________________________________________________________+\n",
      "  | https://crt.sh/?caid=375239558  | 2018-04-03 | 2018-04-03 | 2018-07-04 | Institut Teknologi Sepuluh Nopember          | https://crt.sh/?caid=1191   |\n",
      "  +_____________________________________________________________________________________________________________________________________________________+\n",
      "  | https://crt.sh/?caid=375152026  | 2018-04-03 | 2018-04-03 | 2020-04-21 | Institut Teknologi Sepuluh Nopember          | https://crt.sh/?caid=1191   |\n",
      "  +_____________________________________________________________________________________________________________________________________________________+\n",
      "  | https://crt.sh/?caid=34019225   | 2016-09-23 | 2010-05-19 | 2012-05-22 | Institut Teknologi Sepuluh Nopember Surabaya | https://crt.sh/?caid=29     |\n",
      "  +_____________________________________________________________________________________________________________________________________________________+\n",
      "  | https://crt.sh/?caid=7090457    | 2015-04-07 | 2015-04-06 | 2018-04-09 | Institut Teknologi Sepuluh Nopember          | https://crt.sh/?caid=1191   |\n",
      "  +_____________________________________________________________________________________________________________________________________________________+\n",
      "  | https://crt.sh/?caid=517187     | 2013-03-26 | 2012-05-19 | 2015-06-03 | Institut Teknologi Sepuluh Nopember Surabaya | https://crt.sh/?caid=29     |\n",
      "  +_____________________________________________________________________________________________________________________________________________________+\n",
      "\n"
     ]
    }
   ],
   "source": [
    "!maryam -e crt -q sepuluh"
   ]
  },
  {
   "cell_type": "code",
   "execution_count": 8,
   "id": "4f6bc59a",
   "metadata": {},
   "outputs": [
    {
     "name": "stdout",
     "output_type": "stream",
     "text": [
      "\u001b[93m[!] [crt:opt_proc] File \"/home/hatma/anaconda3/envs/tf/lib/python3.9/site-packages/maryam-2.5.1.post0-py3.9.egg/maryam/core/initial.py\", line 365, in opt_proc.\u001b[m\r\n",
      "\u001b[93m[!] [crt:opt_proc] TypeError: list indices must be integers or slices, not str.\u001b[m\r\n"
     ]
    }
   ],
   "source": [
    "!maryam -e crt -q sepuluh --output --api --format"
   ]
  },
  {
   "cell_type": "code",
   "execution_count": null,
   "id": "ea5dd796",
   "metadata": {},
   "outputs": [],
   "source": []
  }
 ],
 "metadata": {
  "kernelspec": {
   "display_name": "tf",
   "language": "python",
   "name": "tf"
  },
  "language_info": {
   "codemirror_mode": {
    "name": "ipython",
    "version": 3
   },
   "file_extension": ".py",
   "mimetype": "text/x-python",
   "name": "python",
   "nbconvert_exporter": "python",
   "pygments_lexer": "ipython3",
   "version": "3.9.12"
  }
 },
 "nbformat": 4,
 "nbformat_minor": 5
}
