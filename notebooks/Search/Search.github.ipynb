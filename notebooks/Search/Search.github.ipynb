{
 "cells": [
  {
   "cell_type": "code",
   "execution_count": 1,
   "id": "77a7b613",
   "metadata": {},
   "outputs": [
    {
     "name": "stdout",
     "output_type": "stream",
     "text": [
      "usage: github [-h] -q QUERY [-l LIMIT] [-c COUNT] [-e ENGINE] [-t THREAD]\r\n",
      "              [--output] [--api] [--format]\r\n",
      "\r\n",
      "github 1.0(Aman Singh) - description: Search your query in the GitHub and show\r\n",
      "the results.\r\n",
      "\r\n",
      "optional arguments:\r\n",
      "  -h, --help            show this help message and exit\r\n",
      "  -q QUERY, --query QUERY\r\n",
      "                        Query string\r\n",
      "  -l LIMIT, --limit LIMIT\r\n",
      "                        Search limit(number of pages, default=1)\r\n",
      "  -c COUNT, --count COUNT\r\n",
      "                        Number of links per page(min=10, max=100, default=50)\r\n",
      "  -e ENGINE, --engine ENGINE\r\n",
      "                        Engine names for search(default=google, github)\r\n",
      "  -t THREAD, --thread THREAD\r\n",
      "                        The number of engine that run per round(default=2)\r\n",
      "  --output, --output    Save the output to the workspace\r\n",
      "  --api, --api          Show results in the JSON format\r\n",
      "  --format, --format    Beautifying JSON output if --api is used\r\n"
     ]
    }
   ],
   "source": [
    "!maryam -e github --help"
   ]
  },
  {
   "cell_type": "code",
   "execution_count": 7,
   "id": "661ed044",
   "metadata": {},
   "outputs": [
    {
     "name": "stdout",
     "output_type": "stream",
     "text": [
      "\u001b[92m[*]\u001b[m REPOSITORIES\r\n",
      "\u001b[94m[*]\u001b[91m \tWithout result\u001b[m\r\n",
      "\u001b[92m[*]\u001b[m BLOGS\r\n",
      "\u001b[94m[*]\u001b[91m \tWithout result\u001b[m\r\n",
      "\u001b[92m[*]\u001b[m USERNAMES\r\n",
      "\u001b[94m[*]\u001b[91m \tWithout result\u001b[m\r\n",
      "\u001b[92m[*]\u001b[m EMAILS\r\n",
      "\u001b[94m[*]\u001b[91m \tWithout result\u001b[m\r\n",
      "\r\n"
     ]
    }
   ],
   "source": [
    "!maryam -e github -q maryam -e github"
   ]
  },
  {
   "cell_type": "code",
   "execution_count": 8,
   "id": "8bc7668e",
   "metadata": {},
   "outputs": [
    {
     "name": "stdout",
     "output_type": "stream",
     "text": [
      "{\r\n",
      "    \"repositories\": [],\r\n",
      "    \"blogs\": [],\r\n",
      "    \"usernames\": [],\r\n",
      "    \"emails\": [],\r\n",
      "    \"running_errors\": []\r\n",
      "}\r\n"
     ]
    }
   ],
   "source": [
    "!maryam -e github -q owasp -e github --output --api --format"
   ]
  },
  {
   "cell_type": "code",
   "execution_count": null,
   "id": "10b97488",
   "metadata": {},
   "outputs": [],
   "source": []
  }
 ],
 "metadata": {
  "kernelspec": {
   "display_name": "tf",
   "language": "python",
   "name": "tf"
  },
  "language_info": {
   "codemirror_mode": {
    "name": "ipython",
    "version": 3
   },
   "file_extension": ".py",
   "mimetype": "text/x-python",
   "name": "python",
   "nbconvert_exporter": "python",
   "pygments_lexer": "ipython3",
   "version": "3.9.12"
  }
 },
 "nbformat": 4,
 "nbformat_minor": 5
}
