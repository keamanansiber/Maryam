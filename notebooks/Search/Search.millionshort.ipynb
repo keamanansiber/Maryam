{
 "cells": [
  {
   "cell_type": "code",
   "execution_count": 1,
   "id": "38b1a4ca",
   "metadata": {},
   "outputs": [
    {
     "name": "stdout",
     "output_type": "stream",
     "text": [
      "usage: millionshort [-h] -q QUERY [-l LIMIT] [--output] [--api] [--format]\r\n",
      "\r\n",
      "millionshort 0.1(Saeed) - description: Million Short started out as an\r\n",
      "experimental web search engine that allows you to filter and refine your\r\n",
      "search results set.\r\n",
      "\r\n",
      "optional arguments:\r\n",
      "  -h, --help            show this help message and exit\r\n",
      "  -q QUERY, --query QUERY\r\n",
      "                        Query string\r\n",
      "  -l LIMIT, --limit LIMIT\r\n",
      "                        Search limit(number of pages, default=1)\r\n",
      "  --output, --output    Save the output to the workspace\r\n",
      "  --api, --api          Show results in the JSON format\r\n",
      "  --format, --format    Beautifying JSON output if --api is used\r\n"
     ]
    }
   ],
   "source": [
    "!maryam -e millionshort --help"
   ]
  },
  {
   "cell_type": "code",
   "execution_count": 4,
   "id": "0f1c50ca",
   "metadata": {},
   "outputs": [
    {
     "name": "stdout",
     "output_type": "stream",
     "text": [
      "\u001b[94m[*]\u001b[m [MILLIONSHORT] Searching in 1 page...\u001b[m\n",
      "\u001b[93m[!] [util/engines/millionshort:run_crawl] CaptchaError.\u001b[m\n",
      "\u001b[93m[!] [util/engines/millionshort:name_crawl] Millionshort is missed!\u001b[m\n"
     ]
    }
   ],
   "source": [
    "!maryam -e millionshort -q cybersecurity"
   ]
  },
  {
   "cell_type": "code",
   "execution_count": 5,
   "id": "a1c57219",
   "metadata": {},
   "outputs": [
    {
     "name": "stdout",
     "output_type": "stream",
     "text": [
      "{\r\n",
      "    \"results\": [],\r\n",
      "    \"running_errors\": [\r\n",
      "        \"[util/engines/millionshort:run_crawl] CaptchaError.\",\r\n",
      "        \"[util/engines/millionshort:name_crawl] Millionshort is missed!\"\r\n",
      "    ]\r\n",
      "}\r\n"
     ]
    }
   ],
   "source": [
    "!maryam -e millionshort -q suryotrisongko --output --api --format"
   ]
  },
  {
   "cell_type": "code",
   "execution_count": null,
   "id": "77ddaa2c",
   "metadata": {},
   "outputs": [],
   "source": []
  }
 ],
 "metadata": {
  "kernelspec": {
   "display_name": "tf",
   "language": "python",
   "name": "tf"
  },
  "language_info": {
   "codemirror_mode": {
    "name": "ipython",
    "version": 3
   },
   "file_extension": ".py",
   "mimetype": "text/x-python",
   "name": "python",
   "nbconvert_exporter": "python",
   "pygments_lexer": "ipython3",
   "version": "3.9.12"
  }
 },
 "nbformat": 4,
 "nbformat_minor": 5
}
