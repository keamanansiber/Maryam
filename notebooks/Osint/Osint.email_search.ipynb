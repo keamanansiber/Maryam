{
 "cells": [
  {
   "cell_type": "code",
   "execution_count": 1,
   "id": "89992c27",
   "metadata": {},
   "outputs": [
    {
     "name": "stdout",
     "output_type": "stream",
     "text": [
      "usage: email_search [-h] -q QUERY [-l LIMIT] [-c COUNT] -e ENGINES [-k KEY]\r\n",
      "                    [-t THREAD] [--output] [--api] [--format]\r\n",
      "\r\n",
      "email_search 1.0(Saeed) - description: Search in open-sources to find emails.\r\n",
      "\r\n",
      "optional arguments:\r\n",
      "  -h, --help            show this help message and exit\r\n",
      "  -q QUERY, --query QUERY\r\n",
      "                        Domain name or company name\r\n",
      "  -l LIMIT, --limit LIMIT\r\n",
      "                        Search limit(number of pages, default=3)\r\n",
      "  -c COUNT, --count COUNT\r\n",
      "                        number of results per page(min=10, max=100,\r\n",
      "                        default=50)\r\n",
      "  -e ENGINES, --engines ENGINES\r\n",
      "                        Search engine names. e.g bing,google,..\r\n",
      "  -k KEY, --key KEY     Give a valid hunter API key. Limit for free plan is 10\r\n",
      "                        results\r\n",
      "  -t THREAD, --thread THREAD\r\n",
      "                        The number of engine that run per round(default=2)\r\n",
      "  --output, --output    Save the output to the workspace\r\n",
      "  --api, --api          Show results in the JSON format\r\n",
      "  --format, --format    Beautifying JSON output if --api is used\r\n"
     ]
    }
   ],
   "source": [
    "!maryam -e email_search --help"
   ]
  },
  {
   "cell_type": "code",
   "execution_count": 10,
   "id": "29f7487b",
   "metadata": {},
   "outputs": [
    {
     "name": "stdout",
     "output_type": "stream",
     "text": [
      "\u001b[94m[*]\u001b[m [GOOGLE] Searching in 1 page...\u001b[m\n",
      "\u001b[94m[*]\u001b[m [GOOGLE] Searching in 2 page...\u001b[m\n",
      "\u001b[94m[*]\u001b[m [GOOGLE] Searching in 3 page...\u001b[m\n",
      "\u001b[92m[*]\u001b[m EMAILS\n",
      "\u001b[94m[*]\u001b[92m \tpassword@proxy2.its.ac.id\u001b[m\n",
      "\u001b[94m[*]\u001b[92m \tpassword@proxy.its.ac.id\u001b[m\n",
      "\n"
     ]
    }
   ],
   "source": [
    "!maryam -e email_search -q its.ac.id -e google"
   ]
  },
  {
   "cell_type": "code",
   "execution_count": 9,
   "id": "dacd2ae4",
   "metadata": {},
   "outputs": [
    {
     "name": "stdout",
     "output_type": "stream",
     "text": [
      "{\r\n",
      "    \"emails\": [\r\n",
      "        \"felipe.zipitria@owasp.\"\r\n",
      "    ],\r\n",
      "    \"running_errors\": []\r\n",
      "}\r\n"
     ]
    }
   ],
   "source": [
    "!maryam -e email_search -q owasp -e google --output --api --format"
   ]
  },
  {
   "cell_type": "code",
   "execution_count": null,
   "id": "43f4cdcc",
   "metadata": {},
   "outputs": [],
   "source": []
  }
 ],
 "metadata": {
  "kernelspec": {
   "display_name": "tf",
   "language": "python",
   "name": "tf"
  },
  "language_info": {
   "codemirror_mode": {
    "name": "ipython",
    "version": 3
   },
   "file_extension": ".py",
   "mimetype": "text/x-python",
   "name": "python",
   "nbconvert_exporter": "python",
   "pygments_lexer": "ipython3",
   "version": "3.9.12"
  }
 },
 "nbformat": 4,
 "nbformat_minor": 5
}
