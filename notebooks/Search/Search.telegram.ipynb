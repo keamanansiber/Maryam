{
 "cells": [
  {
   "cell_type": "code",
   "execution_count": 1,
   "id": "a19e2d29",
   "metadata": {},
   "outputs": [
    {
     "name": "stdout",
     "output_type": "stream",
     "text": [
      "usage: telegram [-h] -q QUERY [-l LIMIT] [-c COUNT] [-t THREAD] [-e ENGINE]\r\n",
      "                [--output] [--api] [--format]\r\n",
      "\r\n",
      "telegram 0.1(Vikas Kundu) - description: Search the publicly listed telegram\r\n",
      "groups for juicy info like emails, phone numbers etc\r\n",
      "\r\n",
      "optional arguments:\r\n",
      "  -h, --help            show this help message and exit\r\n",
      "  -q QUERY, --query QUERY\r\n",
      "                        Query string\r\n",
      "  -l LIMIT, --limit LIMIT\r\n",
      "                        Search limit(number of pages, default=1)\r\n",
      "  -c COUNT, --count COUNT\r\n",
      "                        Number of results per page(min=10, max=100,\r\n",
      "                        default=50)\r\n",
      "  -t THREAD, --thread THREAD\r\n",
      "                        The number of engine that run per round(default=2)\r\n",
      "  -e ENGINE, --engine ENGINE\r\n",
      "                        Engine names for search(default=telegramchannels.me)\r\n",
      "  --output, --output    Save the output to the workspace\r\n",
      "  --api, --api          Show results in the JSON format\r\n",
      "  --format, --format    Beautifying JSON output if --api is used\r\n"
     ]
    }
   ],
   "source": [
    "!maryam -e telegram --help"
   ]
  },
  {
   "cell_type": "code",
   "execution_count": 2,
   "id": "d71beb0b",
   "metadata": {},
   "outputs": [
    {
     "name": "stdout",
     "output_type": "stream",
     "text": [
      "\u001b[94m[*]\u001b[m [TELEGRAMCHANNELS] Searching in page 1\u001b[m\n",
      "\u001b[94m[*]\u001b[m [Telegramchannels.me ] Searching in channel 1/12\u001b[m\n",
      "\u001b[94m[*]\u001b[m [Telegramchannels.me ] Searching in channel 2/12\u001b[m\n",
      "\u001b[94m[*]\u001b[m [Telegramchannels.me ] Searching in channel 3/12\u001b[m\n",
      "\u001b[94m[*]\u001b[m [Telegramchannels.me ] Searching in channel 4/12\u001b[m\n",
      "\u001b[94m[*]\u001b[m [Telegramchannels.me ] Searching in channel 5/12\u001b[m\n",
      "\u001b[94m[*]\u001b[m [Telegramchannels.me ] Searching in channel 6/12\u001b[m\n",
      "\u001b[94m[*]\u001b[m [Telegramchannels.me ] Searching in channel 7/12\u001b[m\n",
      "\u001b[94m[*]\u001b[m [Telegramchannels.me ] Searching in channel 8/12\u001b[m\n",
      "\u001b[94m[*]\u001b[m [Telegramchannels.me ] Searching in channel 9/12\u001b[m\n",
      "\u001b[94m[*]\u001b[m [Telegramchannels.me ] Searching in channel 10/12\u001b[m\n",
      "\u001b[94m[*]\u001b[m [Telegramchannels.me ] Searching in channel 11/12\u001b[m\n",
      "\u001b[94m[*]\u001b[m [Telegramchannels.me ] Searching in channel 12/12\u001b[m\n",
      "\u001b[92m[*]\u001b[m GROUP-LINKS\n",
      "\u001b[94m[*]\u001b[92m \tt.me/hacktorial\u001b[m\n",
      "\u001b[94m[*]\u001b[92m \tt.me/allabouthack\u001b[m\n",
      "\u001b[94m[*]\u001b[92m \tt.me/thebugbountyhunter\u001b[m\n",
      "\u001b[94m[*]\u001b[92m \tt.me/thesammymove\u001b[m\n",
      "\u001b[94m[*]\u001b[92m \tt.me/musprodev\u001b[m\n",
      "\u001b[94m[*]\u001b[92m \tt.me/sysadm_in_channel\u001b[m\n",
      "\u001b[94m[*]\u001b[92m \tt.me/cibsecurity\u001b[m\n",
      "\u001b[94m[*]\u001b[92m \tt.me/thehackernews\u001b[m\n",
      "\u001b[94m[*]\u001b[92m \tt.me/netflix_bins_and_tricks\u001b[m\n",
      "\u001b[94m[*]\u001b[92m \tt.me/dailychannels\u001b[m\n",
      "\u001b[94m[*]\u001b[92m \tt.me/redhackbroofficial\u001b[m\n",
      "\u001b[94m[*]\u001b[92m \tt.me/metrodev\u001b[m\n",
      "\u001b[92m[*]\u001b[m HANDLES\n",
      "\u001b[94m[*]\u001b[92m \t@DmitriFRI\u001b[m\n",
      "\u001b[94m[*]\u001b[92m \t@context\u001b[m\n",
      "\u001b[94m[*]\u001b[92m \t@thehackernews\u001b[m\n",
      "\u001b[94m[*]\u001b[92m \t@sysadm_in_job\u001b[m\n",
      "\u001b[94m[*]\u001b[92m \t@3\u001b[m\n",
      "\u001b[94m[*]\u001b[92m \t@thesammymoveRoom\u001b[m\n",
      "\u001b[94m[*]\u001b[92m \t@CICALEX\u001b[m\n",
      "\u001b[94m[*]\u001b[92m \t@thesammymoveroom\u001b[m\n",
      "\u001b[94m[*]\u001b[92m \t@username\u001b[m\n",
      "\u001b[94m[*]\u001b[92m \t@1\u001b[m\n",
      "\u001b[94m[*]\u001b[92m \t@dailychannelsbot\u001b[m\n",
      "\u001b[94m[*]\u001b[92m \t@12\u001b[m\n",
      "\u001b[94m[*]\u001b[92m \t@sysadm_in\u001b[m\n",
      "\u001b[94m[*]\u001b[92m \t@sysadminkz\u001b[m\n",
      "\u001b[94m[*]\u001b[92m \t@type\u001b[m\n",
      "\u001b[94m[*]\u001b[92m \t@cryptopumps\u001b[m\n",
      "\u001b[92m[*]\u001b[m PHONE-NUMBERS\n",
      "\u001b[94m[*]\u001b[91m \tWithout result\u001b[m\n",
      "\n"
     ]
    }
   ],
   "source": [
    "!maryam -e telegram -q cybersecurity"
   ]
  },
  {
   "cell_type": "code",
   "execution_count": 1,
   "id": "7ef8d709",
   "metadata": {},
   "outputs": [
    {
     "name": "stdout",
     "output_type": "stream",
     "text": [
      "{\r\n",
      "    \"group-links\": [\r\n",
      "        \"t.me/thebugbountyhunter\",\r\n",
      "        \"t.me/allabouthack\",\r\n",
      "        \"t.me/thehackernews\",\r\n",
      "        \"t.me/thesammymove\",\r\n",
      "        \"t.me/metrodev\",\r\n",
      "        \"t.me/netflix_bins_and_tricks\",\r\n",
      "        \"t.me/musprodev\",\r\n",
      "        \"t.me/sysadm_in_channel\",\r\n",
      "        \"t.me/redhackbroofficial\",\r\n",
      "        \"t.me/cibsecurity\",\r\n",
      "        \"t.me/dailychannels\",\r\n",
      "        \"t.me/hacktorial\"\r\n",
      "    ],\r\n",
      "    \"handles\": [\r\n",
      "        \"@sysadm_in_job\",\r\n",
      "        \"@12\",\r\n",
      "        \"@sysadm_in\",\r\n",
      "        \"@thesammymoveRoom\",\r\n",
      "        \"@username\",\r\n",
      "        \"@CICALEX\",\r\n",
      "        \"@1\",\r\n",
      "        \"@cryptopumps\",\r\n",
      "        \"@DmitriFRI\",\r\n",
      "        \"@thesammymoveroom\",\r\n",
      "        \"@type\",\r\n",
      "        \"@3\",\r\n",
      "        \"@context\",\r\n",
      "        \"@dailychannelsbot\",\r\n",
      "        \"@thehackernews\",\r\n",
      "        \"@sysadminkz\"\r\n",
      "    ],\r\n",
      "    \"phone-numbers\": [],\r\n",
      "    \"running_errors\": []\r\n",
      "}\r\n"
     ]
    }
   ],
   "source": [
    "!maryam -e telegram -q cybersecurity --output --api --format"
   ]
  },
  {
   "cell_type": "code",
   "execution_count": null,
   "id": "b5a578db",
   "metadata": {},
   "outputs": [],
   "source": []
  }
 ],
 "metadata": {
  "kernelspec": {
   "display_name": "tf",
   "language": "python",
   "name": "tf"
  },
  "language_info": {
   "codemirror_mode": {
    "name": "ipython",
    "version": 3
   },
   "file_extension": ".py",
   "mimetype": "text/x-python",
   "name": "python",
   "nbconvert_exporter": "python",
   "pygments_lexer": "ipython3",
   "version": "3.9.12"
  }
 },
 "nbformat": 4,
 "nbformat_minor": 5
}
