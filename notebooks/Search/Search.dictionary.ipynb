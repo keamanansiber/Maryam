{
 "cells": [
  {
   "cell_type": "code",
   "execution_count": 1,
   "id": "d0f43447",
   "metadata": {},
   "outputs": [
    {
     "name": "stdout",
     "output_type": "stream",
     "text": [
      "usage: dictionary [-h] -q QUERY [--output] [--api] [--format]\r\n",
      "\r\n",
      "dictionary 0.1(Kaushik) - description: This module uses an unofficial google\r\n",
      "dictionary api to fetch definitions of query.\r\n",
      "\r\n",
      "optional arguments:\r\n",
      "  -h, --help            show this help message and exit\r\n",
      "  -q QUERY, --query QUERY\r\n",
      "                        Query to search\r\n",
      "  --output, --output    Save the output to the workspace\r\n",
      "  --api, --api          Show results in the JSON format\r\n",
      "  --format, --format    Beautifying JSON output if --api is used\r\n"
     ]
    }
   ],
   "source": [
    "!maryam -e dictionary --help"
   ]
  },
  {
   "cell_type": "code",
   "execution_count": 2,
   "id": "2bb62e9c",
   "metadata": {},
   "outputs": [
    {
     "name": "stdout",
     "output_type": "stream",
     "text": [
      "\u001b[94m[*]\u001b[m Searching Dictionary...\u001b[m\n",
      "\n",
      "\u001b[94m[*]\u001b[m As Noun\u001b[m\n",
      "\u001b[94m[*]\u001b[m Security against electronic attacks such as cyberwarfare.\u001b[m\n"
     ]
    }
   ],
   "source": [
    "!maryam -e dictionary -q cybersecurity"
   ]
  },
  {
   "cell_type": "code",
   "execution_count": 5,
   "id": "deb57f3a",
   "metadata": {},
   "outputs": [
    {
     "name": "stdout",
     "output_type": "stream",
     "text": [
      "{\r\n",
      "    \"results\": [\r\n",
      "        {\r\n",
      "            \"partOfSpeech\": \"Noun\",\r\n",
      "            \"definition\": \"The condition of not being threatened, especially physically, psychologically, emotionally, or financially.\"\r\n",
      "        },\r\n",
      "        {\r\n",
      "            \"partOfSpeech\": \"Noun\",\r\n",
      "            \"definition\": \"Something that secures.\"\r\n",
      "        },\r\n",
      "        {\r\n",
      "            \"partOfSpeech\": \"Noun\",\r\n",
      "            \"definition\": \"An organization or department responsible for providing security by enforcing laws, rules, and regulations as well as maintaining order.\"\r\n",
      "        },\r\n",
      "        {\r\n",
      "            \"partOfSpeech\": \"Noun\",\r\n",
      "            \"definition\": \"Something that secures the fulfillment of an obligation or law.\"\r\n",
      "        },\r\n",
      "        {\r\n",
      "            \"partOfSpeech\": \"Noun\",\r\n",
      "            \"definition\": \"Freedom from apprehension.\"\r\n",
      "        },\r\n",
      "        {\r\n",
      "            \"partOfSpeech\": \"Noun\",\r\n",
      "            \"definition\": \"(often used in plural) A tradeable financial asset, such as a share of stock.W\"\r\n",
      "        },\r\n",
      "        {\r\n",
      "            \"partOfSpeech\": \"Noun\",\r\n",
      "            \"definition\": \"Proof of ownership of stocks, bonds or other investment instruments.\"\r\n",
      "        },\r\n",
      "        {\r\n",
      "            \"partOfSpeech\": \"Noun\",\r\n",
      "            \"definition\": \"Property etc. temporarily relinquished to guarantee repayment of a loan.\"\r\n",
      "        },\r\n",
      "        {\r\n",
      "            \"partOfSpeech\": \"Noun\",\r\n",
      "            \"definition\": \"A guarantee.\"\r\n",
      "        },\r\n",
      "        {\r\n",
      "            \"partOfSpeech\": \"Noun\",\r\n",
      "            \"definition\": \"Carelessness; negligence.\"\r\n",
      "        }\r\n",
      "    ],\r\n",
      "    \"running_errors\": []\r\n",
      "}\r\n"
     ]
    }
   ],
   "source": [
    "!maryam -e dictionary -q security --output --api --format"
   ]
  },
  {
   "cell_type": "code",
   "execution_count": null,
   "id": "1aff0a00",
   "metadata": {},
   "outputs": [],
   "source": []
  }
 ],
 "metadata": {
  "kernelspec": {
   "display_name": "tf",
   "language": "python",
   "name": "tf"
  },
  "language_info": {
   "codemirror_mode": {
    "name": "ipython",
    "version": 3
   },
   "file_extension": ".py",
   "mimetype": "text/x-python",
   "name": "python",
   "nbconvert_exporter": "python",
   "pygments_lexer": "ipython3",
   "version": "3.9.12"
  }
 },
 "nbformat": 4,
 "nbformat_minor": 5
}
