{
 "cells": [
  {
   "cell_type": "code",
   "execution_count": 1,
   "id": "7021fd69",
   "metadata": {},
   "outputs": [
    {
     "name": "stdout",
     "output_type": "stream",
     "text": [
      "usage: reddit [-h] -q QUERY [-l LIMIT] [-c COUNT] [-e ENGINE] [-t THREAD]\r\n",
      "              [-s SEARCH_TYPE] [-u USERNAME] [-r SUBREDDIT] [-b BEFORE]\r\n",
      "              [-a AFTER] [-o SCORE] [--output] [--api] [--format]\r\n",
      "\r\n",
      "reddit 1.0(Kunal Khandelwal) - description: Search your query in the Reddit\r\n",
      "and show the results.\r\n",
      "\r\n",
      "optional arguments:\r\n",
      "  -h, --help            show this help message and exit\r\n",
      "  -q QUERY, --query QUERY\r\n",
      "                        Query string\r\n",
      "  -l LIMIT, --limit LIMIT\r\n",
      "                        Search limit(number of pages, default=1)\r\n",
      "  -c COUNT, --count COUNT\r\n",
      "                        Number of links per page(min=10, max=100, default=50)\r\n",
      "  -e ENGINE, --engine ENGINE\r\n",
      "                        Engine names for search(default=google)\r\n",
      "  -t THREAD, --thread THREAD\r\n",
      "                        The number of engine that run per round(default=2)\r\n",
      "  -s SEARCH_TYPE, --search-type SEARCH_TYPE\r\n",
      "                        Type of search i.e. posts or comments(default=posts)\r\n",
      "  -u USERNAME, --username USERNAME\r\n",
      "                        Search data of a particular username\r\n",
      "  -r SUBREDDIT, --subreddit SUBREDDIT\r\n",
      "                        Search data in a particular subreddit\r\n",
      "  -b BEFORE, --before BEFORE\r\n",
      "                        Search data before this date(format=d/m/y H:M:S) i.e.\r\n",
      "                        7/6/21 12:0:0\r\n",
      "  -a AFTER, --after AFTER\r\n",
      "                        Search data after this date(format=d/m/y H:M:S) i.e.\r\n",
      "                        7/6/21 12:0:0\r\n",
      "  -o SCORE, --score SCORE\r\n",
      "                        Score of the data to search i.e. >1 or <2 etc.\r\n",
      "  --output, --output    Save the output to the workspace\r\n",
      "  --api, --api          Show results in the JSON format\r\n",
      "  --format, --format    Beautifying JSON output if --api is used\r\n"
     ]
    }
   ],
   "source": [
    "!maryam -e reddit --help"
   ]
  },
  {
   "cell_type": "code",
   "execution_count": 5,
   "id": "d0eac97b",
   "metadata": {},
   "outputs": [
    {
     "name": "stdout",
     "output_type": "stream",
     "text": [
      "\u001b[94m[*]\u001b[m [GOOGLE] Searching in 1 page...\u001b[m\n",
      "\u001b[92m[*]\u001b[m usernames\n",
      "\u001b[92m[*]\u001b[m links\n",
      "\u001b[94m[*]\u001b[m \tAny Advice For People New To The Cybersecurity => r/cybersecurity\u001b[m\n",
      "\u001b[94m[*]\u001b[92m \t\thttps://www.reddit.com/r/cybersecurity/comments/tycx7u/any_advice_for_people_new_to_the_cybersecurity/\u001b[m\n",
      "\u001b[94m[*]\u001b[m \tBreaking In => r/cybersecurity\u001b[m\n",
      "\u001b[94m[*]\u001b[92m \t\thttps://www.reddit.com/r/cybersecurity/wiki/faq/breaking_in\u001b[m\n",
      "\u001b[94m[*]\u001b[m \tGetting Interested In Cybersecurity => r/cybersecurity\u001b[m\n",
      "\u001b[94m[*]\u001b[92m \t\thttps://www.reddit.com/r/cybersecurity/comments/uh7nvb/getting_interested_in_cybersecurity/\u001b[m\n",
      "\u001b[94m[*]\u001b[m \tSelf Learning Cybersecurity => r/cybersecurity\u001b[m\n",
      "\u001b[94m[*]\u001b[92m \t\thttps://www.reddit.com/r/cybersecurity/comments/tudse3/self_learning_cybersecurity/\u001b[m\n",
      "\u001b[94m[*]\u001b[m \tLooking To Get Into Cyber Security => r/cybersecurity\u001b[m\n",
      "\u001b[94m[*]\u001b[92m \t\thttps://www.reddit.com/r/cybersecurity/comments/uckdo7/looking_to_get_into_cyber_security/\u001b[m\n"
     ]
    }
   ],
   "source": [
    "!maryam -e reddit -q cybersecurity"
   ]
  },
  {
   "cell_type": "code",
   "execution_count": 6,
   "id": "64d34a6f",
   "metadata": {},
   "outputs": [
    {
     "name": "stdout",
     "output_type": "stream",
     "text": [
      "{\r\n",
      "    \"links\": [],\r\n",
      "    \"usernames\": [],\r\n",
      "    \"running_errors\": []\r\n",
      "}\r\n"
     ]
    }
   ],
   "source": [
    "!maryam -e reddit -q suryotrisongko --output --api --format"
   ]
  },
  {
   "cell_type": "code",
   "execution_count": null,
   "id": "ad083bdb",
   "metadata": {},
   "outputs": [],
   "source": []
  }
 ],
 "metadata": {
  "kernelspec": {
   "display_name": "tf",
   "language": "python",
   "name": "tf"
  },
  "language_info": {
   "codemirror_mode": {
    "name": "ipython",
    "version": 3
   },
   "file_extension": ".py",
   "mimetype": "text/x-python",
   "name": "python",
   "nbconvert_exporter": "python",
   "pygments_lexer": "ipython3",
   "version": "3.9.12"
  }
 },
 "nbformat": 4,
 "nbformat_minor": 5
}
