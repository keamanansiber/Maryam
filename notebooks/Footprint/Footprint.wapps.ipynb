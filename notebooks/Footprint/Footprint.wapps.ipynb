{
 "cells": [
  {
   "cell_type": "code",
   "execution_count": 1,
   "id": "2b8708de",
   "metadata": {},
   "outputs": [
    {
     "name": "stdout",
     "output_type": "stream",
     "text": [
      "usage: wapps [-h] -d DOMAIN [--output] [--api] [--format]\r\n",
      "\r\n",
      "wapps 0.3(Saeed) - description: Web fingerprinting to identify the\r\n",
      "applications used with over 1000 pyload.\r\n",
      "\r\n",
      "optional arguments:\r\n",
      "  -h, --help            show this help message and exit\r\n",
      "  -d DOMAIN, --domain DOMAIN\r\n",
      "                        Domain string\r\n",
      "  --output, --output    Save the output to the workspace\r\n",
      "  --api, --api          Show results in the JSON format\r\n",
      "  --format, --format    Beautifying JSON output if --api is used\r\n"
     ]
    }
   ],
   "source": [
    "!maryam -e wapps --help"
   ]
  },
  {
   "cell_type": "code",
   "execution_count": 2,
   "id": "fbebb7cb",
   "metadata": {},
   "outputs": [
    {
     "name": "stdout",
     "output_type": "stream",
     "text": [
      "\u001b[92m[*]\u001b[m WAF\r\n",
      "\u001b[94m[*]\u001b[92m \tCacheWall (Varnish)\u001b[m\r\n",
      "\u001b[92m[*]\u001b[m WAPPS\r\n",
      "\u001b[92m[*]\u001b[m \tAKAMAI\r\n",
      "\u001b[94m[*]\u001b[92m \t\thttp://akamai.com\u001b[m\r\n",
      "\u001b[92m[*]\u001b[m \tPHP\r\n",
      "\u001b[94m[*]\u001b[92m \t\thttp://php.net\u001b[m\r\n",
      "\u001b[92m[*]\u001b[m \tVARNISH\r\n",
      "\u001b[94m[*]\u001b[92m \t\thttp://www.varnish-cache.org\u001b[m\r\n",
      "\u001b[92m[*]\u001b[m \tDRUPAL\r\n",
      "\u001b[94m[*]\u001b[92m \t\thttps://drupal.org\u001b[m\r\n",
      "\r\n",
      "\u001b[92m[*]\u001b[m OS\r\n",
      "\u001b[94m[*]\u001b[m \tEtch\u001b[m\r\n",
      "\u001b[92m[*]\u001b[m CMS\r\n",
      "\u001b[94m[*]\u001b[m \tDrupal\u001b[m\r\n",
      "\r\n"
     ]
    }
   ],
   "source": [
    "!maryam -e wapps -d ibm.com"
   ]
  },
  {
   "cell_type": "code",
   "execution_count": 3,
   "id": "c9f66b51",
   "metadata": {},
   "outputs": [
    {
     "name": "stdout",
     "output_type": "stream",
     "text": [
      "\u001b[92m[*]\u001b[m WAF\r\n",
      "\u001b[94m[*]\u001b[91m \tWithout result\u001b[m\r\n",
      "\u001b[92m[*]\u001b[m WAPPS\r\n",
      "\u001b[92m[*]\u001b[m \tGOOGLE FONT API\r\n",
      "\u001b[94m[*]\u001b[92m \t\thttp://google.com/fonts\u001b[m\r\n",
      "\u001b[92m[*]\u001b[m \tMYSQL\r\n",
      "\u001b[94m[*]\u001b[92m \t\thttp://mysql.com\u001b[m\r\n",
      "\u001b[92m[*]\u001b[m \tPHP\r\n",
      "\u001b[94m[*]\u001b[92m \t\thttp://php.net\u001b[m\r\n",
      "\u001b[92m[*]\u001b[m \tWORDPRESS\r\n",
      "\u001b[94m[*]\u001b[92m \t\thttps://wordpress.org\u001b[m\r\n",
      "\r\n",
      "\u001b[92m[*]\u001b[m CMS\r\n",
      "\u001b[94m[*]\u001b[m \tWordPress\u001b[m\r\n",
      "\r\n"
     ]
    }
   ],
   "source": [
    "!maryam -e wapps -d its.ac.id --output"
   ]
  },
  {
   "cell_type": "code",
   "execution_count": 4,
   "id": "bcfd14c1",
   "metadata": {},
   "outputs": [
    {
     "name": "stdout",
     "output_type": "stream",
     "text": [
      "{\r\n",
      "    \"waf\": [],\r\n",
      "    \"wapps\": {\r\n",
      "        \"MySQL\": \"http://mysql.com\",\r\n",
      "        \"PHP\": \"http://php.net\",\r\n",
      "        \"WordPress\": \"https://wordpress.org\",\r\n",
      "        \"Google Font API\": \"http://google.com/fonts\",\r\n",
      "        \"W3 Total Cache\": \"http://www.w3-edge.com/wordpress-plugins/w3-total-cache\"\r\n",
      "    },\r\n",
      "    \"os\": \"Etch\",\r\n",
      "    \"cms\": \"WordPress\",\r\n",
      "    \"running_errors\": []\r\n",
      "}\r\n"
     ]
    }
   ],
   "source": [
    "!maryam -e wapps -d keamanansiber.id --output --api --format"
   ]
  },
  {
   "cell_type": "code",
   "execution_count": null,
   "id": "38448df3",
   "metadata": {},
   "outputs": [],
   "source": []
  }
 ],
 "metadata": {
  "kernelspec": {
   "display_name": "tf",
   "language": "python",
   "name": "tf"
  },
  "language_info": {
   "codemirror_mode": {
    "name": "ipython",
    "version": 3
   },
   "file_extension": ".py",
   "mimetype": "text/x-python",
   "name": "python",
   "nbconvert_exporter": "python",
   "pygments_lexer": "ipython3",
   "version": "3.9.12"
  }
 },
 "nbformat": 4,
 "nbformat_minor": 5
}
