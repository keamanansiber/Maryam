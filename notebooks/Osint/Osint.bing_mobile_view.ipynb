{
 "cells": [
  {
   "cell_type": "code",
   "execution_count": 1,
   "id": "d0861be8",
   "metadata": {},
   "outputs": [
    {
     "name": "stdout",
     "output_type": "stream",
     "text": [
      "usage: bing_mobile_view [-h] -u URL [-b BLACKLIST] [-r RETRIES] [--output]\r\n",
      "                        [--api] [--format]\r\n",
      "\r\n",
      "bing_mobile_view 0.1(Vikas Kundu) - description: Get screenshot of a URL in\r\n",
      "Bing mobile friendly view\r\n",
      "\r\n",
      "optional arguments:\r\n",
      "  -h, --help            show this help message and exit\r\n",
      "  -u URL, --url URL     URL whose mobile screenshot needs to be taken\r\n",
      "  -b BLACKLIST, --blacklist BLACKLIST\r\n",
      "                        If this image is found retry,\r\n",
      "                        available=[linkedin_authwall_en, add-your-custom]\r\n",
      "  -r RETRIES, --retries RETRIES\r\n",
      "                        Number of times to try again if blacklist image found,\r\n",
      "                        default=2\r\n",
      "  --output, --output    Save the output to the workspace\r\n",
      "  --api, --api          Show results in the JSON format\r\n",
      "  --format, --format    Beautifying JSON output if --api is used\r\n"
     ]
    }
   ],
   "source": [
    "!maryam -e bing_mobile_view --help"
   ]
  },
  {
   "cell_type": "code",
   "execution_count": 4,
   "id": "effabf85",
   "metadata": {},
   "outputs": [
    {
     "name": "stdout",
     "output_type": "stream",
     "text": [
      "\u001b[94m[*]\u001b[m [Bing Mobile View] Fetching mobile view of the URL...\u001b[m\n",
      "\u001b[93m[!] [bing_mobile_view:opt_proc] File \"/home/hatma/anaconda3/envs/tf/lib/python3.9/site-packages/maryam-2.5.1.post0-py3.9.egg/maryam/modules/osint/bing_mobile_view.py\", line 106, in module_api.\u001b[m\n",
      "\u001b[93m[!] [bing_mobile_view:opt_proc] FileNotFoundError: [Errno 2] No such file or directory: '/home/hatma/anaconda3/envs/tf/lib/python3.9/site-packages/maryam-2.5.1.post0-py3.9.egg/maryam/data/images/owasp.org'.\u001b[m\n"
     ]
    }
   ],
   "source": [
    "!maryam -e bing_mobile_view -u owasp.org"
   ]
  },
  {
   "cell_type": "code",
   "execution_count": 5,
   "id": "49445eed",
   "metadata": {},
   "outputs": [
    {
     "name": "stdout",
     "output_type": "stream",
     "text": [
      "\u001b[93m[!] [bing_mobile_view:opt_proc] File \"/home/hatma/anaconda3/envs/tf/lib/python3.9/site-packages/maryam-2.5.1.post0-py3.9.egg/maryam/modules/osint/bing_mobile_view.py\", line 106, in module_api.\u001b[m\r\n",
      "\u001b[93m[!] [bing_mobile_view:opt_proc] FileNotFoundError: [Errno 2] No such file or directory: '/home/hatma/anaconda3/envs/tf/lib/python3.9/site-packages/maryam-2.5.1.post0-py3.9.egg/maryam/data/images/its.ac.id'.\u001b[m\r\n"
     ]
    }
   ],
   "source": [
    "!maryam -e bing_mobile_view -u its.ac.id --output --api --format"
   ]
  },
  {
   "cell_type": "code",
   "execution_count": null,
   "id": "905d9eb4",
   "metadata": {},
   "outputs": [],
   "source": []
  }
 ],
 "metadata": {
  "kernelspec": {
   "display_name": "tf",
   "language": "python",
   "name": "tf"
  },
  "language_info": {
   "codemirror_mode": {
    "name": "ipython",
    "version": 3
   },
   "file_extension": ".py",
   "mimetype": "text/x-python",
   "name": "python",
   "nbconvert_exporter": "python",
   "pygments_lexer": "ipython3",
   "version": "3.9.12"
  }
 },
 "nbformat": 4,
 "nbformat_minor": 5
}
