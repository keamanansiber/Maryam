{
 "cells": [
  {
   "cell_type": "code",
   "execution_count": 1,
   "id": "3f017393",
   "metadata": {},
   "outputs": [
    {
     "name": "stdout",
     "output_type": "stream",
     "text": [
      "usage: github_leaks [-h] -q QUERY [-l LIMIT] [-c COUNT] [-e ENGINE]\r\n",
      "                    [-t THREAD] [--output] [--api] [--format]\r\n",
      "\r\n",
      "github_leaks 0.1(Aman Singh) - description: Search your query in the GitHub\r\n",
      "and show the potentially leaked info.\r\n",
      "\r\n",
      "optional arguments:\r\n",
      "  -h, --help            show this help message and exit\r\n",
      "  -q QUERY, --query QUERY\r\n",
      "                        Query string\r\n",
      "  -l LIMIT, --limit LIMIT\r\n",
      "                        Search limit(number of pages, default=1)\r\n",
      "  -c COUNT, --count COUNT\r\n",
      "                        Number of links per page(min=10, max=100, default=50)\r\n",
      "  -e ENGINE, --engine ENGINE\r\n",
      "                        Engine names for search(default=google, github)\r\n",
      "  -t THREAD, --thread THREAD\r\n",
      "                        The number of engine that run per round(default=2)\r\n",
      "  --output, --output    Save the output to the workspace\r\n",
      "  --api, --api          Show results in the JSON format\r\n",
      "  --format, --format    Beautifying JSON output if --api is used\r\n"
     ]
    }
   ],
   "source": [
    "!maryam -e github_leaks --help"
   ]
  },
  {
   "cell_type": "code",
   "execution_count": 6,
   "id": "63b8b499",
   "metadata": {},
   "outputs": [
    {
     "name": "stdout",
     "output_type": "stream",
     "text": [
      "\r\n",
      "\r\n",
      "\u001b[92m[*]\u001b[m Links\r\n",
      "\r\n"
     ]
    }
   ],
   "source": [
    "!maryam -e github_leaks -q owasp -e github"
   ]
  },
  {
   "cell_type": "code",
   "execution_count": 7,
   "id": "98655b72",
   "metadata": {},
   "outputs": [
    {
     "name": "stdout",
     "output_type": "stream",
     "text": [
      "{\r\n",
      "    \"links\": {},\r\n",
      "    \"running_errors\": []\r\n",
      "}\r\n"
     ]
    }
   ],
   "source": [
    "!maryam -e github_leaks -q maryam -e github --output --api --format"
   ]
  },
  {
   "cell_type": "code",
   "execution_count": null,
   "id": "e0b9650e",
   "metadata": {},
   "outputs": [],
   "source": []
  }
 ],
 "metadata": {
  "kernelspec": {
   "display_name": "tf",
   "language": "python",
   "name": "tf"
  },
  "language_info": {
   "codemirror_mode": {
    "name": "ipython",
    "version": 3
   },
   "file_extension": ".py",
   "mimetype": "text/x-python",
   "name": "python",
   "nbconvert_exporter": "python",
   "pygments_lexer": "ipython3",
   "version": "3.9.12"
  }
 },
 "nbformat": 4,
 "nbformat_minor": 5
}
