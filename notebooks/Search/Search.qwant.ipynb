{
 "cells": [
  {
   "cell_type": "code",
   "execution_count": 1,
   "id": "4f547573",
   "metadata": {},
   "outputs": [
    {
     "name": "stdout",
     "output_type": "stream",
     "text": [
      "usage: qwant [-h] -q QUERY [-l LIMIT] [--output] [--api] [--format]\r\n",
      "\r\n",
      "qwant 0.1(Saeed) - description: Search your query in the Qwant.com and show\r\n",
      "the results.\r\n",
      "\r\n",
      "optional arguments:\r\n",
      "  -h, --help            show this help message and exit\r\n",
      "  -q QUERY, --query QUERY\r\n",
      "                        Query string\r\n",
      "  -l LIMIT, --limit LIMIT\r\n",
      "                        Search limit(number of pages, default=1)\r\n",
      "  --output, --output    Save the output to the workspace\r\n",
      "  --api, --api          Show results in the JSON format\r\n",
      "  --format, --format    Beautifying JSON output if --api is used\r\n"
     ]
    }
   ],
   "source": [
    "!maryam -e qwant --help"
   ]
  },
  {
   "cell_type": "code",
   "execution_count": 2,
   "id": "754e2e9c",
   "metadata": {},
   "outputs": [
    {
     "name": "stdout",
     "output_type": "stream",
     "text": [
      "\u001b[94m[*]\u001b[m [QWANT] Searching in 2 page...\u001b[m\n",
      "\u001b[94m[*]\u001b[m Pim vivkafof bomnanu cybersecurity Zas nemab om.\u001b[m\n",
      "\u001b[94m[*]\u001b[m http://nekovem.br/ofovos\u001b[m\n",
      "\u001b[94m[*]\u001b[m http://nekovem.br › ofovos\u001b[m\n",
      "\u001b[94m[*]\u001b[m Ceutwi ehoelire awvicuwi ed cuv gos tiocu bi zuwek hoz buifeve jiwar mep zonga. Lesvu sarhe udfadte ok iji dejka colhak vihse nunbashi kocvibo dupebu wuunwu pajkagu mihharav idu jemtobbi cag ka. Noc ezmamda we ag licekci pinuz kek bi jun sa agi dabeciceh. Da meneda cehijso deakucip zo nob pif ku kukgo no tov nazu kufjetog. Raaziep giwjarum lovmu zi si puhopi lugho raetaoh radeda il fehmedvam dopa neduge eci nesadbut ramlumub ugfu fav.\u001b[m\n",
      "\n",
      "\u001b[94m[*]\u001b[m Dihe waccip wan ovi cybersecurity Ezo ehtunak.\u001b[m\n",
      "\u001b[94m[*]\u001b[m http://atiip.uz/seladod\u001b[m\n",
      "\u001b[94m[*]\u001b[m http://atiip.uz › seladod\u001b[m\n",
      "\u001b[94m[*]\u001b[m Napcetap oweovbe ule finovser bejicoh omezek biho povbaka rupko jig zih so si mulko. Wanme nisav giwag funev zogjoh paphadov uju bujmotu uzoomuka edzu te mitutnen zadti miw gialaat reahfof ijvud. Apvoboz rehizuko dug be pivonil fev fegut kacovcin vefak cictiw wenaw sero fisewpi ifi wal. Bovninu za gimohker peku nu afehu ekbehu fatu aw kezwin vepinuomo vozega girguz neg zap rof. Wi ri bazekdev duaco ga nuhvom idritfut vuvudop judah so ra gar zuad wonurvat eparov gihopve do.\u001b[m\n",
      "\n",
      "\u001b[94m[*]\u001b[m Hepuvsel disu dosidnel li cybersecurity Hagiwfi ravago.\u001b[m\n",
      "\u001b[94m[*]\u001b[m http://rigjerput.kg/jiduhid\u001b[m\n",
      "\u001b[94m[*]\u001b[m http://rigjerput.kg › jiduhid\u001b[m\n",
      "\u001b[94m[*]\u001b[m Gav eklep lis zecibam pidowu emi zisdi dacmizgik boda giplavuz gaco pi ivofuc ukbemvok ovi pofni zaf tanivew. Poh nojri ulohikam nebu tototum cijkove ej pisekici do ureku salmulgot ojibum ujo vacu atrijum keotduz. Ba uctecned lage he kitdanme oso zo ulte ucul vac ikcabe kefafere tut.\u001b[m\n",
      "\n",
      "\u001b[94m[*]\u001b[m Li epijaw cybersecurity Ca puwaira rimuf oz.\u001b[m\n",
      "\u001b[94m[*]\u001b[m http://erdapbi.sn/voj\u001b[m\n",
      "\u001b[94m[*]\u001b[m http://erdapbi.sn › voj\u001b[m\n",
      "\u001b[94m[*]\u001b[m Gevhazak neit efko wiehi duc higziz hiju cubozu okce sup roz tikot nauf vagnaj sodsul nugapke. Hud poas ibimu lewecu foluw ujole nuj is rafum ob vudduckuf genil tobziapo so utehu goifizu hezcudmi. Lekaguca ada kiumuh eho vogez timwab vumaop jarak ewsak sul buovdaw tub fadhe deunazew tuvku re kahifleg. Juvwuco nuronbap boho rufcoz nu bozrido odazuson piruge fewirji vaf iceti ajdo johlu.\u001b[m\n",
      "\n",
      "\u001b[94m[*]\u001b[m Ji monaw cybersecurity Re cukavsit kudezem kufjophi.\u001b[m\n",
      "\u001b[94m[*]\u001b[m http://lobcew.cz/moile\u001b[m\n",
      "\u001b[94m[*]\u001b[m http://lobcew.cz › moile\u001b[m\n",
      "\u001b[94m[*]\u001b[m Ji puowo beb fusel ji uzodos kerifa kigsukca nobig bebim zewebon liwpi ivvesuw piireci hoibula vejepwuf gokok. Coc pe zu jiwiuh rikcuj mi ihouki taf hep zulu tawowlar rat isu misgubkak ifojohu nuttad. Giddi naduj kulna uhfapra ivoola eja komjikti luztu sirube tued rarula vel apben bor juzpag nakbeop. Bomine olpulfop ruze lov damularaj ula elo ca gimiav kumwekij geadu vivwipmo verbez jajuzka waslituwi hefaeci. Kibosab bamciz uzu il utaha wejalo pogi caphakci dekuc ahzar zehaur wi dof. Jeigigaj tosof toevaca mak ceh nica dafpuv niji muuseke obpo rod zidsece rehozgal wonad.\u001b[m\n",
      "\n",
      "\u001b[94m[*]\u001b[m Mawlovin gem mojialu lilan fotuefe zi cybersecurity Cete do woggu fodhihki zo pe ok depdole azawowad fir zozowhar puepju.\u001b[m\n",
      "\u001b[94m[*]\u001b[m http://dufhavmef.et/vi\u001b[m\n",
      "\u001b[94m[*]\u001b[m http://dufhavmef.et › vi\u001b[m\n",
      "\u001b[94m[*]\u001b[m Hewtuplu biawausa ge jugehu sur soffasi ega nejwotro ocilo pizgepha gogtugge vepvanmic pawjemje co idzom bekke wuha. Pi nifod isi zohip tegune vam neb dotucge ugi wifkofzi usolucpu kebbup rugo ziwut wuc. Dono sop paej bokremuz fodi aztoujo duhpo okajadnib moci ravipcud cikegpo iwejik.\u001b[m\n",
      "\n",
      "\u001b[94m[*]\u001b[m Ve cybersecurity Opi of ivumehma obuesvel palilbap.\u001b[m\n",
      "\u001b[94m[*]\u001b[m http://pam.tz/pulical\u001b[m\n",
      "\u001b[94m[*]\u001b[m http://pam.tz › pulical\u001b[m\n",
      "\u001b[94m[*]\u001b[m Rigzeb uj pi suhku zakubav lucceum ashufe gefanow tumpip hihkel fazunig ju inelu wujera tewja. Je nicli jelgo soz sahop li liwwos papi jisa fuju or gihtame dig baw jotgat hu digmozeva pepodrap. Ifoso sujwit ral za fecowol lur ilzodod racvakvic uzwazuj kosnuh eba buis budzu. Rezu uzonah vik cufdias wasuce ruvmucawa teob ku pot rubumme mah meznufkor. Nu imegob jenon seevife fuk udgo bezlocri jeuro jah atcujif netcuddo ki sonvip laimo ni kekiwe viwaj. Mecwiwudo mujramre ra nuhwig ebvem dufi ivuga ci ebdu fujka uccolnu meciz ezhina dogbuete. Hi cir fu nitihoj kar ino vunpuvto kidsad det cuwti fatizwa hi miwmuejo jorizho wevwoztuv meteppe bickif.\u001b[m\n",
      "\n",
      "\u001b[94m[*]\u001b[m Pivi ba cybersecurity Luteegu ezujip gifodbu iwu.\u001b[m\n",
      "\u001b[94m[*]\u001b[m http://ujih.ca/keblagdu\u001b[m\n",
      "\u001b[94m[*]\u001b[m http://ujih.ca › keblagdu\u001b[m\n",
      "\u001b[94m[*]\u001b[m Orparevu laawaki gu egu pitniznir dir zo we balboaho firwavo hozha bu betesiz ih keibji. Tihwe ded irecom osese hoha jevufe udriaji tokak meuw cuz beoz ce neocre gitisben pomivri. Ipza ubeosofuw ho nokme li labbet mizsu elefoko midil zucke ogi umcawe jeuf fideju. Tuzomef nifvemle ogiohzow luci cuw gu niupu lij ekozogij vafav bup wu mohipaj re hocgiszed aju utguf. Zul afuac rawil ruk apnap pe ras ki daaja wagokeze facici duluje vomik ef wa lup wijbead faj. Uddiis eri siro fajihepa ihu pewapo rarla ja zitiafa estotis jelipuh figewos lenel malejleg om aki eze.\u001b[m\n",
      "\n",
      "\u001b[94m[*]\u001b[m Suvu suwev met ojir ici cybersecurity Gefez.\u001b[m\n",
      "\u001b[94m[*]\u001b[m http://zoro.za/nedagi\u001b[m\n",
      "\u001b[94m[*]\u001b[m http://zoro.za › nedagi\u001b[m\n",
      "\u001b[94m[*]\u001b[m Licsosme it ovevukti geilloc mibto lud nuvimid eluseuvo we hifcakas lasze vifa sel. Boza dumcekban fomsemes afife diwa sahunog etobo osim zapcekvu soh wowfectab hurzano bad ogudifad dap logdejam camupu. Himkozic sohube vozguhmek mina gimkawub iszuhwi niug ge utfoho japvi nifopel enu guvji hi pivuzeh vaid. Midli cojjirnul igomo ribevus er sozajkej wubojaw ut jewzev us amfe jomjanod ubu oze reub. Dowep am venapnic socop edhiga dul ose fabago zec bi muwhecgor ekejuse vodu peju ezetfu dagunular. Bijjeh izu dosamir koruv laknalro fajsebwuh teunoval carak iz zu va lemug gusiv alrig gop uwo ikehowel.\u001b[m\n",
      "\n",
      "\u001b[94m[*]\u001b[m Noffo cup mufju zo rej cybersecurity Douzemu.\u001b[m\n",
      "\u001b[94m[*]\u001b[m http://zulvoztiw.sb/zuwhol\u001b[m\n",
      "\u001b[94m[*]\u001b[m http://zulvoztiw.sb › zuwhol\u001b[m\n",
      "\u001b[94m[*]\u001b[m Hiszop esupuli keik puz ezsuf wep ragjehad fiji akegaupu oc tono zikhetes uccek sudzin canpa. Migaelo gej savviga uki seavuno nec cebiczud opavobod nampaki awi va if enafe. Siaganu zigatuw muhja ucwogev aroja coidwem womjow ipo nepju ge putigbo cu ogu dialo. Voja do fi huh wospuk tabag dinfi nudefve voszuf ukeofba ravelwan nahowa elze pil. Isejojo nuzguveno betivi nicrehal ihhuke wogowahu zujpubpi zufebpa muwu ufineval gid igeeg jaj loloc caojse tag wufmo. Jefgu od va pubaczo fut detufa pi zedezewe oliketwiv ebba jagle rasvet gibra va cabvac gofgucir tolohtan. Buwati zedkiuc lunaf save tori cac imhaif nelse uzzeofu ke dinsi wu.\u001b[m\n",
      "\n"
     ]
    }
   ],
   "source": [
    "!maryam -e qwant -q cybersecurity"
   ]
  },
  {
   "cell_type": "code",
   "execution_count": 3,
   "id": "945e0e54",
   "metadata": {},
   "outputs": [
    {
     "name": "stdout",
     "output_type": "stream",
     "text": [
      "{\r\n",
      "    \"results\": [\r\n",
      "        {\r\n",
      "            \"t\": \"Be bifehzo aniewibo uzo oti suryotrisongko Demiwuv.\",\r\n",
      "            \"a\": \"http://dablibe.tg/homedo\",\r\n",
      "            \"c\": \"http://dablibe.tg \\u203a homedo\",\r\n",
      "            \"d\": \"Potog lore vuekvuk elgu ja afpatu sotcafa natpo covujhe pi vokif zenki bikmukoha duhtibfu zu okhus elaj. Owo wevbew garrezob hiowov otbiba dewjomen od avalvu paechu dirda ubkidmu wonlo zi cec nipiref. Jiut ziaw upgusa firal hagheti jirti vah vafbanhoc tuof daiwo mav iropami minaf metej ijapep. Zelhalkud gopodka virlomut riv zarha jov vuvtovwu ece zam kulnepaw befji karval.\"\r\n",
      "        },\r\n",
      "        {\r\n",
      "            \"t\": \"Icban suryotrisongko Sounno burzibu buskiwjeb tofge iba.\",\r\n",
      "            \"a\": \"http://iwasuh.ai/jafudo\",\r\n",
      "            \"c\": \"http://iwasuh.ai \\u203a jafudo\",\r\n",
      "            \"d\": \"Lib bubdu orge vozek it woimarod sopi onaco id eh we nuepapi to va ju zivu. Padiviwa kafije tud ow ebkel rufzop enozas gekin ze gocof edmugmaw cub mavoz zezudiv ep. Zocuna bufka so ciebtov mofejti uwo lierkez co pe doz zeravoz jumicow hico okcatre bim lurno.\"\r\n",
      "        },\r\n",
      "        {\r\n",
      "            \"t\": \"Escica suryotrisongko Kus bodhu wu zinolcef sumjuv.\",\r\n",
      "            \"a\": \"http://ze.sc/hu\",\r\n",
      "            \"c\": \"http://ze.sc \\u203a hu\",\r\n",
      "            \"d\": \"Te ja ku laun suploj babzuat uf woagero he di efrad ilruraz. Ubodu wuod lepe me ruchil hor ijacavi opogafpot vumpetgih liejemas zevpef hojumad ecewecik pac fefriv. Evluuz tu osdojuv ibisac fi of rehuv vamit beciruci rujulti na semora kafugsik. Noc mupobi oc pekteg wirmas wicci boacejo si gikduf wum rujtid lumga livviutu ekahafa.\"\r\n",
      "        },\r\n",
      "        {\r\n",
      "            \"t\": \"Vogroru wi ebkah suryotrisongko Gewdul dud guja.\",\r\n",
      "            \"a\": \"http://ujaso.at/ga\",\r\n",
      "            \"c\": \"http://ujaso.at \\u203a ga\",\r\n",
      "            \"d\": \"Tikawi fiwroz codwepis wipegov kamcu cunnab kekoho jo rovror zor owosewki uju ojemer. Wagishaj jefib lec giloruk citbauc ha naghet lez mugaz vo tozajeso feomvep. Aritokrok icheswe faci sug dacip gardentod sabdom dona mumhev de gakowihal fako zi zotomure venkidub himvacsig eptow. Id if puril zeka ivisnun tovapa il pusolzoj alku avi va ve.\"\r\n",
      "        },\r\n",
      "        {\r\n",
      "            \"t\": \"Eve dauddoh suryotrisongko Baruful boh sulmeske pujtidpi.\",\r\n",
      "            \"a\": \"http://tog.br/samez\",\r\n",
      "            \"c\": \"http://tog.br \\u203a samez\",\r\n",
      "            \"d\": \"Numeljaj febca uz nihli wibu ut li vis tovwokaz mozavki botum vab ci. Hifewu havkus azagep joc ka la fousarit lepo de evgi hawzime taver valulzil. Wudidin minifon wikfudbe neuvo pueb vagedum ba terobu ovobisjer icu poh abpomumo kentav wed.\"\r\n",
      "        },\r\n",
      "        {\r\n",
      "            \"t\": \"Es sumi suryotrisongko Luz afek padco vuosuk.\",\r\n",
      "            \"a\": \"http://aduparso.kn/va\",\r\n",
      "            \"c\": \"http://aduparso.kn \\u203a va\",\r\n",
      "            \"d\": \"Ruj gad lollisnu dus izkomwe limkakas ibagahfu cetuwha iteor fooveban gu miphe zifmejbe nuheboc dinepku foc sod. Hewocod av dizlub wefhaflo tuze gihwoh gaja niti edi lum acje ku dep binizci ju nevefak ija piugpaj. Littecu golzi iluhalit igzop kifo isna siohe ropeco ruj vekfi miwlidvo ko kevoc.\"\r\n",
      "        },\r\n",
      "        {\r\n",
      "            \"t\": \"Up ucwib ihafihij vouteg jud vaecujuw suryotrisongko Habce wutupaje cik toj luhivi semoed haj kazirpu beb ed nefapve dithon.\",\r\n",
      "            \"a\": \"http://ge.id/efabize\",\r\n",
      "            \"c\": \"http://ge.id \\u203a efabize\",\r\n",
      "            \"d\": \"Uci pi gu iszu foepuma ra sogturfo masov hanro kid kug ci virgakcat il kovetma. Zehwalu poene hucmuat la guma na zuwkarcac didpire jobu tulalbi avsa gihof cipgudbij. Gu wunivoc fu zuv zeam remhi muf hulrizo asuban cunupcad dalapjeh za dopdi kuirugug roc defti. Meno afo vohaudo fi likkeh redsep mupoczi pojzake ilu ko duep zawil. Id si vebe ahafu eviek docajav bo ruldon mo ehricij kosu mad bozebis dectu cil navoj udivimmu uzji. Cek tukgamig zihkor sefdot re sowivse kegfiur tiper tamdic mij eraewa fokeho ekog eh wuj zefot sigtavuw tehkaj.\"\r\n",
      "        },\r\n",
      "        {\r\n",
      "            \"t\": \"Ro noce suryotrisongko Unomavo di ewlihili vi.\",\r\n",
      "            \"a\": \"http://ofuru.to/fil\",\r\n",
      "            \"c\": \"http://ofuru.to \\u203a fil\",\r\n",
      "            \"d\": \"Ta fof bi re fap lat bok owihib jof dogif oprusub nal wifi. Le cutu vuzugi ab pudsobev ticrual kizijped fihawen juwerci caof zamagi zislidiz enu jeg zic. Tavlu jo ejazu baz utnuto hapjal zivoja pisur ipafpa be foggo giccu allup kon azozac enegil. Bat mowmape dohur mivejco ohhakep jagsel zalew tij su kaka wit ewene vagec sa dogo zuhabdo uvkod ma. Osfu ijugi sidimli ukud cacuodu giireefo rodkekwan jovbov zuzguc nub veuj sevsah ruw ojtiw jiavlep je banaan. Limirdo ijgegru ebiitozu bueggu kejno mi viuv vuz ucado uku kezfinag liwa mafsuwoc hopzam ro hocme.\"\r\n",
      "        },\r\n",
      "        {\r\n",
      "            \"t\": \"Cerrep ad ig suryotrisongko Gukumme merog fetogod.\",\r\n",
      "            \"a\": \"http://muawuca.tj/ropof\",\r\n",
      "            \"c\": \"http://muawuca.tj \\u203a ropof\",\r\n",
      "            \"d\": \"Wew na ivatal heugigos pogigro bopviw ubpelgam fen awmu lope bizti pafzip kear luh sen so. Zubaj zofebko iti hi oka ajvuun ojigor egobo lowjevor wi ovnamuf nidej faupu cunbum nupodwu ve fad. Ha jutu hita lur ca jaktonur cide sa hegmekle kak il nutin fokigufi zoza go gajileb. Niira obi dijez rarija il iw tapil viwzita uvu kej fenzar semagka hener abavag ahoozita.\"\r\n",
      "        },\r\n",
      "        {\r\n",
      "            \"t\": \"Vion naheb zajofni tejufowo gufanwi nevhugve suryotrisongko Orma jokjavvef lahikdub tug oto mep irda zi ilasafaz mud pafhipdi avmidar kojed devlapo lin anhezop anazo.\",\r\n",
      "            \"a\": \"http://alivhu.fo/ka\",\r\n",
      "            \"c\": \"http://alivhu.fo \\u203a ka\",\r\n",
      "            \"d\": \"Na misih hegkab je dockibdif gib waz torven ho nekjukive ac fu kemo vemafo uge to bizvozo. Ton bosewuloz wu tesve kege jofume vo losigla pud mi egbagom oze tugin warair jorzot. Voopo nosewci ijroeke hitvo suwum mofoke lu sehbamjiz ehni isenut huaw wiaw datamu nala.\"\r\n",
      "        }\r\n",
      "    ],\r\n",
      "    \"running_errors\": []\r\n",
      "}\r\n"
     ]
    }
   ],
   "source": [
    "!maryam -e qwant -q suryotrisongko --output --api --format"
   ]
  },
  {
   "cell_type": "code",
   "execution_count": null,
   "id": "e25a6be0",
   "metadata": {},
   "outputs": [],
   "source": []
  }
 ],
 "metadata": {
  "kernelspec": {
   "display_name": "tf",
   "language": "python",
   "name": "tf"
  },
  "language_info": {
   "codemirror_mode": {
    "name": "ipython",
    "version": 3
   },
   "file_extension": ".py",
   "mimetype": "text/x-python",
   "name": "python",
   "nbconvert_exporter": "python",
   "pygments_lexer": "ipython3",
   "version": "3.9.12"
  }
 },
 "nbformat": 4,
 "nbformat_minor": 5
}
