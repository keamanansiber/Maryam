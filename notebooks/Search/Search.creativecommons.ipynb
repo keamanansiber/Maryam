{
 "cells": [
  {
   "cell_type": "code",
   "execution_count": 1,
   "id": "305fd788",
   "metadata": {},
   "outputs": [
    {
     "name": "stdout",
     "output_type": "stream",
     "text": [
      "usage: creativecommons [-h] -q QUERY [-l LIMIT] [--output] [--api] [--format]\r\n",
      "\r\n",
      "creativecommons 0.1(Rishabh Jain) - description: Creative Commons is an\r\n",
      "American non-profit organization and international network devoted to\r\n",
      "educational access and expanding the range of creative works available for\r\n",
      "others to build upon legally and to share.\r\n",
      "\r\n",
      "optional arguments:\r\n",
      "  -h, --help            show this help message and exit\r\n",
      "  -q QUERY, --query QUERY\r\n",
      "                        Query string\r\n",
      "  -l LIMIT, --limit LIMIT\r\n",
      "                        Max result count (default=15)\r\n",
      "  --output, --output    Save the output to the workspace\r\n",
      "  --api, --api          Show results in the JSON format\r\n",
      "  --format, --format    Beautifying JSON output if --api is used\r\n"
     ]
    }
   ],
   "source": [
    "!maryam -e creativecommons --help"
   ]
  },
  {
   "cell_type": "code",
   "execution_count": 4,
   "id": "a6cf81ef",
   "metadata": {},
   "outputs": [
    {
     "name": "stdout",
     "output_type": "stream",
     "text": [
      "\u001b[94m[*]\u001b[m [creativecommons] Extracting Data From API\u001b[m\n",
      "\u001b[93m[!] [creativecommons:opt_proc] </body>.\u001b[m\n",
      "\u001b[93m[!] [creativecommons:opt_proc] : 1.\u001b[m\n"
     ]
    }
   ],
   "source": [
    "!maryam -e creativecommons -q security"
   ]
  },
  {
   "cell_type": "code",
   "execution_count": 5,
   "id": "404295e3",
   "metadata": {},
   "outputs": [
    {
     "name": "stdout",
     "output_type": "stream",
     "text": [
      "\u001b[93m[!] [creativecommons:opt_proc] </body>.\u001b[m\r\n",
      "\u001b[93m[!] [creativecommons:opt_proc] : 1.\u001b[m\r\n"
     ]
    }
   ],
   "source": [
    "!maryam -e creativecommons -q owasp --output --api --format"
   ]
  },
  {
   "cell_type": "code",
   "execution_count": null,
   "id": "640b8b2d",
   "metadata": {},
   "outputs": [],
   "source": []
  }
 ],
 "metadata": {
  "kernelspec": {
   "display_name": "tf",
   "language": "python",
   "name": "tf"
  },
  "language_info": {
   "codemirror_mode": {
    "name": "ipython",
    "version": 3
   },
   "file_extension": ".py",
   "mimetype": "text/x-python",
   "name": "python",
   "nbconvert_exporter": "python",
   "pygments_lexer": "ipython3",
   "version": "3.9.12"
  }
 },
 "nbformat": 4,
 "nbformat_minor": 5
}
