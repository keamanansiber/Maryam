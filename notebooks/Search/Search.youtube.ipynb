{
 "cells": [
  {
   "cell_type": "code",
   "execution_count": 1,
   "id": "b3f07599",
   "metadata": {},
   "outputs": [
    {
     "name": "stdout",
     "output_type": "stream",
     "text": [
      "usage: youtube [-h] -q QUERY [-l LIMIT] [-c COUNT] [-t THREAD] [-e ENGINE]\r\n",
      "               [--output] [--api] [--format]\r\n",
      "\r\n",
      "youtube 0.5(Aman Rawat) - description: Search your query in the youtube.com\r\n",
      "and show the results.\r\n",
      "\r\n",
      "optional arguments:\r\n",
      "  -h, --help            show this help message and exit\r\n",
      "  -q QUERY, --query QUERY\r\n",
      "                        Query string\r\n",
      "  -l LIMIT, --limit LIMIT\r\n",
      "                        Search limit(number of pages, default=1)\r\n",
      "  -c COUNT, --count COUNT\r\n",
      "                        Number of results per page(min=10, max=100,\r\n",
      "                        default=50)\r\n",
      "  -t THREAD, --thread THREAD\r\n",
      "                        The number of engine that run per round(default=2)\r\n",
      "  -e ENGINE, --engine ENGINE\r\n",
      "                        Engine names for search(default=google)\r\n",
      "  --output, --output    Save the output to the workspace\r\n",
      "  --api, --api          Show results in the JSON format\r\n",
      "  --format, --format    Beautifying JSON output if --api is used\r\n"
     ]
    }
   ],
   "source": [
    "!maryam -e youtube --help"
   ]
  },
  {
   "cell_type": "code",
   "execution_count": 1,
   "id": "97fc4ed7",
   "metadata": {},
   "outputs": [
    {
     "name": "stdout",
     "output_type": "stream",
     "text": [
      "\u001b[94m[*]\u001b[m [GOOGLE] Searching in 1 page...\u001b[m\n",
      "\u001b[94m[*]\u001b[m [GOOGLE] Searching in 1 page...\u001b[m\n",
      "\u001b[92m[*]\u001b[m VIDEOS\n",
      "\u001b[94m[*]\u001b[91m \tWithout result\u001b[m\n",
      "\u001b[92m[*]\u001b[m CHANNELS\n",
      "\u001b[94m[*]\u001b[92m \tyoutube.com/c/GCFRIYADH\u001b[m\n",
      "\u001b[94m[*]\u001b[92m \tyoutube.com/c/cybersecurityinsights\u001b[m\n",
      "\u001b[94m[*]\u001b[92m \tyoutube.com/c/ArabSecurityConference\u001b[m\n",
      "\u001b[94m[*]\u001b[92m \tyoutube.com/c/RohdeSchwarzCybersecurity\u001b[m\n",
      "\u001b[94m[*]\u001b[92m \tyoutube.com/c/CybersecurityMeg\u001b[m\n",
      "\u001b[94m[*]\u001b[92m \tyoutube.com/c/RohdeSchwarzCybersecurityFrance\u001b[m\n",
      "\u001b[94m[*]\u001b[92m \tyoutube.com/c/AnandGuruSOCExperts\u001b[m\n",
      "\u001b[94m[*]\u001b[92m \tyoutube.com/c/TotalTechnologySolutionsMelville\u001b[m\n",
      "\u001b[94m[*]\u001b[92m \tyoutube.com/c/CyberSecurityIPB\u001b[m\n",
      "\u001b[94m[*]\u001b[92m \tyoutube.com/c/fideliscybersecurity\u001b[m\n",
      "\u001b[94m[*]\u001b[92m \tyoutube.com/c/GeraldAuger\u001b[m\n",
      "\u001b[94m[*]\u001b[92m \tyoutube.com/c/WJNLLC\u001b[m\n",
      "\u001b[94m[*]\u001b[92m \tyoutube.com/c/GCFRIYADH 22\u001b[m\n",
      "\u001b[94m[*]\u001b[92m \tyoutube.com/c/CyberSecurityIPB 22\u001b[m\n",
      "\u001b[94m[*]\u001b[92m \tyoutube.com/c/cybersecuritybyitkengineering\u001b[m\n",
      "\u001b[94m[*]\u001b[92m \tyoutube.com/c/CyberSecurityUP\u001b[m\n",
      "\u001b[94m[*]\u001b[92m \tyoutube.com/c/BreakingIntoCybersecurity 22\u001b[m\n",
      "\u001b[94m[*]\u001b[92m \tyoutube.com/c/SecurityQuotient\u001b[m\n",
      "\u001b[94m[*]\u001b[92m \tyoutube.com/c/FidelisCybersecurity\u001b[m\n",
      "\u001b[94m[*]\u001b[92m \tyoutube.com/c/cybersecuritybyshk\u001b[m\n",
      "\u001b[94m[*]\u001b[92m \tyoutube.com/c/BreakingIntoCybersecurity\u001b[m\n",
      "\u001b[94m[*]\u001b[92m \tyoutube.com/c/attcybersecurity\u001b[m\n",
      "\u001b[94m[*]\u001b[92m \tyoutube.com/c/DragosIncICSCybersecurity\u001b[m\n",
      "\u001b[94m[*]\u001b[92m \tyoutube.com/c/SmartCybersecurityNetworkSERENERISCMontr\u001b[m\n",
      "\u001b[94m[*]\u001b[92m \tyoutube.com/c/geraldauger\u001b[m\n",
      "\u001b[94m[*]\u001b[92m \tyoutube.com/c/BlacksInCybersecurity\u001b[m\n",
      "\u001b[94m[*]\u001b[92m \tyoutube.com/c/RohdeSchwarzCybersecurity 22\u001b[m\n",
      "\u001b[94m[*]\u001b[92m \tyoutube.com/c/LearnCyberSecurity\u001b[m\n",
      "\u001b[94m[*]\u001b[92m \tyoutube.com/c/CyberSecuritybyITKEngineering\u001b[m\n",
      "\u001b[92m[*]\u001b[m USERNAMES\n",
      "\u001b[94m[*]\u001b[92m \tyoutube.com/user/TripwireInc\u001b[m\n",
      "\u001b[94m[*]\u001b[92m \tyoutube.com/user/enisavideos\u001b[m\n",
      "\u001b[94m[*]\u001b[92m \tyoutube.com/user/eccouncilusa\u001b[m\n",
      "\u001b[94m[*]\u001b[92m \tyoutube.com/user/kaspersky\u001b[m\n",
      "\u001b[94m[*]\u001b[92m \tyoutube.com/user/comododesktop 22\u001b[m\n",
      "\u001b[94m[*]\u001b[92m \tyoutube.com/user/ENISAvideos\u001b[m\n",
      "\u001b[94m[*]\u001b[92m \tyoutube.com/user/ceriaspurdue\u001b[m\n",
      "\u001b[94m[*]\u001b[92m \tyoutube.com/user/InfoSecInstitute\u001b[m\n",
      "\u001b[94m[*]\u001b[92m \tyoutube.com/user/dhsscitech\u001b[m\n",
      "\u001b[94m[*]\u001b[92m \tyoutube.com/user/kaspersky 22\u001b[m\n",
      "\u001b[94m[*]\u001b[92m \tyoutube.com/user/comododesktop\u001b[m\n",
      "\n"
     ]
    }
   ],
   "source": [
    "!maryam -e youtube -q cybersecurity"
   ]
  },
  {
   "cell_type": "code",
   "execution_count": 2,
   "id": "c5ea7b11",
   "metadata": {},
   "outputs": [
    {
     "name": "stdout",
     "output_type": "stream",
     "text": [
      "{\r\n",
      "    \"videos\": [],\r\n",
      "    \"channels\": [\r\n",
      "        \"youtube.com/channel/UCrSTMKkP-1OhvalczEVZkrw\",\r\n",
      "        \"youtube.com/channel/UCrSTMKkP-1OhvalczEVZkrw\\\\x22\"\r\n",
      "    ],\r\n",
      "    \"usernames\": [\r\n",
      "        \"youtube.com/user/suryotrisongko\"\r\n",
      "    ],\r\n",
      "    \"running_errors\": []\r\n",
      "}\r\n"
     ]
    }
   ],
   "source": [
    "!maryam -e youtube -q suryotrisongko --output --api --format"
   ]
  },
  {
   "cell_type": "code",
   "execution_count": null,
   "id": "9f2bdf20",
   "metadata": {},
   "outputs": [],
   "source": []
  }
 ],
 "metadata": {
  "kernelspec": {
   "display_name": "tf",
   "language": "python",
   "name": "tf"
  },
  "language_info": {
   "codemirror_mode": {
    "name": "ipython",
    "version": 3
   },
   "file_extension": ".py",
   "mimetype": "text/x-python",
   "name": "python",
   "nbconvert_exporter": "python",
   "pygments_lexer": "ipython3",
   "version": "3.9.12"
  }
 },
 "nbformat": 4,
 "nbformat_minor": 5
}
