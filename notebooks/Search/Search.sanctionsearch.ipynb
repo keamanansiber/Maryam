{
 "cells": [
  {
   "cell_type": "code",
   "execution_count": 1,
   "id": "d737c087",
   "metadata": {},
   "outputs": [
    {
     "name": "stdout",
     "output_type": "stream",
     "text": [
      "usage: sanctionsearch [-h] [-q QUERY] [-i ID] [-l LIMIT] [--output] [--api]\r\n",
      "                      [--format]\r\n",
      "\r\n",
      "sanctionsearch 0.1(Kaushik) - description: SanctionSearch is an international\r\n",
      "list of blacklisted, dangerous personnel and entities.\r\n",
      "\r\n",
      "optional arguments:\r\n",
      "  -h, --help            show this help message and exit\r\n",
      "  -q QUERY, --query QUERY\r\n",
      "                        Name to search\r\n",
      "  -i ID, --id ID        Id to search\r\n",
      "  -l LIMIT, --limit LIMIT\r\n",
      "                        Max result count (default=15)\r\n",
      "  --output, --output    Save the output to the workspace\r\n",
      "  --api, --api          Show results in the JSON format\r\n",
      "  --format, --format    Beautifying JSON output if --api is used\r\n"
     ]
    }
   ],
   "source": [
    "!maryam -e sanctionsearch --help"
   ]
  },
  {
   "cell_type": "code",
   "execution_count": 6,
   "id": "b2194e26",
   "metadata": {},
   "outputs": [
    {
     "name": "stdout",
     "output_type": "stream",
     "text": [
      "\u001b[94m[*]\u001b[m Searching sanctionsearch...\u001b[m\n",
      "\n",
      "\u001b[94m[*]\u001b[m ISIS\u001b[m\n",
      "\u001b[94m[*]\u001b[m https://sanctionssearch.ofac.treas.gov/Details.aspx?id=8759\u001b[m\n",
      "\n",
      "\u001b[94m[*]\u001b[m ISIS BRANCH IN THE PHILIPPINES\u001b[m\n",
      "\u001b[94m[*]\u001b[m https://sanctionssearch.ofac.treas.gov/Details.aspx?id=23844\u001b[m\n",
      "\n",
      "\u001b[94m[*]\u001b[m ISIS IN EAST AFRICA\u001b[m\n",
      "\u001b[94m[*]\u001b[m https://sanctionssearch.ofac.treas.gov/Details.aspx?id=23848\u001b[m\n",
      "\n",
      "\u001b[94m[*]\u001b[m ISIS IN SAUDI ARABIA\u001b[m\n",
      "\u001b[94m[*]\u001b[m https://sanctionssearch.ofac.treas.gov/Details.aspx?id=19889\u001b[m\n",
      "\n",
      "\u001b[94m[*]\u001b[m ISIS IN THE GREATER SAHARA\u001b[m\n",
      "\u001b[94m[*]\u001b[m https://sanctionssearch.ofac.treas.gov/Details.aspx?id=24546\u001b[m\n",
      "\n",
      "\u001b[94m[*]\u001b[m ISIS IN THE GREATER SAHEL\u001b[m\n",
      "\u001b[94m[*]\u001b[m https://sanctionssearch.ofac.treas.gov/Details.aspx?id=24546\u001b[m\n",
      "\n",
      "\u001b[94m[*]\u001b[m ISIS IN THE ISLAMIC SAHEL\u001b[m\n",
      "\u001b[94m[*]\u001b[m https://sanctionssearch.ofac.treas.gov/Details.aspx?id=24546\u001b[m\n",
      "\n",
      "\u001b[94m[*]\u001b[m ISIS IN THE PHILIPPINES\u001b[m\n",
      "\u001b[94m[*]\u001b[m https://sanctionssearch.ofac.treas.gov/Details.aspx?id=23844\u001b[m\n",
      "\n",
      "\u001b[94m[*]\u001b[m ISIS IN YEMEN\u001b[m\n",
      "\u001b[94m[*]\u001b[m https://sanctionssearch.ofac.treas.gov/Details.aspx?id=19892\u001b[m\n",
      "\n",
      "\u001b[94m[*]\u001b[m ISIS PHILIPPINE PROVINCE\u001b[m\n",
      "\u001b[94m[*]\u001b[m https://sanctionssearch.ofac.treas.gov/Details.aspx?id=23844\u001b[m\n",
      "\n",
      "\u001b[94m[*]\u001b[m ISIS WEST AFRICA\u001b[m\n",
      "\u001b[94m[*]\u001b[m https://sanctionssearch.ofac.treas.gov/Details.aspx?id=23845\u001b[m\n",
      "\n",
      "\u001b[94m[*]\u001b[m ISIS WEST AFRICA PROVINCE\u001b[m\n",
      "\u001b[94m[*]\u001b[m https://sanctionssearch.ofac.treas.gov/Details.aspx?id=23845\u001b[m\n",
      "\n",
      "\u001b[94m[*]\u001b[m ISIS WILAYAT KHORASAN\u001b[m\n",
      "\u001b[94m[*]\u001b[m https://sanctionssearch.ofac.treas.gov/Details.aspx?id=18647\u001b[m\n",
      "\n",
      "\u001b[94m[*]\u001b[m ISIS-BANGLADESH\u001b[m\n",
      "\u001b[94m[*]\u001b[m https://sanctionssearch.ofac.treas.gov/Details.aspx?id=23843\u001b[m\n",
      "\n",
      "\u001b[94m[*]\u001b[m ISIS-CENTRAL AFRICA\u001b[m\n",
      "\u001b[94m[*]\u001b[m https://sanctionssearch.ofac.treas.gov/Details.aspx?id=16696\u001b[m\n"
     ]
    }
   ],
   "source": [
    "!maryam -e sanctionsearch -q isis"
   ]
  },
  {
   "cell_type": "code",
   "execution_count": 7,
   "id": "60153554",
   "metadata": {},
   "outputs": [
    {
     "name": "stdout",
     "output_type": "stream",
     "text": [
      "\u001b[94m[*]\u001b[m Searching sanctionsearch...\u001b[m\n",
      "\n",
      "\u001b[94m[*]\u001b[m AL-HARAMAIN : INDONESIA BRANCH\u001b[m\n",
      "\u001b[94m[*]\u001b[m Jalan Laut Sulawesi Blok DII/4, Kavling Angkatan Laut Duren Sawit\u001b[m\n",
      "\u001b[94m[*]\u001b[m https://sanctionssearch.ofac.treas.gov/Details.aspx?id=8108\u001b[m\n",
      "\n",
      "\u001b[94m[*]\u001b[m HILAL AHMAR SOCIETY INDONESIA\u001b[m\n",
      "\u001b[94m[*]\u001b[m https://sanctionssearch.ofac.treas.gov/Details.aspx?id=17269\u001b[m\n",
      "\n",
      "\u001b[94m[*]\u001b[m HILAL AHMAR SOCIETY OF INDONESIA\u001b[m\n",
      "\u001b[94m[*]\u001b[m https://sanctionssearch.ofac.treas.gov/Details.aspx?id=17269\u001b[m\n",
      "\n",
      "\u001b[94m[*]\u001b[m INDONESIA (MMI)\u001b[m\n",
      "\u001b[94m[*]\u001b[m https://sanctionssearch.ofac.treas.gov/Details.aspx?id=22484\u001b[m\n",
      "\n",
      "\u001b[94m[*]\u001b[m INDONESIA HILAL AHMAR SOCIETY FOR SYRIA\u001b[m\n",
      "\u001b[94m[*]\u001b[m https://sanctionssearch.ofac.treas.gov/Details.aspx?id=17269\u001b[m\n",
      "\n",
      "\u001b[94m[*]\u001b[m LASKAR MUJAHIDIN INDONESIA\u001b[m\n",
      "\u001b[94m[*]\u001b[m https://sanctionssearch.ofac.treas.gov/Details.aspx?id=22484\u001b[m\n",
      "\n",
      "\u001b[94m[*]\u001b[m MAJELIS MUJAHIDIN INDONESIA\u001b[m\n",
      "\u001b[94m[*]\u001b[m https://sanctionssearch.ofac.treas.gov/Details.aspx?id=22484\u001b[m\n",
      "\n",
      "\u001b[94m[*]\u001b[m MAJILIS MUJAHIDIN INDONESIA\u001b[m\n",
      "\u001b[94m[*]\u001b[m https://sanctionssearch.ofac.treas.gov/Details.aspx?id=22484\u001b[m\n",
      "\n",
      "\u001b[94m[*]\u001b[m MUJAHIDEEN INDONESIA TIMOR\u001b[m\n",
      "\u001b[94m[*]\u001b[m https://sanctionssearch.ofac.treas.gov/Details.aspx?id=18631\u001b[m\n",
      "\n",
      "\u001b[94m[*]\u001b[m MUJAHIDIN INDONESIA BARAT\u001b[m\n",
      "\u001b[94m[*]\u001b[m https://sanctionssearch.ofac.treas.gov/Details.aspx?id=18631\u001b[m\n",
      "\n",
      "\u001b[94m[*]\u001b[m MUJAHIDIN INDONESIA TIMOR\u001b[m\n",
      "\u001b[94m[*]\u001b[m https://sanctionssearch.ofac.treas.gov/Details.aspx?id=18631\u001b[m\n",
      "\n",
      "\u001b[94m[*]\u001b[m MUJAHIDIN INDONESIA TIMUR\u001b[m\n",
      "\u001b[94m[*]\u001b[m https://sanctionssearch.ofac.treas.gov/Details.aspx?id=18631\u001b[m\n",
      "\n",
      "\u001b[94m[*]\u001b[m MUJAHIDIN OF EASTERN INDONESIA\u001b[m\n",
      "\u001b[94m[*]\u001b[m https://sanctionssearch.ofac.treas.gov/Details.aspx?id=18631\u001b[m\n",
      "\n",
      "\u001b[94m[*]\u001b[m MUJAHIDIN OF WESTERN INDONESIA\u001b[m\n",
      "\u001b[94m[*]\u001b[m https://sanctionssearch.ofac.treas.gov/Details.aspx?id=18631\u001b[m\n",
      "\n",
      "\u001b[94m[*]\u001b[m YAYASAN AL-MANAHIL-INDONESIA\u001b[m\n",
      "\u001b[94m[*]\u001b[m Jalan Laut Sulawesi Blok DII/4, Kavling Angkatan Laut Duren Sawit\u001b[m\n",
      "\u001b[94m[*]\u001b[m https://sanctionssearch.ofac.treas.gov/Details.aspx?id=8108\u001b[m\n"
     ]
    }
   ],
   "source": [
    "!maryam -e sanctionsearch -q indonesia"
   ]
  },
  {
   "cell_type": "code",
   "execution_count": 5,
   "id": "49ce9612",
   "metadata": {},
   "outputs": [
    {
     "name": "stdout",
     "output_type": "stream",
     "text": [
      "{\r\n",
      "    \"results\": [\r\n",
      "        {\r\n",
      "            \"name\": \"AL QAEDA\",\r\n",
      "            \"address\": \"\\u00a0\",\r\n",
      "            \"link\": \"https://sanctionssearch.ofac.treas.gov/Details.aspx?id=6366\"\r\n",
      "        },\r\n",
      "        {\r\n",
      "            \"name\": \"AL-QAEDA IN THE INDIAN SUBCONTINENT\",\r\n",
      "            \"address\": \"\\u00a0\",\r\n",
      "            \"link\": \"https://sanctionssearch.ofac.treas.gov/Details.aspx?id=20159\"\r\n",
      "        },\r\n",
      "        {\r\n",
      "            \"name\": \"KURDISTAN BRIGADE OF AL-QAEDA IN IRAQ\",\r\n",
      "            \"address\": \"\\u00a0\",\r\n",
      "            \"link\": \"https://sanctionssearch.ofac.treas.gov/Details.aspx?id=13041\"\r\n",
      "        }\r\n",
      "    ],\r\n",
      "    \"running_errors\": []\r\n",
      "}\r\n"
     ]
    }
   ],
   "source": [
    "!maryam -e sanctionsearch -q qaeda --output --api --format"
   ]
  },
  {
   "cell_type": "code",
   "execution_count": null,
   "id": "2d794fad",
   "metadata": {},
   "outputs": [],
   "source": []
  }
 ],
 "metadata": {
  "kernelspec": {
   "display_name": "tf",
   "language": "python",
   "name": "tf"
  },
  "language_info": {
   "codemirror_mode": {
    "name": "ipython",
    "version": 3
   },
   "file_extension": ".py",
   "mimetype": "text/x-python",
   "name": "python",
   "nbconvert_exporter": "python",
   "pygments_lexer": "ipython3",
   "version": "3.9.12"
  }
 },
 "nbformat": 4,
 "nbformat_minor": 5
}
