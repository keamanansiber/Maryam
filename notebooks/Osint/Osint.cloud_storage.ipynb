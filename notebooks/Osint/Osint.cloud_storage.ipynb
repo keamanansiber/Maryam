{
 "cells": [
  {
   "cell_type": "code",
   "execution_count": 1,
   "id": "a21aa0a0",
   "metadata": {},
   "outputs": [
    {
     "name": "stdout",
     "output_type": "stream",
     "text": [
      "usage: cloud_storage [-h] -q QUERY [-l LIMIT] [-c COUNT] [-e ENGINE]\r\n",
      "                     [-t THREAD] [--output] [--api] [--format]\r\n",
      "\r\n",
      "cloud_storage 0.1(Vikas Kundu) - description: Search for the query in online\r\n",
      "storage services like GoogleDrive, OneDrive, Dropbox, Amazon S3, Box and show\r\n",
      "the results.\r\n",
      "\r\n",
      "optional arguments:\r\n",
      "  -h, --help            show this help message and exit\r\n",
      "  -q QUERY, --query QUERY\r\n",
      "                        Query string\r\n",
      "  -l LIMIT, --limit LIMIT\r\n",
      "                        Search limit(number of pages, default=1)\r\n",
      "  -c COUNT, --count COUNT\r\n",
      "                        Number of links per page(min=10, max=100, default=50)\r\n",
      "  -e ENGINE, --engine ENGINE\r\n",
      "                        Engine names for search(default=google)\r\n",
      "  -t THREAD, --thread THREAD\r\n",
      "                        The number of engine that run per round(default=2)\r\n",
      "  --output, --output    Save the output to the workspace\r\n",
      "  --api, --api          Show results in the JSON format\r\n",
      "  --format, --format    Beautifying JSON output if --api is used\r\n"
     ]
    }
   ],
   "source": [
    "!maryam -e cloud_storage --help"
   ]
  },
  {
   "cell_type": "code",
   "execution_count": 5,
   "id": "23f8fc77",
   "metadata": {},
   "outputs": [
    {
     "name": "stdout",
     "output_type": "stream",
     "text": [
      "\u001b[94m[*]\u001b[m [BING] Searching in 1 page...\u001b[m\n",
      "\u001b[94m[*]\u001b[m [BING] Searching in 1 page...\u001b[m\n",
      "\u001b[94m[*]\u001b[m [BING] Searching in 1 page...\u001b[m\n",
      "\u001b[94m[*]\u001b[m [BING] Searching in 1 page...\u001b[m\n",
      "\u001b[94m[*]\u001b[m [BING] Searching in 1 page...\u001b[m\n",
      "\u001b[92m[*]\u001b[m LINKS\n",
      "\u001b[94m[*]\u001b[91m \tWithout result\u001b[m\n",
      "\n"
     ]
    }
   ],
   "source": [
    "!maryam -e cloud_storage -q owasp"
   ]
  },
  {
   "cell_type": "code",
   "execution_count": 6,
   "id": "b368da33",
   "metadata": {},
   "outputs": [
    {
     "name": "stdout",
     "output_type": "stream",
     "text": [
      "{\r\n",
      "    \"links\": [],\r\n",
      "    \"running_errors\": []\r\n",
      "}\r\n"
     ]
    }
   ],
   "source": [
    "!maryam -e cloud_storage -q maryam --output --api --format"
   ]
  },
  {
   "cell_type": "code",
   "execution_count": null,
   "id": "653b49e5",
   "metadata": {},
   "outputs": [],
   "source": []
  }
 ],
 "metadata": {
  "kernelspec": {
   "display_name": "tf",
   "language": "python",
   "name": "tf"
  },
  "language_info": {
   "codemirror_mode": {
    "name": "ipython",
    "version": 3
   },
   "file_extension": ".py",
   "mimetype": "text/x-python",
   "name": "python",
   "nbconvert_exporter": "python",
   "pygments_lexer": "ipython3",
   "version": "3.9.12"
  }
 },
 "nbformat": 4,
 "nbformat_minor": 5
}
