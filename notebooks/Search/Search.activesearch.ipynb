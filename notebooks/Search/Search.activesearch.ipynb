{
 "cells": [
  {
   "cell_type": "code",
   "execution_count": 1,
   "id": "b936e246",
   "metadata": {},
   "outputs": [
    {
     "name": "stdout",
     "output_type": "stream",
     "text": [
      "usage: activesearch [-h] -q QUERY [-l LIMIT] [--output] [--api] [--format]\r\n",
      "\r\n",
      "activesearch 0.1(Kaushik) - description: Active Search Results (ASR) is an\r\n",
      "independent Internet Search Engine using a proprietary page ranking technology\r\n",
      "with Millions of popular Web sites indexed.\r\n",
      "\r\n",
      "optional arguments:\r\n",
      "  -h, --help            show this help message and exit\r\n",
      "  -q QUERY, --query QUERY\r\n",
      "                        Query string\r\n",
      "  -l LIMIT, --limit LIMIT\r\n",
      "                        Max result count (default=15)\r\n",
      "  --output, --output    Save the output to the workspace\r\n",
      "  --api, --api          Show results in the JSON format\r\n",
      "  --format, --format    Beautifying JSON output if --api is used\r\n"
     ]
    }
   ],
   "source": [
    "!maryam -e activesearch --help"
   ]
  },
  {
   "cell_type": "code",
   "execution_count": 2,
   "id": "2fa8f1ec",
   "metadata": {},
   "outputs": [
    {
     "name": "stdout",
     "output_type": "stream",
     "text": [
      "\u001b[94m[*]\u001b[m Searching the activesearchresults domain...\u001b[m\n",
      "\n",
      "\u001b[94m[*]\u001b[m https://iainfraserjournalist.blogspot.com/\u001b[m\n",
      "\u001b[94m[*]\u001b[m Cybersecurity Journalist - Iain Fraser Cybersecurity Journalist Gibraltar\u001b[m\n",
      "\n",
      "\u001b[94m[*]\u001b[m https://iainfraserjournalist.blogspot.com\u001b[m\n",
      "\u001b[94m[*]\u001b[m Cybersecurity Journalist - Iain Fraser Cybersecurity Journalist Gibraltar\u001b[m\n",
      "\n",
      "\u001b[94m[*]\u001b[m https://www.edureka.co/cybersecurity-certification-training\u001b[m\n",
      "\u001b[94m[*]\u001b[m Best Cybersecurity Course Online Cybersecurity Training Cybersecurity Certification Edureka\u001b[m\n",
      "\n",
      "\u001b[94m[*]\u001b[m http://root-networks.com/cybersecurity\u001b[m\n",
      "\u001b[94m[*]\u001b[m CyberSecurity Overview - Clever City Cybersecurity\u001b[m\n",
      "\n",
      "\u001b[94m[*]\u001b[m http://cybersecuritytips.boards.net/\u001b[m\n",
      "\u001b[94m[*]\u001b[m Home Cybersecurity Tips\u001b[m\n",
      "\n",
      "\u001b[94m[*]\u001b[m https://www.microteklearning.com/cybersecurity-training-and-certification-with-comptia.html\u001b[m\n",
      "\u001b[94m[*]\u001b[m CyberSecurity Training and Certification with CompTIA Cyber Security CompTIA Certificate Courses Cy \u001b[m\n",
      "\n",
      "\u001b[94m[*]\u001b[m https://www.microteklearning.com/cybersecurity-training-and-certification-with-ec-council.html\u001b[m\n",
      "\u001b[94m[*]\u001b[m CyberSecurity Training and Certification with EC-Council Cyber Security Certificate Courses Cyber S \u001b[m\n",
      "\n",
      "\u001b[94m[*]\u001b[m https://www.microteklearning.com/cybersecurity-training-and-certification-with-isaca.html\u001b[m\n",
      "\u001b[94m[*]\u001b[m CyberSecurity Training and Certification with ISACA Cyber Security ISACA Certificate Courses Cyber  \u001b[m\n",
      "\n",
      "\u001b[94m[*]\u001b[m https://www.revbits.com\u001b[m\n",
      "\u001b[94m[*]\u001b[m Cybersecurity Solutions and Consulting Firm - RevBits Inc\u001b[m\n",
      "\n",
      "\u001b[94m[*]\u001b[m http://www.navalaninfosec.com\u001b[m\n",
      "\u001b[94m[*]\u001b[m Cybersecurity experts to cater to all your security needs\u001b[m\n",
      "\n",
      "\u001b[94m[*]\u001b[m http://cybersecurityportal.com\u001b[m\n",
      "\u001b[94m[*]\u001b[m CyberSecurity Portal\u001b[m\n",
      "\n",
      "\u001b[94m[*]\u001b[m http://www.cybersecurityportal.com\u001b[m\n",
      "\u001b[94m[*]\u001b[m CyberSecurity Portal\u001b[m\n",
      "\n",
      "\u001b[94m[*]\u001b[m https://tech-polygon.com/\u001b[m\n",
      "\u001b[94m[*]\u001b[m Cybersecurity Levittown IT Services Companies Levittown TechPolygon\u001b[m\n",
      "\n",
      "\u001b[94m[*]\u001b[m https://www.microteklearning.com/courses/csx-practitioner-i-identification-and-protection.html\u001b[m\n",
      "\u001b[94m[*]\u001b[m Cybersecurity Nexus CSX Practitioner Certification ISACA CSX Practitioner Identification and Protec \u001b[m\n",
      "\n",
      "\u001b[94m[*]\u001b[m http://jedi360.com/cybersecurity-program-management/\u001b[m\n",
      "\u001b[94m[*]\u001b[m Cybersecurity Program Management Consulting jedi360\u001b[m\n"
     ]
    }
   ],
   "source": [
    "!maryam -e activesearch -q cybersecurity"
   ]
  },
  {
   "cell_type": "code",
   "execution_count": 5,
   "id": "350d27fb",
   "metadata": {},
   "outputs": [
    {
     "name": "stdout",
     "output_type": "stream",
     "text": [
      "{\r\n",
      "    \"results\": [\r\n",
      "        {\r\n",
      "            \"title\": \"http://www.secure-power.com\",\r\n",
      "            \"link\": \"Secure Power Protection with New & Refurbished Battery Backups\"\r\n",
      "        },\r\n",
      "        {\r\n",
      "            \"title\": \"http://Secure-Power.com\",\r\n",
      "            \"link\": \"Secure Power Protection with New & Refurbished Battery Backups\"\r\n",
      "        },\r\n",
      "        {\r\n",
      "            \"title\": \"http://www.security-response.co.uk\",\r\n",
      "            \"link\": \"Security Response Reading Newbury Bracknell Basingstoke Maidenhead Cirencester Swindon - Security R \"\r\n",
      "        },\r\n",
      "        {\r\n",
      "            \"title\": \"https://dubai.yalwa.ae/ID_136424922/Security-Company-Dubai-Marina-Security-Dubai-Marina-Services.html\",\r\n",
      "            \"link\": \"Security Company Dubai Marina Security Dubai Marina & Services\"\r\n",
      "        },\r\n",
      "        {\r\n",
      "            \"title\": \"http://tandjenterprises.com/privacy.htm\",\r\n",
      "            \"link\": \"Security Privacy statement.\"\r\n",
      "        },\r\n",
      "        {\r\n",
      "            \"title\": \"https://gilltech.co.za/\",\r\n",
      "            \"link\": \"Security Solutions for Home and Business Gill Technologies\"\r\n",
      "        },\r\n",
      "        {\r\n",
      "            \"title\": \"http://www.datafort.com.au\",\r\n",
      "            \"link\": \"Mcafee Secure verification\"\r\n",
      "        },\r\n",
      "        {\r\n",
      "            \"title\": \"http://eclipse-security.com\",\r\n",
      "            \"link\": \"Eclipse Security Group\"\r\n",
      "        },\r\n",
      "        {\r\n",
      "            \"title\": \"http://anonymouse-ir.blogfa.com\",\r\n",
      "            \"link\": \"security\"\r\n",
      "        },\r\n",
      "        {\r\n",
      "            \"title\": \"http://igotesp.com\",\r\n",
      "            \"link\": \"Security Camera Installation CCTV Security Cameras Installed Fort Myers\"\r\n",
      "        },\r\n",
      "        {\r\n",
      "            \"title\": \"http://www.helpmegetplastic.com/secured-credit-cards.html\",\r\n",
      "            \"link\": \"Secured Credit Cards HelpMeGetPlastic.com\"\r\n",
      "        },\r\n",
      "        {\r\n",
      "            \"title\": \"http://helpmegetplastic.com/secured-credit-cards.html\",\r\n",
      "            \"link\": \"Secured Credit Cards HelpMeGetPlastic.com\"\r\n",
      "        },\r\n",
      "        {\r\n",
      "            \"title\": \"http://www.Upland-Guard-card-training.com\",\r\n",
      "            \"link\": \"Upland Guard Card Training Security Guard Card\"\r\n",
      "        },\r\n",
      "        {\r\n",
      "            \"title\": \"http://www.secureapplication.org/\",\r\n",
      "            \"link\": \"secure application application security network security security testing and training companies in \"\r\n",
      "        },\r\n",
      "        {\r\n",
      "            \"title\": \"http://secureapplication.org/\",\r\n",
      "            \"link\": \"secure application application security network security security testing and training companies in \"\r\n",
      "        }\r\n",
      "    ],\r\n",
      "    \"running_errors\": []\r\n",
      "}\r\n"
     ]
    }
   ],
   "source": [
    "!maryam -e activesearch -q security --output --api --format"
   ]
  },
  {
   "cell_type": "code",
   "execution_count": null,
   "id": "eaf887d7",
   "metadata": {},
   "outputs": [],
   "source": []
  }
 ],
 "metadata": {
  "kernelspec": {
   "display_name": "tf",
   "language": "python",
   "name": "tf"
  },
  "language_info": {
   "codemirror_mode": {
    "name": "ipython",
    "version": 3
   },
   "file_extension": ".py",
   "mimetype": "text/x-python",
   "name": "python",
   "nbconvert_exporter": "python",
   "pygments_lexer": "ipython3",
   "version": "3.9.12"
  }
 },
 "nbformat": 4,
 "nbformat_minor": 5
}
