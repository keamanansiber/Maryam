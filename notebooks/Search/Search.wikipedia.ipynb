{
 "cells": [
  {
   "cell_type": "code",
   "execution_count": 1,
   "id": "46bc0283",
   "metadata": {},
   "outputs": [
    {
     "name": "stdout",
     "output_type": "stream",
     "text": [
      "usage: wikipedia [-h] [-q QUERY] [-c COUNT] [--output] [--api] [--format]\r\n",
      "\r\n",
      "wikipedia 0.3(Tarunesh Kumar) - description: Search your query in the\r\n",
      "Wikipedia and show the results.\r\n",
      "\r\n",
      "optional arguments:\r\n",
      "  -h, --help            show this help message and exit\r\n",
      "  -q QUERY, --query QUERY\r\n",
      "                        Query string or wiki page id(e.g, 64959383)\r\n",
      "  -c COUNT, --count COUNT\r\n",
      "                        Number of links per page(min=10, max=100, default=50)\r\n",
      "  --output, --output    Save the output to the workspace\r\n",
      "  --api, --api          Show results in the JSON format\r\n",
      "  --format, --format    Beautifying JSON output if --api is used\r\n"
     ]
    }
   ],
   "source": [
    "!maryam -e wikipedia --help"
   ]
  },
  {
   "cell_type": "code",
   "execution_count": 2,
   "id": "c6592059",
   "metadata": {},
   "outputs": [
    {
     "name": "stdout",
     "output_type": "stream",
     "text": [
      "\u001b[94m[*]\u001b[m [WIKIPEDIA] Searching...\u001b[m\n",
      "\u001b[92m[*]\u001b[m links\n",
      "\u001b[94m[*]\u001b[m Computer security[7398]\u001b[m\n",
      "\u001b[94m[*]\u001b[92m \thttps://en.wikipedia.org/wiki/Computer_security\u001b[m\n",
      "\u001b[94m[*]\u001b[m Cybersecurity and Infrastructure Security Agency[59407369]\u001b[m\n",
      "\u001b[94m[*]\u001b[92m \thttps://en.wikipedia.org/wiki/Cybersecurity_and_Infrastructure_Security_Agency\u001b[m\n",
      "\u001b[94m[*]\u001b[m Ghana[12067]\u001b[m\n",
      "\u001b[94m[*]\u001b[92m \thttps://en.wikipedia.org/wiki/Ghana\u001b[m\n",
      "\u001b[94m[*]\u001b[m NIST Cybersecurity Framework[51230272]\u001b[m\n",
      "\u001b[94m[*]\u001b[92m \thttps://en.wikipedia.org/wiki/NIST_Cybersecurity_Framework\u001b[m\n",
      "\u001b[94m[*]\u001b[m Cybersecurity and Infrastructure Security Agency Act[59407518]\u001b[m\n",
      "\u001b[94m[*]\u001b[92m \thttps://en.wikipedia.org/wiki/Cybersecurity_and_Infrastructure_Security_Agency_Act\u001b[m\n",
      "\u001b[94m[*]\u001b[m Cyber-security regulation[3421940]\u001b[m\n",
      "\u001b[94m[*]\u001b[92m \thttps://en.wikipedia.org/wiki/Cyber-security_regulation\u001b[m\n",
      "\u001b[94m[*]\u001b[m Utah Data Center[30341295]\u001b[m\n",
      "\u001b[94m[*]\u001b[92m \thttps://en.wikipedia.org/wiki/Utah_Data_Center\u001b[m\n",
      "\u001b[94m[*]\u001b[m AT&T Cybersecurity[44627614]\u001b[m\n",
      "\u001b[94m[*]\u001b[92m \thttps://en.wikipedia.org/wiki/AT&T_Cybersecurity\u001b[m\n",
      "\u001b[94m[*]\u001b[m Journal of Cybersecurity[59659209]\u001b[m\n",
      "\u001b[94m[*]\u001b[92m \thttps://en.wikipedia.org/wiki/Journal_of_Cybersecurity\u001b[m\n",
      "\u001b[94m[*]\u001b[m Computer security software[17885039]\u001b[m\n",
      "\u001b[94m[*]\u001b[92m \thttps://en.wikipedia.org/wiki/Computer_security_software\u001b[m\n",
      "\u001b[94m[*]\u001b[m Cybersecurity Law of the People's Republic of China[65764627]\u001b[m\n",
      "\u001b[94m[*]\u001b[92m \thttps://en.wikipedia.org/wiki/Cybersecurity_Law_of_the_People's_Republic_of_China\u001b[m\n",
      "\u001b[94m[*]\u001b[m National Cybersecurity FFRDC[47732594]\u001b[m\n",
      "\u001b[94m[*]\u001b[92m \thttps://en.wikipedia.org/wiki/National_Cybersecurity_FFRDC\u001b[m\n",
      "\u001b[94m[*]\u001b[m National Cybersecurity and Communications Integration Center[55828104]\u001b[m\n",
      "\u001b[94m[*]\u001b[92m \thttps://en.wikipedia.org/wiki/National_Cybersecurity_and_Communications_Integration_Center\u001b[m\n",
      "\u001b[94m[*]\u001b[m IEC 62443[34220488]\u001b[m\n",
      "\u001b[94m[*]\u001b[92m \thttps://en.wikipedia.org/wiki/IEC_62443\u001b[m\n",
      "\u001b[94m[*]\u001b[m Optiv[36482460]\u001b[m\n",
      "\u001b[94m[*]\u001b[92m \thttps://en.wikipedia.org/wiki/Optiv\u001b[m\n",
      "\u001b[94m[*]\u001b[m IT security standards[3392742]\u001b[m\n",
      "\u001b[94m[*]\u001b[92m \thttps://en.wikipedia.org/wiki/IT_security_standards\u001b[m\n",
      "\u001b[94m[*]\u001b[m South Korea[27019]\u001b[m\n",
      "\u001b[94m[*]\u001b[92m \thttps://en.wikipedia.org/wiki/South_Korea\u001b[m\n",
      "\u001b[94m[*]\u001b[m Fortinet[2093911]\u001b[m\n",
      "\u001b[94m[*]\u001b[92m \thttps://en.wikipedia.org/wiki/Fortinet\u001b[m\n",
      "\u001b[94m[*]\u001b[m National Initiative for Cybersecurity Careers and Studies[69195464]\u001b[m\n",
      "\u001b[94m[*]\u001b[92m \thttps://en.wikipedia.org/wiki/National_Initiative_for_Cybersecurity_Careers_and_Studies\u001b[m\n",
      "\u001b[94m[*]\u001b[m Capture the flag (cybersecurity)[69230869]\u001b[m\n",
      "\u001b[94m[*]\u001b[92m \thttps://en.wikipedia.org/wiki/Capture_the_flag_(cybersecurity)\u001b[m\n",
      "\u001b[94m[*]\u001b[m Cyber self-defense[53770851]\u001b[m\n",
      "\u001b[94m[*]\u001b[92m \thttps://en.wikipedia.org/wiki/Cyber_self-defense\u001b[m\n",
      "\u001b[94m[*]\u001b[m Cybersecurity information technology list[61526531]\u001b[m\n",
      "\u001b[94m[*]\u001b[92m \thttps://en.wikipedia.org/wiki/Cybersecurity_information_technology_list\u001b[m\n",
      "\u001b[94m[*]\u001b[m Bitdefender[12807844]\u001b[m\n",
      "\u001b[94m[*]\u001b[92m \thttps://en.wikipedia.org/wiki/Bitdefender\u001b[m\n",
      "\u001b[94m[*]\u001b[m Threat (computer)[29066981]\u001b[m\n",
      "\u001b[94m[*]\u001b[92m \thttps://en.wikipedia.org/wiki/Threat_(computer)\u001b[m\n",
      "\u001b[94m[*]\u001b[m HackerOne[42177595]\u001b[m\n",
      "\u001b[94m[*]\u001b[92m \thttps://en.wikipedia.org/wiki/HackerOne\u001b[m\n",
      "\u001b[94m[*]\u001b[m Fidelis Cybersecurity[32086209]\u001b[m\n",
      "\u001b[94m[*]\u001b[92m \thttps://en.wikipedia.org/wiki/Fidelis_Cybersecurity\u001b[m\n",
      "\u001b[94m[*]\u001b[m 2015 United States–China Cybersecurity Agreement[69386781]\u001b[m\n",
      "\u001b[94m[*]\u001b[92m \thttps://en.wikipedia.org/wiki/2015_United_States–China_Cybersecurity_Agreement\u001b[m\n",
      "\u001b[94m[*]\u001b[m Palo Alto Networks[37486268]\u001b[m\n",
      "\u001b[94m[*]\u001b[92m \thttps://en.wikipedia.org/wiki/Palo_Alto_Networks\u001b[m\n",
      "\u001b[94m[*]\u001b[m Browser isolation[56380195]\u001b[m\n",
      "\u001b[94m[*]\u001b[92m \thttps://en.wikipedia.org/wiki/Browser_isolation\u001b[m\n",
      "\u001b[94m[*]\u001b[m Information technology[36674345]\u001b[m\n",
      "\u001b[94m[*]\u001b[92m \thttps://en.wikipedia.org/wiki/Information_technology\u001b[m\n",
      "\u001b[94m[*]\u001b[m Arms industry[608296]\u001b[m\n",
      "\u001b[94m[*]\u001b[92m \thttps://en.wikipedia.org/wiki/Arms_industry\u001b[m\n",
      "\u001b[94m[*]\u001b[m Comodo Cybersecurity[1826275]\u001b[m\n",
      "\u001b[94m[*]\u001b[92m \thttps://en.wikipedia.org/wiki/Comodo_Cybersecurity\u001b[m\n",
      "\u001b[94m[*]\u001b[m European Union Agency for Cybersecurity[3311621]\u001b[m\n",
      "\u001b[94m[*]\u001b[92m \thttps://en.wikipedia.org/wiki/European_Union_Agency_for_Cybersecurity\u001b[m\n",
      "\u001b[94m[*]\u001b[m National Cybersecurity Authority (Saudi Arabia)[58711568]\u001b[m\n",
      "\u001b[94m[*]\u001b[92m \thttps://en.wikipedia.org/wiki/National_Cybersecurity_Authority_(Saudi_Arabia)\u001b[m\n",
      "\u001b[94m[*]\u001b[m Cybersecurity rating[63093450]\u001b[m\n",
      "\u001b[94m[*]\u001b[92m \thttps://en.wikipedia.org/wiki/Cybersecurity_rating\u001b[m\n",
      "\u001b[94m[*]\u001b[m Alex Sharpe (cybersecurity)[70817511]\u001b[m\n",
      "\u001b[94m[*]\u001b[92m \thttps://en.wikipedia.org/wiki/Alex_Sharpe_(cybersecurity)\u001b[m\n",
      "\u001b[94m[*]\u001b[m National Cybersecurity Center[17849035]\u001b[m\n",
      "\u001b[94m[*]\u001b[92m \thttps://en.wikipedia.org/wiki/National_Cybersecurity_Center\u001b[m\n",
      "\u001b[94m[*]\u001b[m Tenable, Inc.[65415099]\u001b[m\n",
      "\u001b[94m[*]\u001b[92m \thttps://en.wikipedia.org/wiki/Tenable,_Inc.\u001b[m\n",
      "\u001b[94m[*]\u001b[m Douglas Brunt[42853356]\u001b[m\n",
      "\u001b[94m[*]\u001b[92m \thttps://en.wikipedia.org/wiki/Douglas_Brunt\u001b[m\n",
      "\u001b[94m[*]\u001b[m Chris Krebs[62038314]\u001b[m\n",
      "\u001b[94m[*]\u001b[92m \thttps://en.wikipedia.org/wiki/Chris_Krebs\u001b[m\n",
      "\u001b[94m[*]\u001b[m Michael Sussmann[68786089]\u001b[m\n",
      "\u001b[94m[*]\u001b[92m \thttps://en.wikipedia.org/wiki/Michael_Sussmann\u001b[m\n",
      "\u001b[94m[*]\u001b[m Computing[5213]\u001b[m\n",
      "\u001b[94m[*]\u001b[92m \thttps://en.wikipedia.org/wiki/Computing\u001b[m\n",
      "\u001b[94m[*]\u001b[m Artificial intelligence[1164]\u001b[m\n",
      "\u001b[94m[*]\u001b[92m \thttps://en.wikipedia.org/wiki/Artificial_intelligence\u001b[m\n",
      "\u001b[94m[*]\u001b[m Cybersecurity Maturity Model Certification[63887515]\u001b[m\n",
      "\u001b[94m[*]\u001b[92m \thttps://en.wikipedia.org/wiki/Cybersecurity_Maturity_Model_Certification\u001b[m\n",
      "\u001b[94m[*]\u001b[m United States House Homeland Security Subcommittee on Cybersecurity, Infrastructure Protection and Innovation[7715165]\u001b[m\n",
      "\u001b[94m[*]\u001b[92m \thttps://en.wikipedia.org/wiki/United_States_House_Homeland_Security_Subcommittee_on_Cybersecurity,_Infrastructure_Protection_and_Innovation\u001b[m\n",
      "\u001b[94m[*]\u001b[m Cyber Security Agency (Singapore)[47889075]\u001b[m\n",
      "\u001b[94m[*]\u001b[92m \thttps://en.wikipedia.org/wiki/Cyber_Security_Agency_(Singapore)\u001b[m\n",
      "\u001b[94m[*]\u001b[m Tarah Wheeler[51205083]\u001b[m\n",
      "\u001b[94m[*]\u001b[92m \thttps://en.wikipedia.org/wiki/Tarah_Wheeler\u001b[m\n",
      "\u001b[94m[*]\u001b[m Anne Neuberger[62047937]\u001b[m\n",
      "\u001b[94m[*]\u001b[92m \thttps://en.wikipedia.org/wiki/Anne_Neuberger\u001b[m\n",
      "\u001b[94m[*]\u001b[m Cyber Intelligence Sharing and Protection Act[35334535]\u001b[m\n",
      "\u001b[94m[*]\u001b[92m \thttps://en.wikipedia.org/wiki/Cyber_Intelligence_Sharing_and_Protection_Act\u001b[m\n",
      "\u001b[94m[*]\u001b[m 2017 Equifax data breach[57542624]\u001b[m\n",
      "\u001b[94m[*]\u001b[92m \thttps://en.wikipedia.org/wiki/2017_Equifax_data_breach\u001b[m\n"
     ]
    }
   ],
   "source": [
    "!maryam -e wikipedia -q cybersecurity"
   ]
  },
  {
   "cell_type": "code",
   "execution_count": 5,
   "id": "d34c7065",
   "metadata": {},
   "outputs": [
    {
     "name": "stdout",
     "output_type": "stream",
     "text": [
      "{\r\n",
      "    \"titles\": [\r\n",
      "        \"Raju Pariyar[55757017]\",\r\n",
      "        \"Kelimutu[2834946]\",\r\n",
      "        \"Gaun Gaun Bata Utha[66506002]\",\r\n",
      "        \"Malang Regency[9606542]\"\r\n",
      "    ],\r\n",
      "    \"links\": [\r\n",
      "        \"https://en.wikipedia.org/wiki/Raju_Pariyar\",\r\n",
      "        \"https://en.wikipedia.org/wiki/Kelimutu\",\r\n",
      "        \"https://en.wikipedia.org/wiki/Gaun_Gaun_Bata_Utha\",\r\n",
      "        \"https://en.wikipedia.org/wiki/Malang_Regency\"\r\n",
      "    ],\r\n",
      "    \"page\": {},\r\n",
      "    \"running_errors\": []\r\n",
      "}\r\n"
     ]
    }
   ],
   "source": [
    "!maryam -e wikipedia -q hatma --output --api --format"
   ]
  },
  {
   "cell_type": "code",
   "execution_count": null,
   "id": "bb5b11c4",
   "metadata": {},
   "outputs": [],
   "source": []
  }
 ],
 "metadata": {
  "kernelspec": {
   "display_name": "tf",
   "language": "python",
   "name": "tf"
  },
  "language_info": {
   "codemirror_mode": {
    "name": "ipython",
    "version": 3
   },
   "file_extension": ".py",
   "mimetype": "text/x-python",
   "name": "python",
   "nbconvert_exporter": "python",
   "pygments_lexer": "ipython3",
   "version": "3.9.12"
  }
 },
 "nbformat": 4,
 "nbformat_minor": 5
}
