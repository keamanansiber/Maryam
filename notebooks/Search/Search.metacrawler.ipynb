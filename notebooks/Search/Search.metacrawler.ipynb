{
 "cells": [
  {
   "cell_type": "code",
   "execution_count": 1,
   "id": "cb18d018",
   "metadata": {},
   "outputs": [
    {
     "name": "stdout",
     "output_type": "stream",
     "text": [
      "usage: metacrawler [-h] -q QUERY [-l LIMIT] [--output] [--api] [--format]\r\n",
      "\r\n",
      "metacrawler 0.2(Saeed) - description: Search your query in the metacrawler.com\r\n",
      "and show the results.\r\n",
      "\r\n",
      "optional arguments:\r\n",
      "  -h, --help            show this help message and exit\r\n",
      "  -q QUERY, --query QUERY\r\n",
      "                        Query string\r\n",
      "  -l LIMIT, --limit LIMIT\r\n",
      "                        Search limit(number of pages, default=1)\r\n",
      "  --output, --output    Save the output to the workspace\r\n",
      "  --api, --api          Show results in the JSON format\r\n",
      "  --format, --format    Beautifying JSON output if --api is used\r\n"
     ]
    }
   ],
   "source": [
    "!maryam -e metacrawler --help"
   ]
  },
  {
   "cell_type": "code",
   "execution_count": 8,
   "id": "e1854b19",
   "metadata": {},
   "outputs": [
    {
     "name": "stdout",
     "output_type": "stream",
     "text": [
      "\u001b[94m[*]\u001b[m [METACRAWLER] Searching in 1 page...\u001b[m\n",
      "\u001b[94m[*]\u001b[m Security Definition & Meaning - Merriam-Webster\u001b[m\n",
      "\u001b[94m[*]\u001b[m https://www.merriam-webster.com/dictionary/security\u001b[m\n",
      "\u001b[94m[*]\u001b[m https://www.merriam-webster.com/dictionary/security\u001b[m\n",
      "\u001b[94m[*]\u001b[m security: [noun] the quality or state of being secure: such as. freedom from danger : safety. freedom from fear or anxiety. freedom from the prospect of being laid off.\u001b[m\n",
      "\n",
      "\u001b[94m[*]\u001b[m Security - Wikipedia\u001b[m\n",
      "\u001b[94m[*]\u001b[m https://en.wikipedia.org/wiki/Security\u001b[m\n",
      "\u001b[94m[*]\u001b[m https://en.wikipedia.org/wiki/Security\u001b[m\n",
      "\u001b[94m[*]\u001b[m Security is protection from, or resilience against, potential harm (or other unwanted coercive change) caused by others, by restraining the freedom of others to act. Beneficiaries (technically referents) of security may be of persons and social groups, objects and institutions, ecosystems or any other entity or phenomenon vulnerable to unwanted change.\u001b[m\n",
      "\n",
      "\u001b[94m[*]\u001b[m Security - definition of security by The Free Dictionary\u001b[m\n",
      "\u001b[94m[*]\u001b[m https://www.thefreedictionary.com/security\u001b[m\n",
      "\u001b[94m[*]\u001b[m https://www.thefreedictionary.com/security\u001b[m\n",
      "\u001b[94m[*]\u001b[m security. 1. Measures taken by a military unit, activity, or installation to protect itself against all acts designed to, or which may, impair its effectiveness. 2. A condition that results from the establishment and maintenance of protective measures that ensure a state of inviolability from hostile acts or influences. 3.\u001b[m\n",
      "\n",
      "\u001b[94m[*]\u001b[m Security Definition: How Securities Trading Works\u001b[m\n",
      "\u001b[94m[*]\u001b[m https://www.investopedia.com/terms/s/security.asp\u001b[m\n",
      "\u001b[94m[*]\u001b[m https://www.investopedia.com/terms/s/security.asp\u001b[m\n",
      "\u001b[94m[*]\u001b[m A security is a fungible, negotiable financial instrument that represents some type of financial value, usually in the form of a stock, bond, or option.\u001b[m\n",
      "\n",
      "\u001b[94m[*]\u001b[m Cloud Security Services | Microsoft Security\u001b[m\n",
      "\u001b[94m[*]\u001b[m https://www.microsoft.com/en-us/security/\u001b[m\n",
      "\u001b[94m[*]\u001b[m https://www.microsoft.com/en-us/security\u001b[m\n",
      "\u001b[94m[*]\u001b[m Protect your world. Microsoft Security helps protect people and data against cyberthreats to give you peace of mind. For home. For business.\u001b[m\n",
      "\n",
      "\u001b[94m[*]\u001b[m What is Security? - TechTarget\u001b[m\n",
      "\u001b[94m[*]\u001b[m https://www.techtarget.com/searchsecurity/definition/security\u001b[m\n",
      "\u001b[94m[*]\u001b[m https://www.techtarget.com/searchsecurity/definition/security\u001b[m\n",
      "\u001b[94m[*]\u001b[m Adaptive security is an approach to safeguarding systems and data by recognizing threat-related behaviors rather than the files and code used by virus definitions. The essence of the approach is the ability to adapt and respond to a complex and constantly changing environment.\u001b[m\n",
      "\n"
     ]
    }
   ],
   "source": [
    "!maryam -e metacrawler -q security"
   ]
  },
  {
   "cell_type": "code",
   "execution_count": 9,
   "id": "f7984e1e",
   "metadata": {},
   "outputs": [
    {
     "name": "stdout",
     "output_type": "stream",
     "text": [
      "{\r\n",
      "    \"results\": [\r\n",
      "        {\r\n",
      "            \"t\": \"OWASP Foundation | Open Source Foundation for Application Security\",\r\n",
      "            \"a\": \"https://owasp.org/\",\r\n",
      "            \"c\": \"https://owasp.org\",\r\n",
      "            \"d\": \"The OWASP Top 10 is a book/referential document outlining the 10 most critical security concerns for web application security. The report is put together by a team of security experts from all over the world and the data comes from a number of organisations and is then analysed. Read more.. OWASP 2022 Global AppSec European Virtual Event\"\r\n",
      "        },\r\n",
      "        {\r\n",
      "            \"t\": \"OWASP - Wikipedia\",\r\n",
      "            \"a\": \"https://en.wikipedia.org/wiki/OWASP\",\r\n",
      "            \"c\": \"https://en.wikipedia.org/wiki/OWASP\",\r\n",
      "            \"d\": \"The Open Web Application Security Project ( OWASP) is an online community that produces freely-available articles, methodologies, documentation, tools, and technologies in the field of web application security. The Open Web Application Security Project (OWASP) provides free and open resources. It is led by a non-profit called The OWASP Foundation.\"\r\n",
      "        },\r\n",
      "        {\r\n",
      "            \"t\": \"What is OWASP? What is the OWASP Top 10? | Cloudflare\",\r\n",
      "            \"a\": \"https://www.cloudflare.com/learning/security/threats/owasp-top-10/\",\r\n",
      "            \"c\": \"https://www.cloudflare.com/learning/security/threats/owasp-top-10\",\r\n",
      "            \"d\": \"The Open Web Application Security Project, or OWASP, is an international non-profit organization dedicated to web application security. One of OWASP\\u2019s core principles is that all of their materials be freely available and easily accessible on their website, making it possible for anyone to improve their own web application security. The ...\"\r\n",
      "        },\r\n",
      "        {\r\n",
      "            \"t\": \"What Is OWASP? What Is the OWASP Top 10? | Fortinet\",\r\n",
      "            \"a\": \"https://www.fortinet.com/resources/cyberglossary/owasp\",\r\n",
      "            \"c\": \"https://www.fortinet.com/resources/cyberglossary/owasp\",\r\n",
      "            \"d\": \"The Open Web Application Security Project (OWASP) is a nonprofit organization dedicated to improving software security. The OWASP operates on a core principle that makes all of its material freely available and accessible on its website.\"\r\n",
      "        },\r\n",
      "        {\r\n",
      "            \"t\": \"What is OWASP | What are OWASP Top 10 Vulnerabilities | Imperva\",\r\n",
      "            \"a\": \"https://www.imperva.com/learn/application-security/owasp-top-10/\",\r\n",
      "            \"c\": \"https://www.imperva.com/learn/application-security/owasp-top-10\",\r\n",
      "            \"d\": \"The Open Web Application Security Project (OWASP) is a non-profit organization founded in 2001, with the goal of helping website owners and security experts protect web applications from cyber attacks. OWASP has 32,000 volunteers around the world who perform security assessments and research.\"\r\n",
      "        },\r\n",
      "        {\r\n",
      "            \"t\": \"What is OWASP?\",\r\n",
      "            \"a\": \"https://www.prplbx.com/resources/blog/owasp/\",\r\n",
      "            \"c\": \"https://www.prplbx.com/resources/blog/owasp\",\r\n",
      "            \"d\": \"Since OWASP is a non-profit foundation, most of the tools are free and open, not to mention reliable, sources. In addition, it\\u2019s reliable. That is probably one of the main reasons that OWASP has reached its mass usage size, reputation, and importance today. As a non-profit foundation, OWASP accepts donations.\"\r\n",
      "        },\r\n",
      "        {\r\n",
      "            \"t\": \"OWASP Membership Information & Benefits\",\r\n",
      "            \"a\": \"https://dev.owasp.org/membership/\",\r\n",
      "            \"c\": \"https://dev.owasp.org/membership\",\r\n",
      "            \"d\": \"CSW is a US Department of Homeland Security sponsored CVE Numbering Authority and a leader in Attack Surface Management. Our risk management, security management, exposure management, and compliance services have helped companies, government agencies across diverse industries around the globe to secure their business from ever-evolving threats.\"\r\n",
      "        }\r\n",
      "    ],\r\n",
      "    \"running_errors\": []\r\n",
      "}\r\n"
     ]
    }
   ],
   "source": [
    "!maryam -e metacrawler -q owasp --output --api --format"
   ]
  },
  {
   "cell_type": "code",
   "execution_count": null,
   "id": "2ff738ff",
   "metadata": {},
   "outputs": [],
   "source": []
  }
 ],
 "metadata": {
  "kernelspec": {
   "display_name": "tf",
   "language": "python",
   "name": "tf"
  },
  "language_info": {
   "codemirror_mode": {
    "name": "ipython",
    "version": 3
   },
   "file_extension": ".py",
   "mimetype": "text/x-python",
   "name": "python",
   "nbconvert_exporter": "python",
   "pygments_lexer": "ipython3",
   "version": "3.9.12"
  }
 },
 "nbformat": 4,
 "nbformat_minor": 5
}
