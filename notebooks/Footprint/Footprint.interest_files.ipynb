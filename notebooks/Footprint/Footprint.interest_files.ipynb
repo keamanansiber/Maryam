{
 "cells": [
  {
   "cell_type": "code",
   "execution_count": 1,
   "id": "c89fd786",
   "metadata": {},
   "outputs": [
    {
     "name": "stdout",
     "output_type": "stream",
     "text": [
      "usage: interest_files [-h] -d DOMAIN [--logs] [--backup] [--apache] [--admin]\r\n",
      "                      [--soap] [-t THREAD] [--output] [--api] [--format]\r\n",
      "\r\n",
      "interest_files 0.9(Saeed) - description: Search hosts for interesting files.\r\n",
      "\r\n",
      "optional arguments:\r\n",
      "  -h, --help            show this help message and exit\r\n",
      "  -d DOMAIN, --domain DOMAIN\r\n",
      "                        Domain name\r\n",
      "  --logs, --logs        Log files search(7 payload)\r\n",
      "  --backup, --backup    Backup files search(148 payload)\r\n",
      "  --apache, --apache    Apache status check(28 payload\r\n",
      "  --admin, --admin      Admin panel check(482 payload)\r\n",
      "  --soap, --soap        SOAP and REST-based web services(3 payload). it will\r\n",
      "                        be helpful in attacking both SOAP and REST-based web\r\n",
      "                        services\r\n",
      "  -t THREAD, --thread THREAD\r\n",
      "                        The number of links that open per round(default=8)\r\n",
      "  --output, --output    Save the output to the workspace\r\n",
      "  --api, --api          Show results in the JSON format\r\n",
      "  --format, --format    Beautifying JSON output if --api is used\r\n"
     ]
    }
   ],
   "source": [
    "!maryam -e interest_files --help"
   ]
  },
  {
   "cell_type": "code",
   "execution_count": 2,
   "id": "eb069f37",
   "metadata": {},
   "outputs": [
    {
     "name": "stdout",
     "output_type": "stream",
     "text": [
      "Checking payload 8, hits: 0\n",
      "Checking payload 30, hits: 0\n",
      "\u001b[92m[*]\u001b[m COMMON FILES\n",
      "\u001b[94m[*]\u001b[91m \tWithout result\u001b[m\n",
      "\u001b[92m[*]\u001b[m PHPINFO\n",
      "\u001b[94m[*]\u001b[91m \tWithout result\u001b[m\n",
      "\n"
     ]
    }
   ],
   "source": [
    "!maryam -e interest_files -d ibm.com"
   ]
  },
  {
   "cell_type": "code",
   "execution_count": 3,
   "id": "313710ac",
   "metadata": {},
   "outputs": [
    {
     "name": "stdout",
     "output_type": "stream",
     "text": [
      "Checking payload 8, hits: 0\n",
      "Checking payload 30, hits: 0\n",
      "Checking payload 7, hits: 0\n",
      "Checking payload 148, hits: 0\n",
      "Checking payload 28, hits: 0\n",
      "\u001b[94m[*]\u001b[m [SOAP] \u001b[m\n",
      "Checking payload 3, hits: 0\n",
      "\u001b[94m[*]\u001b[93m 1 => Timed out\u001b[m\n",
      "Checking payload 481, hits: 0\n",
      "\u001b[92m[*]\u001b[m COMMON FILES\n",
      "\u001b[94m[*]\u001b[91m \tWithout result\u001b[m\n",
      "\u001b[92m[*]\u001b[m PHPINFO\n",
      "\u001b[94m[*]\u001b[91m \tWithout result\u001b[m\n",
      "\u001b[92m[*]\u001b[m LOGS\n",
      "\u001b[94m[*]\u001b[91m \tWithout result\u001b[m\n",
      "\u001b[92m[*]\u001b[m BACKUP\n",
      "\u001b[94m[*]\u001b[91m \tWithout result\u001b[m\n",
      "\u001b[92m[*]\u001b[m APACHE\n",
      "\u001b[94m[*]\u001b[91m \tWithout result\u001b[m\n",
      "\u001b[92m[*]\u001b[m SOAP\n",
      "\u001b[94m[*]\u001b[91m \tWithout result\u001b[m\n",
      "\u001b[92m[*]\u001b[m ADMIN\n",
      "\u001b[94m[*]\u001b[91m \tWithout result\u001b[m\n",
      "\n"
     ]
    }
   ],
   "source": [
    "!maryam -e interest_files -d ibm.com --logs --backup --apache --admin --soap"
   ]
  },
  {
   "cell_type": "code",
   "execution_count": 4,
   "id": "96792160",
   "metadata": {},
   "outputs": [
    {
     "name": "stdout",
     "output_type": "stream",
     "text": [
      "Checking payload 8, hits: 0\n",
      "Checking payload 30, hits: 0\n",
      "Checking payload 7, hits: 0\n",
      "Checking payload 148, hits: 0\n",
      "Checking payload 28, hits: 0\n",
      "\u001b[94m[*]\u001b[m [SOAP] \u001b[m\n",
      "Checking payload 3, hits: 0\n",
      "\u001b[94m[*]\u001b[93m 1 => Timed out\u001b[m\n",
      "Checking payload 481, hits: 0\n",
      "\u001b[92m[*]\u001b[m COMMON FILES\n",
      "\u001b[94m[*]\u001b[91m \tWithout result\u001b[m\n",
      "\u001b[92m[*]\u001b[m PHPINFO\n",
      "\u001b[94m[*]\u001b[91m \tWithout result\u001b[m\n",
      "\u001b[92m[*]\u001b[m LOGS\n",
      "\u001b[94m[*]\u001b[91m \tWithout result\u001b[m\n",
      "\u001b[92m[*]\u001b[m BACKUP\n",
      "\u001b[94m[*]\u001b[91m \tWithout result\u001b[m\n",
      "\u001b[92m[*]\u001b[m APACHE\n",
      "\u001b[94m[*]\u001b[91m \tWithout result\u001b[m\n",
      "\u001b[92m[*]\u001b[m SOAP\n",
      "\u001b[94m[*]\u001b[91m \tWithout result\u001b[m\n",
      "\u001b[92m[*]\u001b[m ADMIN\n",
      "\u001b[94m[*]\u001b[91m \tWithout result\u001b[m\n",
      "\n"
     ]
    }
   ],
   "source": [
    "!maryam -e interest_files -d its.ac.id --logs --backup --apache --admin --soap --output"
   ]
  },
  {
   "cell_type": "code",
   "execution_count": 5,
   "id": "27e56f81",
   "metadata": {},
   "outputs": [
    {
     "name": "stdout",
     "output_type": "stream",
     "text": [
      "{\r\n",
      "    \"common_files\": [],\r\n",
      "    \"phpinfo\": [],\r\n",
      "    \"logs\": [],\r\n",
      "    \"backup\": [],\r\n",
      "    \"apache\": [],\r\n",
      "    \"soap\": [],\r\n",
      "    \"admin\": [],\r\n",
      "    \"running_errors\": []\r\n",
      "}\r\n"
     ]
    }
   ],
   "source": [
    "!maryam -e interest_files -d keamanansiber.id --logs --backup --apache --admin --soap --output --api --format"
   ]
  }
 ],
 "metadata": {
  "kernelspec": {
   "display_name": "tf",
   "language": "python",
   "name": "tf"
  },
  "language_info": {
   "codemirror_mode": {
    "name": "ipython",
    "version": 3
   },
   "file_extension": ".py",
   "mimetype": "text/x-python",
   "name": "python",
   "nbconvert_exporter": "python",
   "pygments_lexer": "ipython3",
   "version": "3.9.12"
  }
 },
 "nbformat": 4,
 "nbformat_minor": 5
}
