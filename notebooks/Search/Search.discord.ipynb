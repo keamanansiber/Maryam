{
 "cells": [
  {
   "cell_type": "code",
   "execution_count": 1,
   "id": "ca65369f",
   "metadata": {},
   "outputs": [
    {
     "name": "stdout",
     "output_type": "stream",
     "text": [
      "usage: discord [-h] [-u USER] [-s SERVER] [-l LIMIT] [-e ENGINE] [-t THREAD]\r\n",
      "               [--output] [--api] [--format]\r\n",
      "\r\n",
      "discord 1.0(Divya Goswami) - description: Search the name of any user or\r\n",
      "server on discord [from disboard and discordhub]\r\n",
      "\r\n",
      "optional arguments:\r\n",
      "  -h, --help            show this help message and exit\r\n",
      "  -u USER, --user USER  User flag (search for a user based on the integer\r\n",
      "                        hash)\r\n",
      "  -s SERVER, --server SERVER\r\n",
      "                        Server flag (search for a server)\r\n",
      "  -l LIMIT, --limit LIMIT\r\n",
      "                        Search limit(number of pages, default=3)\r\n",
      "  -e ENGINE, --engine ENGINE\r\n",
      "                        Engine used is discord\r\n",
      "  -t THREAD, --thread THREAD\r\n",
      "                        The number of engine that run per round(default=2)\r\n",
      "  --output, --output    Save the output to the workspace\r\n",
      "  --api, --api          Show results in the JSON format\r\n",
      "  --format, --format    Beautifying JSON output if --api is used\r\n"
     ]
    }
   ],
   "source": [
    "!maryam -e discord --help"
   ]
  },
  {
   "cell_type": "code",
   "execution_count": 7,
   "id": "ab66efe0",
   "metadata": {},
   "outputs": [
    {
     "name": "stdout",
     "output_type": "stream",
     "text": [
      "\u001b[94m[*]\u001b[m [DISCORD] Searching in 0 page...\u001b[m\n",
      "\u001b[94m[*]\u001b[m [DISCORD] Searching in 1 page...\u001b[m\n",
      "\u001b[94m[*]\u001b[m [DISCORD] Searching in 2 page...\u001b[m\n",
      "\u001b[92m[*]\u001b[m SERVERS\n",
      "\u001b[94m[*]\u001b[91m \tWithout result\u001b[m\n",
      "\u001b[92m[*]\u001b[m USERS\n",
      "\u001b[94m[*]\u001b[91m \tWithout result\u001b[m\n",
      "\n"
     ]
    }
   ],
   "source": [
    "!maryam -e discord -u maryam"
   ]
  },
  {
   "cell_type": "code",
   "execution_count": 9,
   "id": "8a08b407",
   "metadata": {},
   "outputs": [
    {
     "name": "stdout",
     "output_type": "stream",
     "text": [
      "{\r\n",
      "    \"servers\": [],\r\n",
      "    \"users\": [],\r\n",
      "    \"running_errors\": []\r\n",
      "}\r\n"
     ]
    }
   ],
   "source": [
    "!maryam -e discord -u owasp --output --api --format"
   ]
  },
  {
   "cell_type": "code",
   "execution_count": null,
   "id": "a2206066",
   "metadata": {},
   "outputs": [],
   "source": []
  }
 ],
 "metadata": {
  "kernelspec": {
   "display_name": "tf",
   "language": "python",
   "name": "tf"
  },
  "language_info": {
   "codemirror_mode": {
    "name": "ipython",
    "version": 3
   },
   "file_extension": ".py",
   "mimetype": "text/x-python",
   "name": "python",
   "nbconvert_exporter": "python",
   "pygments_lexer": "ipython3",
   "version": "3.9.12"
  }
 },
 "nbformat": 4,
 "nbformat_minor": 5
}
