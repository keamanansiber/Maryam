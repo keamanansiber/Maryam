{
 "cells": [
  {
   "cell_type": "code",
   "execution_count": 1,
   "id": "1c0d8b85",
   "metadata": {},
   "outputs": [
    {
     "name": "stdout",
     "output_type": "stream",
     "text": [
      "usage: instagram [-h] -q QUERY [-l LIMIT] [-c COUNT] [-e ENGINE]\r\n",
      "                 [-s SESSION_ID] [-t THREAD] [--output] [--api] [--format]\r\n",
      "\r\n",
      "instagram 0.7(Aman Singh) - description: Search your query in the Instagram\r\n",
      "and show the results.\r\n",
      "\r\n",
      "optional arguments:\r\n",
      "  -h, --help            show this help message and exit\r\n",
      "  -q QUERY, --query QUERY\r\n",
      "                        Query string\r\n",
      "  -l LIMIT, --limit LIMIT\r\n",
      "                        Search limit(number of pages, default=1)\r\n",
      "  -c COUNT, --count COUNT\r\n",
      "                        Number of links per page(min=10, max=100, default=50)\r\n",
      "  -e ENGINE, --engine ENGINE\r\n",
      "                        Engine names for search(default=google, instagram)\r\n",
      "  -s SESSION_ID, --session_id SESSION_ID\r\n",
      "                        Insta Account Session_id for more details results\r\n",
      "                        (default=\"\")\r\n",
      "  -t THREAD, --thread THREAD\r\n",
      "                        The number of engine that run per round(default=2)\r\n",
      "  --output, --output    Save the output to the workspace\r\n",
      "  --api, --api          Show results in the JSON format\r\n",
      "  --format, --format    Beautifying JSON output if --api is used\r\n"
     ]
    }
   ],
   "source": [
    "!maryam -e instagram --help"
   ]
  },
  {
   "cell_type": "code",
   "execution_count": 4,
   "id": "b4c5c3ea",
   "metadata": {},
   "outputs": [
    {
     "name": "stdout",
     "output_type": "stream",
     "text": [
      "\u001b[93m[!] [instagram:module_api] \"sessionid\" field from cookies is required for instagram engine.\u001b[m\r\n",
      "\u001b[93m[!] [instagram:opt_proc] File \"/home/hatma/anaconda3/envs/tf/lib/python3.9/site-packages/maryam-2.5.1.post0-py3.9.egg/maryam/core/initial.py\", line 284, in alert_results.\u001b[m\r\n",
      "\u001b[93m[!] [instagram:opt_proc] AttributeError: 'NoneType' object has no attribute 'strip'.\u001b[m\r\n"
     ]
    }
   ],
   "source": [
    "!maryam -e instagram -q cybersecurity -e instagram"
   ]
  },
  {
   "cell_type": "code",
   "execution_count": 5,
   "id": "16181e43",
   "metadata": {},
   "outputs": [
    {
     "name": "stdout",
     "output_type": "stream",
     "text": [
      "\u001b[93m[!] [instagram:opt_proc] File \"/home/hatma/anaconda3/envs/tf/lib/python3.9/site-packages/maryam-2.5.1.post0-py3.9.egg/maryam/core/initial.py\", line 365, in opt_proc.\u001b[m\r\n",
      "\u001b[93m[!] [instagram:opt_proc] TypeError: 'NoneType' object does not support item assignment.\u001b[m\r\n"
     ]
    }
   ],
   "source": [
    "!maryam -e instagram -q suryotrisongko  -e instagram --output --api --format"
   ]
  },
  {
   "cell_type": "code",
   "execution_count": null,
   "id": "838f48d7",
   "metadata": {},
   "outputs": [],
   "source": []
  }
 ],
 "metadata": {
  "kernelspec": {
   "display_name": "tf",
   "language": "python",
   "name": "tf"
  },
  "language_info": {
   "codemirror_mode": {
    "name": "ipython",
    "version": 3
   },
   "file_extension": ".py",
   "mimetype": "text/x-python",
   "name": "python",
   "nbconvert_exporter": "python",
   "pygments_lexer": "ipython3",
   "version": "3.9.12"
  }
 },
 "nbformat": 4,
 "nbformat_minor": 5
}
