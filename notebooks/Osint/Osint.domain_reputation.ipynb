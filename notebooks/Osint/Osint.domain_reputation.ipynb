{
 "cells": [
  {
   "cell_type": "code",
   "execution_count": 1,
   "id": "8d682114",
   "metadata": {},
   "outputs": [
    {
     "name": "stdout",
     "output_type": "stream",
     "text": [
      "usage: domain_reputation [-h] -d DOMAIN [-e ENGINES] [-t THREAD] [--output]\r\n",
      "                         [--api] [--format]\r\n",
      "\r\n",
      "domain_reputation 0.3(Kunal Khandelwal) - description: Check domain reputation\r\n",
      "with different sources and provide a summary of combined results.\r\n",
      "\r\n",
      "optional arguments:\r\n",
      "  -h, --help            show this help message and exit\r\n",
      "  -d DOMAIN, --domain DOMAIN\r\n",
      "                        Domain name without https?://\r\n",
      "  -e ENGINES, --engines ENGINES\r\n",
      "                        Search engine\r\n",
      "                        names(default=[barracudacentral,multirbl, mxtoolbox])\r\n",
      "  -t THREAD, --thread THREAD\r\n",
      "                        The number of engine that run per round(default=2)\r\n",
      "  --output, --output    Save the output to the workspace\r\n",
      "  --api, --api          Show results in the JSON format\r\n",
      "  --format, --format    Beautifying JSON output if --api is used\r\n"
     ]
    }
   ],
   "source": [
    "!maryam -e domain_reputation --help"
   ]
  },
  {
   "cell_type": "code",
   "execution_count": 2,
   "id": "c816c303",
   "metadata": {},
   "outputs": [
    {
     "name": "stdout",
     "output_type": "stream",
     "text": [
      "\u001b[94m[*]\u001b[m [Barracuda] Searching in barracuda...\u001b[m\n",
      "\u001b[94m[*]\u001b[m [Multirbl] Searching in multirbl.valli.org...\u001b[m\n",
      "\u001b[94m[*]\u001b[m [MXTOOLBOX] Searching in mxtoolbox...\u001b[m\n",
      "\u001b[93m[!] [domain_reputation:mxtoolbox] Mxtoolbox needs a valid API key.\u001b[m\n",
      "\u001b[94m[*]\u001b[m [NORTON] Scanning domain...\u001b[m\n",
      "\u001b[94m[*]\u001b[m CATEGORY\n",
      "\tshopping\u001b[m\n",
      "\u001b[94m[*]\u001b[m NUMBER OF PRESENCE ON BLACKLIST\n",
      "\t0\u001b[m\n",
      "\u001b[94m[*]\u001b[m BLACKLISTS\u001b[m\n",
      "\u001b[94m[*]\u001b[m ABSENCE PERCENTAGE\n",
      "\t100.0\u001b[m\n",
      "\u001b[94m[*]\u001b[m NORTON SAFE WEB REPORT\n",
      "\tThreat Report: keamanansiber.id not yet rated as dangerous.\u001b[m\n"
     ]
    }
   ],
   "source": [
    "!maryam -e domain_reputation -d keamanansiber.id"
   ]
  },
  {
   "cell_type": "code",
   "execution_count": 3,
   "id": "79243ead",
   "metadata": {
    "scrolled": true
   },
   "outputs": [
    {
     "name": "stdout",
     "output_type": "stream",
     "text": [
      "{\r\n",
      "    \"category\": \"education-reference\",\r\n",
      "    \"number\": 0,\r\n",
      "    \"blacklists\": [],\r\n",
      "    \"absence\": 100.0,\r\n",
      "    \"norton\": \"Threat Report: its.ac.id not yet rated as dangerous.\",\r\n",
      "    \"running_errors\": [\r\n",
      "        \"[domain_reputation:mxtoolbox] Mxtoolbox needs a valid API key.\"\r\n",
      "    ]\r\n",
      "}\r\n"
     ]
    }
   ],
   "source": [
    "!maryam -e domain_reputation -d its.ac.id --output --api --format"
   ]
  },
  {
   "cell_type": "code",
   "execution_count": null,
   "id": "c0ec8f7b",
   "metadata": {},
   "outputs": [],
   "source": []
  }
 ],
 "metadata": {
  "kernelspec": {
   "display_name": "tf",
   "language": "python",
   "name": "tf"
  },
  "language_info": {
   "codemirror_mode": {
    "name": "ipython",
    "version": 3
   },
   "file_extension": ".py",
   "mimetype": "text/x-python",
   "name": "python",
   "nbconvert_exporter": "python",
   "pygments_lexer": "ipython3",
   "version": "3.9.12"
  }
 },
 "nbformat": 4,
 "nbformat_minor": 5
}
