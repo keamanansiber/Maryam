{
 "cells": [
  {
   "cell_type": "code",
   "execution_count": 1,
   "id": "71b5c84a",
   "metadata": {},
   "outputs": [
    {
     "name": "stdout",
     "output_type": "stream",
     "text": [
      "usage: social_nets [-h] -q QUERY [-e ENGINES] [-u URL] [-d DEPTH] [-T CTHREAD]\r\n",
      "                   [-l LIMIT] [-c COUNT] [-t THREAD] [--output] [--api]\r\n",
      "                   [--format]\r\n",
      "\r\n",
      "social_nets 1.5(Saeed) - description: Search to find Usernames in social\r\n",
      "networks.\r\n",
      "\r\n",
      "optional arguments:\r\n",
      "  -h, --help            show this help message and exit\r\n",
      "  -q QUERY, --query QUERY\r\n",
      "                        Company Name or Query\r\n",
      "  -e ENGINES, --engines ENGINES\r\n",
      "                        Search engine names. e.g `bing,google,..`\r\n",
      "  -u URL, --url URL     The second source to crawl for\r\n",
      "  -d DEPTH, --depth DEPTH\r\n",
      "                        Scraper depth level(default=1)(Only if the url is set)\r\n",
      "  -T CTHREAD, --cthread CTHREAD\r\n",
      "                        The number of links that open per\r\n",
      "                        round(default=5)(Only if the url is set)\r\n",
      "  -l LIMIT, --limit LIMIT\r\n",
      "                        Search limit(number of pages, default=5)\r\n",
      "  -c COUNT, --count COUNT\r\n",
      "                        number of results per page(min=10, max=100,\r\n",
      "                        default=100)\r\n",
      "  -t THREAD, --thread THREAD\r\n",
      "                        The number of engine that run per round(default=2)\r\n",
      "  --output, --output    Save the output to the workspace\r\n",
      "  --api, --api          Show results in the JSON format\r\n",
      "  --format, --format    Beautifying JSON output if --api is used\r\n"
     ]
    }
   ],
   "source": [
    "!maryam -e social_nets --help"
   ]
  },
  {
   "cell_type": "code",
   "execution_count": 3,
   "id": "7774a60d",
   "metadata": {},
   "outputs": [
    {
     "name": "stdout",
     "output_type": "stream",
     "text": [
      "\u001b[94m[*]\u001b[m [GOOGLE] Searching in 1 page...\u001b[m\n",
      "\u001b[94m[*]\u001b[m [BING] Searching in 1 page...\u001b[m\n",
      "\u001b[93m[!] [util/google:run_crawl] Google CAPTCHA triggered.\u001b[m\n",
      "\u001b[92m[*]\u001b[m Instagram\n",
      "\u001b[94m[*]\u001b[92m \tinstagram.com/hatma.suryoharyo\u001b[m\n",
      "\u001b[94m[*]\u001b[92m \tinstagram.com/hatma_nu\u001b[m\n",
      "\u001b[92m[*]\u001b[m Facebook\n",
      "\u001b[94m[*]\u001b[92m \tfacebook.com/hatmaterapiasorientais\u001b[m\n",
      "\u001b[94m[*]\u001b[92m \tfacebook.com/vaniaschaeferterapeuta\u001b[m\n"
     ]
    }
   ],
   "source": [
    "!maryam -e social_nets -q hatma"
   ]
  },
  {
   "cell_type": "code",
   "execution_count": 5,
   "id": "f48a7efb",
   "metadata": {},
   "outputs": [
    {
     "name": "stdout",
     "output_type": "stream",
     "text": [
      "{\r\n",
      "    \"Instagram\": [\r\n",
      "        \"instagram.com/p\"\r\n",
      "    ],\r\n",
      "    \"Facebook\": [\r\n",
      "        \"facebook.com/profile\"\r\n",
      "    ],\r\n",
      "    \"Twitter\": [\r\n",
      "        \"twitter.com/suryotrisongko\",\r\n",
      "        \"twitter.com/hashtag\",\r\n",
      "        \"twitter.com/search\",\r\n",
      "        \"twitter.com/suryotrisongko\\\\x22\"\r\n",
      "    ],\r\n",
      "    \"Github\": [\r\n",
      "        \"github.com/suryotrisongko\",\r\n",
      "        \"github.com/ElliottLandsborough\",\r\n",
      "        \"github.com/jundyokoi\"\r\n",
      "    ],\r\n",
      "    \"Github site\": [],\r\n",
      "    \"Telegram\": [],\r\n",
      "    \"Youtube user\": [],\r\n",
      "    \"Youtube channel\": [],\r\n",
      "    \"Linkedin company\": [],\r\n",
      "    \"Linkedin individual\": [],\r\n",
      "    \"Googleplus\": [],\r\n",
      "    \"WordPress\": [],\r\n",
      "    \"Reddit\": [],\r\n",
      "    \"Tumblr\": [],\r\n",
      "    \"Blogger\": [],\r\n",
      "    \"running_errors\": []\r\n",
      "}\r\n"
     ]
    }
   ],
   "source": [
    "!maryam -e social_nets -q suryotrisongko --output --api --format"
   ]
  },
  {
   "cell_type": "code",
   "execution_count": null,
   "id": "b445a2a9",
   "metadata": {},
   "outputs": [],
   "source": []
  }
 ],
 "metadata": {
  "kernelspec": {
   "display_name": "tf",
   "language": "python",
   "name": "tf"
  },
  "language_info": {
   "codemirror_mode": {
    "name": "ipython",
    "version": 3
   },
   "file_extension": ".py",
   "mimetype": "text/x-python",
   "name": "python",
   "nbconvert_exporter": "python",
   "pygments_lexer": "ipython3",
   "version": "3.9.12"
  }
 },
 "nbformat": 4,
 "nbformat_minor": 5
}
