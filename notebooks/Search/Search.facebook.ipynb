{
 "cells": [
  {
   "cell_type": "code",
   "execution_count": 1,
   "id": "9e4ea615",
   "metadata": {},
   "outputs": [
    {
     "name": "stdout",
     "output_type": "stream",
     "text": [
      "usage: facebook [-h] -q QUERY [-l LIMIT] [-c COUNT] [-t THREAD] [-e ENGINE]\r\n",
      "                [--output] [--api] [--format]\r\n",
      "\r\n",
      "facebook 0.1(Saeed) - description: Search your query in the facebook.com and\r\n",
      "show the results.\r\n",
      "\r\n",
      "optional arguments:\r\n",
      "  -h, --help            show this help message and exit\r\n",
      "  -q QUERY, --query QUERY\r\n",
      "                        Query string\r\n",
      "  -l LIMIT, --limit LIMIT\r\n",
      "                        Search limit(number of pages, default=1)\r\n",
      "  -c COUNT, --count COUNT\r\n",
      "                        Number of links per page(min=10, max=100, default=50)\r\n",
      "  -t THREAD, --thread THREAD\r\n",
      "                        The number of engine that run per round(default=2)\r\n",
      "  -e ENGINE, --engine ENGINE\r\n",
      "                        Engine names for search(default=google)\r\n",
      "  --output, --output    Save the output to the workspace\r\n",
      "  --api, --api          Show results in the JSON format\r\n",
      "  --format, --format    Beautifying JSON output if --api is used\r\n"
     ]
    }
   ],
   "source": [
    "!maryam -e facebook --help"
   ]
  },
  {
   "cell_type": "code",
   "execution_count": 2,
   "id": "99eed51b",
   "metadata": {},
   "outputs": [
    {
     "name": "stdout",
     "output_type": "stream",
     "text": [
      "\u001b[94m[*]\u001b[m [GOOGLE] Searching in 1 page...\u001b[m\n",
      "\u001b[92m[*]\u001b[m LINKS\n",
      "\u001b[94m[*]\u001b[91m \tWithout result\u001b[m\n",
      "\u001b[92m[*]\u001b[m PEOPLE\n",
      "\u001b[94m[*]\u001b[92m \techonetworkeurope\u001b[m\n",
      "\u001b[94m[*]\u001b[92m \tstaysafeonline\u001b[m\n",
      "\u001b[94m[*]\u001b[92m \tarteculate\u001b[m\n",
      "\u001b[94m[*]\u001b[92m \tCyberSecuritNews\u001b[m\n",
      "\u001b[94m[*]\u001b[92m \tchoicecybersecure\u001b[m\n",
      "\u001b[94m[*]\u001b[92m \tCybersecUniPD\u001b[m\n",
      "\u001b[94m[*]\u001b[92m \tcommunitystandards\u001b[m\n",
      "\u001b[94m[*]\u001b[92m \thashtag\u001b[m\n",
      "\u001b[94m[*]\u001b[92m \tpermalink\u001b[m\n",
      "\u001b[94m[*]\u001b[92m \tgroups\u001b[m\n",
      "\u001b[94m[*]\u001b[92m \tmantuaconsulting\u001b[m\n",
      "\u001b[94m[*]\u001b[92m \tisc2fb\u001b[m\n",
      "\u001b[94m[*]\u001b[92m \tBroadcastAsia\u001b[m\n",
      "\u001b[94m[*]\u001b[92m \tCISA\u001b[m\n",
      "\u001b[94m[*]\u001b[92m \tCyberSecMonthEU\u001b[m\n",
      "\u001b[94m[*]\u001b[92m \t1727698474149930\u001b[m\n",
      "\u001b[94m[*]\u001b[92m \tCSCutd\u001b[m\n",
      "\u001b[94m[*]\u001b[92m \tIPMCTraining\u001b[m\n",
      "\u001b[94m[*]\u001b[92m \tENISAEUAGENCY 22\u001b[m\n",
      "\u001b[94m[*]\u001b[92m \tgridware\u001b[m\n",
      "\u001b[94m[*]\u001b[92m \tCyberDive\u001b[m\n",
      "\u001b[94m[*]\u001b[92m \tcyberseceu\u001b[m\n",
      "\u001b[94m[*]\u001b[92m \tUWFCyber\u001b[m\n",
      "\u001b[94m[*]\u001b[92m \tCyberProof\u001b[m\n",
      "\u001b[94m[*]\u001b[92m \tiVisionATL\u001b[m\n",
      "\u001b[94m[*]\u001b[92m \tWomenCSSocietyInc\u001b[m\n",
      "\u001b[94m[*]\u001b[92m \tCodeRedECC\u001b[m\n",
      "\u001b[94m[*]\u001b[92m \tCYBERSECgovph\u001b[m\n",
      "\u001b[94m[*]\u001b[92m \tBluePex\u001b[m\n",
      "\u001b[94m[*]\u001b[92m \tUofLCyberCert\u001b[m\n",
      "\u001b[94m[*]\u001b[92m \tcybersec\u001b[m\n",
      "\u001b[94m[*]\u001b[92m \tcoronetworks\u001b[m\n",
      "\u001b[94m[*]\u001b[92m \tENISAEUAGENCY\u001b[m\n",
      "\u001b[94m[*]\u001b[92m \tcybersecnews\u001b[m\n",
      "\u001b[94m[*]\u001b[92m \taskarisit\u001b[m\n",
      "\u001b[92m[*]\u001b[m GROUPS\n",
      "\u001b[94m[*]\u001b[91m \tWithout result\u001b[m\n",
      "\u001b[92m[*]\u001b[m HASHTAGS\n",
      "\u001b[94m[*]\u001b[91m \tWithout result\u001b[m\n",
      "\n"
     ]
    }
   ],
   "source": [
    "!maryam -e facebook -q cybersecurity"
   ]
  },
  {
   "cell_type": "code",
   "execution_count": 3,
   "id": "bd018084",
   "metadata": {},
   "outputs": [
    {
     "name": "stdout",
     "output_type": "stream",
     "text": [
      "{\r\n",
      "    \"links\": [],\r\n",
      "    \"people\": [\r\n",
      "        \"groups\",\r\n",
      "        \"people\",\r\n",
      "        \"ppikumamoto\",\r\n",
      "        \"centenarypang\",\r\n",
      "        \"public\",\r\n",
      "        \"permalink\",\r\n",
      "        \"Bkck95\",\r\n",
      "        \"263241270458720\",\r\n",
      "        \"pages\",\r\n",
      "        \"lipiindonesia\",\r\n",
      "        \"hatma\",\r\n",
      "        \"PPI-Jepang-Kumamoto-450383971822732\"\r\n",
      "    ],\r\n",
      "    \"groups\": [],\r\n",
      "    \"hashtags\": [],\r\n",
      "    \"running_errors\": []\r\n",
      "}\r\n"
     ]
    }
   ],
   "source": [
    "!maryam -e facebook -q suryotrisongko --output --api --format"
   ]
  },
  {
   "cell_type": "code",
   "execution_count": null,
   "id": "e0e1f21d",
   "metadata": {},
   "outputs": [],
   "source": []
  }
 ],
 "metadata": {
  "kernelspec": {
   "display_name": "tf",
   "language": "python",
   "name": "tf"
  },
  "language_info": {
   "codemirror_mode": {
    "name": "ipython",
    "version": 3
   },
   "file_extension": ".py",
   "mimetype": "text/x-python",
   "name": "python",
   "nbconvert_exporter": "python",
   "pygments_lexer": "ipython3",
   "version": "3.9.12"
  }
 },
 "nbformat": 4,
 "nbformat_minor": 5
}
