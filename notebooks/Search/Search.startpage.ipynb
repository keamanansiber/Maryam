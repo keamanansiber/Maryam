{
 "cells": [
  {
   "cell_type": "code",
   "execution_count": 1,
   "id": "182db2a2",
   "metadata": {},
   "outputs": [
    {
     "name": "stdout",
     "output_type": "stream",
     "text": [
      "usage: startpage [-h] -q QUERY [-l LIMIT] [--output] [--api] [--format]\r\n",
      "\r\n",
      "startpage 0.1(Saeed) - description: Search your query in the bing.com and show\r\n",
      "the results.\r\n",
      "\r\n",
      "optional arguments:\r\n",
      "  -h, --help            show this help message and exit\r\n",
      "  -q QUERY, --query QUERY\r\n",
      "                        Query string\r\n",
      "  -l LIMIT, --limit LIMIT\r\n",
      "                        Number of results per page(min=10, max=100,\r\n",
      "                        default=50)\r\n",
      "  --output, --output    Save the output to the workspace\r\n",
      "  --api, --api          Show results in the JSON format\r\n",
      "  --format, --format    Beautifying JSON output if --api is used\r\n"
     ]
    }
   ],
   "source": [
    "!maryam -e startpage --help"
   ]
  },
  {
   "cell_type": "code",
   "execution_count": 2,
   "id": "76fcc3db",
   "metadata": {},
   "outputs": [
    {
     "name": "stdout",
     "output_type": "stream",
     "text": [
      "\u001b[94m[*]\u001b[m [STARTPAGE] Searching in startpage.com...\u001b[m\n",
      "\u001b[94m[*]\u001b[m What is Cybersecurity? | IBM\u001b[m\n",
      "\u001b[94m[*]\u001b[m https://www.ibm.com/sg-en/topics/cybersecurity\u001b[m\n",
      "\u001b[94m[*]\u001b[m https://www.ibm.com › sg-en › topics › cy...\u001b[m\n",
      "\u001b[94m[*]\u001b[m Cybersecurity is the practice of protecting critical systems and sensitive information from digital attacks. Also known as information technology (IT) ...\u001b[m\n",
      "\n",
      "\u001b[94m[*]\u001b[m What Is Cybersecurity? - Cisco\u001b[m\n",
      "\u001b[94m[*]\u001b[m https://www.cisco.com/c/en_sg/products/security/what-is-cybersecurity.html\u001b[m\n",
      "\u001b[94m[*]\u001b[m https://www.cisco.com › c › en_sg › product...\u001b[m\n",
      "\u001b[94m[*]\u001b[m Cybersecurity is the practice of protecting systems, networks, and programs from digital attacks. These cyberattacks are usually aimed at accessing, ...\u001b[m\n",
      "\n",
      "\u001b[94m[*]\u001b[m What is Cyber Security? Definition, Best Practices & Examples\u001b[m\n",
      "\u001b[94m[*]\u001b[m https://digitalguardian.com/blog/what-cyber-security\u001b[m\n",
      "\u001b[94m[*]\u001b[m https://digitalguardian.com › blog › what-cyber-s...\u001b[m\n",
      "\u001b[94m[*]\u001b[m 14 Mar 2022 ... Cyber security refers to the body of technologies, processes, and practices designed to protect networks, devices, programs, and data from ...\u001b[m\n",
      "\n",
      "\u001b[94m[*]\u001b[m Computer security - Wikipedia\u001b[m\n",
      "\u001b[94m[*]\u001b[m https://en.wikipedia.org/wiki/Computer_security\u001b[m\n",
      "\u001b[94m[*]\u001b[m https://en.wikipedia.org › wiki › Computer_sec...\u001b[m\n",
      "\u001b[94m[*]\u001b[m Computer security, cybersecurity (cyber security), or information technology security (IT security) is the protection of · The field has become significant due ...\u001b[m\n",
      "\n",
      "\u001b[94m[*]\u001b[m 134 Cybersecurity Statistics and Trends for 2021 - Varonis\u001b[m\n",
      "\u001b[94m[*]\u001b[m https://www.varonis.com/blog/cybersecurity-statistics\u001b[m\n",
      "\u001b[94m[*]\u001b[m https://www.varonis.com › blog › cybersecurit...\u001b[m\n",
      "\u001b[94m[*]\u001b[m 8 days ago ... These cybersecurity statistics for 2021 are grouped by category and include breaches, costs, crime type, compliance, industry-specific stats ...\u001b[m\n",
      "\n",
      "\u001b[94m[*]\u001b[m What is Cybersecurity? Everything You Need to Know - TechTarget\u001b[m\n",
      "\u001b[94m[*]\u001b[m https://www.techtarget.com/searchsecurity/definition/cybersecurity\u001b[m\n",
      "\u001b[94m[*]\u001b[m https://www.techtarget.com › searchsecurity › de...\u001b[m\n",
      "\u001b[94m[*]\u001b[m Cybersecurity is the protection of internet-connected systems such as hardware, software and data from cyberthreats. The practice is used by individuals and ...\u001b[m\n",
      "\n",
      "\u001b[94m[*]\u001b[m What is Cyber Security? | Definition, Types, and User Protection\u001b[m\n",
      "\u001b[94m[*]\u001b[m https://www.kaspersky.com/resource-center/definitions/what-is-cyber-security\u001b[m\n",
      "\u001b[94m[*]\u001b[m https://www.kaspersky.com › resource-center › d...\u001b[m\n",
      "\u001b[94m[*]\u001b[m Cyber security is the practice of defending computers, servers, mobile devices, electronic systems, networks, and data from malicious attacks.\u001b[m\n",
      "\n",
      "\u001b[94m[*]\u001b[m What Is Cybersecurity | Types and Threats Defined - CompTIA\u001b[m\n",
      "\u001b[94m[*]\u001b[m https://www.comptia.org/content/articles/what-is-cybersecurity\u001b[m\n",
      "\u001b[94m[*]\u001b[m https://www.comptia.org › content › articles ...\u001b[m\n",
      "\u001b[94m[*]\u001b[m What Is Cybersecurity? ... Cy·ber·se·cur·i·ty. The practice of being protected against the criminal or unauthorized use of electronic data, or the measures taken ...\u001b[m\n",
      "\n",
      "\u001b[94m[*]\u001b[m What is Cyber Security? Definition & Best Practices - IT Governance\u001b[m\n",
      "\u001b[94m[*]\u001b[m https://www.itgovernance.co.uk/what-is-cybersecurity\u001b[m\n",
      "\u001b[94m[*]\u001b[m https://www.itgovernance.co.uk › what-is-cybersecuri\u001b[m\n",
      "\u001b[94m[*]\u001b[m Cyber security is the application of technologies, processes and controls to protect systems, networks, programs, devices and data from cyber attacks.\u001b[m\n",
      "\n",
      "\u001b[94m[*]\u001b[m Cyber Security Agency of Singapore\u001b[m\n",
      "\u001b[94m[*]\u001b[m https://www.csa.gov.sg/\u001b[m\n",
      "\u001b[94m[*]\u001b[m https://www.csa.gov.sg\u001b[m\n",
      "\u001b[94m[*]\u001b[m CSA is the national agency overseeing cybersecurity strategy, operations, education, outreach, and ecosystem development.\u001b[m\n",
      "\n"
     ]
    }
   ],
   "source": [
    "!maryam -e startpage -q cybersecurity"
   ]
  },
  {
   "cell_type": "code",
   "execution_count": 4,
   "id": "d6abec0c",
   "metadata": {},
   "outputs": [
    {
     "name": "stdout",
     "output_type": "stream",
     "text": [
      "{\r\n",
      "    \"results\": [\r\n",
      "        {\r\n",
      "            \"t\": \"\\u202aHatma Suryotrisongko\\u202c - \\u202aGoogle Scholar\\u202c\",\r\n",
      "            \"a\": \"https://scholar.google.co.id/citations?user=eKpmmScAAAAJ&hl=en\",\r\n",
      "            \"c\": \"https://scholar.google.co.id \\u203a citations\",\r\n",
      "            \"d\": \"EEG wave identification in human brain with Emotiv EPOC for motor imagery. MN Fakhruzzaman, E Riksakomara, H Suryotrisongko. Procedia Computer Science 72, 269-\\u00a0...\"\r\n",
      "        },\r\n",
      "        {\r\n",
      "            \"t\": \"Hatma Suryotrisongko (@hatmasuryotrisongko) \\u2022 Instagram photos ...\",\r\n",
      "            \"a\": \"https://www.instagram.com/hatmasuryotrisongko/?hl=en\",\r\n",
      "            \"c\": \"https://www.instagram.com \\u203a hatmasuryotrisongko\",\r\n",
      "            \"d\": \"186 Followers, 24 Following, 196 Posts - See Instagram photos and videos from Hatma Suryotrisongko (@hatmasuryotrisongko)\"\r\n",
      "        },\r\n",
      "        {\r\n",
      "            \"t\": \"\\u202aHatma Suryotrisongko\\u202c - \\u202aGoogle \\u5b66\\u672f\\u641c\\u7d22\\u202c\",\r\n",
      "            \"a\": \"https://scholar.google.com.sg/citations?user=eKpmmScAAAAJ&hl=zh-CN\",\r\n",
      "            \"c\": \"https://scholar.google.com.sg \\u203a citations\",\r\n",
      "            \"d\": \"Institut Teknologi Sepuluh Nopember - \\u202a\\u202a\\u5f15\\u7528\\u6b21\\u6570\\uff1a300 \\u6b21\\u202c\\u202c\"\r\n",
      "        },\r\n",
      "        {\r\n",
      "            \"t\": \"Profil Hatma Suryotrisongko - Departemen Sistem Informasi\",\r\n",
      "            \"a\": \"https://www.its.ac.id/si/profil-hatma-suryotrisongko/\",\r\n",
      "            \"c\": \"https://www.its.ac.id \\u203a si \\u203a profil-hatma-s...\",\r\n",
      "            \"d\": \"Nama Dosen, Hatma Suryotrisongko, S.Kom., M.Eng. NIP, 19840518 201404 1 001. NIDN, 0018058401. Jabatan, \\u2013. Email, hatma[at]is.its.ac.id. Riwayat Pendidikan.\"\r\n",
      "        },\r\n",
      "        {\r\n",
      "            \"t\": \"Hatma Suryotrisongko | IEEE Xplore Author Details\",\r\n",
      "            \"a\": \"https://ieeexplore.ieee.org/author/38233366800\",\r\n",
      "            \"c\": \"https://ieeexplore.ieee.org \\u203a author \\u203a 3823336680\",\r\n",
      "            \"d\": \"Affiliations: Graduate School of Science and Technology Kumamoto University,Kumamoto,Japan.\"\r\n",
      "        },\r\n",
      "        {\r\n",
      "            \"t\": \"hatma suryotrisongko - Dosen - Institut Teknologi Sepuluh ... - LinkedIn\",\r\n",
      "            \"a\": \"https://id.linkedin.com/in/hatma-suryotrisongko-539669126\",\r\n",
      "            \"c\": \"https://id.linkedin.com \\u203a in \\u203a hatma-suryotri...\",\r\n",
      "            \"d\": \"Lihat profil hatma suryotrisongko di LinkedIn, komunitas profesional terbesar di dunia. hatma mencantumkan 1 pekerjaan di profilnya.\"\r\n",
      "        },\r\n",
      "        {\r\n",
      "            \"t\": \"Author Profile - SINTA - Science and Technology Index\",\r\n",
      "            \"a\": \"https://sinta.kemdikbud.go.id/authors/detail?type=journal&id=6074694&view=documentsscopus\",\r\n",
      "            \"c\": \"https://sinta.kemdikbud.go.id \\u203a authors \\u203a detail\",\r\n",
      "            \"d\": \"Author Profile. photo. HATMA SURYOTRISONGKO. Institut Teknologi Sepuluh Nopember. Teknologi Informasi. SINTA ID : 6074694. Subjects/Areas:.\"\r\n",
      "        },\r\n",
      "        {\r\n",
      "            \"t\": \"Evaluating hybrid quantum-classical deep learning for cybersecurity ...\",\r\n",
      "            \"a\": \"https://www.sciencedirect.com/science/article/pii/S1877050921023590/pdf?md5=b88d745f550c5295cf5f309628a4938a&pid=1-s2.0-S1877050921023590-main.pdf\",\r\n",
      "            \"c\": \"https://www.sciencedirect.com \\u203a science \\u203a article \\u203a...\",\r\n",
      "            \"d\": \"Hatma Suryotrisongko et al. / Procedia Computer Science 00 (2021) 000\\u2013000. 1. Introduction. Quantum machine learning (QML) has been getting much attention.\"\r\n",
      "        },\r\n",
      "        {\r\n",
      "            \"t\": \"EEG Wave Identification in Human Brain with Emotiv EPOC for ...\",\r\n",
      "            \"a\": \"https://www.sciencedirect.com/science/article/pii/S1877050915036017\",\r\n",
      "            \"c\": \"https://www.sciencedirect.com \\u203a science \\u203a article \\u203a...\",\r\n",
      "            \"d\": \"Akbar, I.A., Samopa, F., Suryotrisongko, H., \\u201cPembuatan Sistem Pendeteksi Kantuk untuk Pekerja Shift Malam Dengan Metode Support Vector Machine Menggunakan Alat\\u00a0...\"\r\n",
      "        },\r\n",
      "        {\r\n",
      "            \"t\": \"Screenshot of OpenVibe designer | Download Scientific Diagram\",\r\n",
      "            \"a\": \"https://www.researchgate.net/figure/Screenshot-of-OpenVibe-designer_fig3_289991378\",\r\n",
      "            \"c\": \"https://www.researchgate.net \\u203a figure \\u203a Screenshot...\",\r\n",
      "            \"d\": \"Muhammad Fakhruzzaman; Edwin Riksakomara; Hatma Suryotrisongko. Brain Computer Interfaces, abbreviated as BCI, is a technology which allows users to take\\u00a0...\"\r\n",
      "        }\r\n",
      "    ],\r\n",
      "    \"running_errors\": []\r\n",
      "}\r\n"
     ]
    }
   ],
   "source": [
    "!maryam -e startpage -q suryotrisongko --output --api --format"
   ]
  },
  {
   "cell_type": "code",
   "execution_count": null,
   "id": "b9ed1628",
   "metadata": {},
   "outputs": [],
   "source": []
  }
 ],
 "metadata": {
  "kernelspec": {
   "display_name": "tf",
   "language": "python",
   "name": "tf"
  },
  "language_info": {
   "codemirror_mode": {
    "name": "ipython",
    "version": 3
   },
   "file_extension": ".py",
   "mimetype": "text/x-python",
   "name": "python",
   "nbconvert_exporter": "python",
   "pygments_lexer": "ipython3",
   "version": "3.9.12"
  }
 },
 "nbformat": 4,
 "nbformat_minor": 5
}
