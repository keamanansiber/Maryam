{
 "cells": [
  {
   "cell_type": "code",
   "execution_count": 1,
   "id": "8554433a",
   "metadata": {},
   "outputs": [
    {
     "name": "stdout",
     "output_type": "stream",
     "text": [
      "usage: dnsbrute [-h] [-d DOMAIN] [-c COUNT] [-w WORDLIST] [-t THREAD] [-l]\r\n",
      "                [-i] [--output] [--api] [--format]\r\n",
      "\r\n",
      "dnsbrute 1.1(Saeeddqn) - description: DNS brute force attack, supports\r\n",
      "concurrency.\r\n",
      "\r\n",
      "optional arguments:\r\n",
      "  -h, --help            show this help message and exit\r\n",
      "  -d DOMAIN, --domain DOMAIN\r\n",
      "                        Domain name without https?://\r\n",
      "  -c COUNT, --count COUNT\r\n",
      "                        Number of payloads len(max=count of payloads). default\r\n",
      "                        is max\r\n",
      "  -w WORDLIST, --wordlist WORDLIST\r\n",
      "                        wordlist address. default is dnsnames.txt in data\r\n",
      "                        folder\r\n",
      "  -t THREAD, --thread THREAD\r\n",
      "                        The number of links that open per round(default=8)\r\n",
      "  -l, --wordlists       List of most common DNS wordlists\r\n",
      "  -i, --ips             Show ip addresses\r\n",
      "  --output, --output    Save the output to the workspace\r\n",
      "  --api, --api          Show results in the JSON format\r\n",
      "  --format, --format    Beautifying JSON output if --api is used\r\n"
     ]
    }
   ],
   "source": [
    "!maryam -e dnsbrute --help"
   ]
  },
  {
   "cell_type": "code",
   "execution_count": 2,
   "id": "d5b181f1",
   "metadata": {},
   "outputs": [
    {
     "name": "stdout",
     "output_type": "stream",
     "text": [
      "usage: dnsbrute [-h] [-d DOMAIN] [-c COUNT] [-w WORDLIST] [-t THREAD] [-l]\r\n",
      "                [-i] [--output] [--api] [--format]\r\n",
      "\r\n",
      "dnsbrute 1.1(Saeeddqn) - description: DNS brute force attack, supports\r\n",
      "concurrency.\r\n",
      "\r\n",
      "optional arguments:\r\n",
      "  -h, --help            show this help message and exit\r\n",
      "  -d DOMAIN, --domain DOMAIN\r\n",
      "                        Domain name without https?://\r\n",
      "  -c COUNT, --count COUNT\r\n",
      "                        Number of payloads len(max=count of payloads). default\r\n",
      "                        is max\r\n",
      "  -w WORDLIST, --wordlist WORDLIST\r\n",
      "                        wordlist address. default is dnsnames.txt in data\r\n",
      "                        folder\r\n",
      "  -t THREAD, --thread THREAD\r\n",
      "                        The number of links that open per round(default=8)\r\n",
      "  -l, --wordlists       List of most common DNS wordlists\r\n",
      "  -i, --ips             Show ip addresses\r\n",
      "  --output, --output    Save the output to the workspace\r\n",
      "  --api, --api          Show results in the JSON format\r\n",
      "  --format, --format    Beautifying JSON output if --api is used\r\n",
      "Comments:  The wordlist option can be an url\r\n",
      "\r\n",
      "Examples:\r\n",
      "\tdnsbrute -d <DOMAIN> --output\r\n",
      "\tdnsbrute -d <DOMAIN> -w <WORDLIST>\r\n"
     ]
    }
   ],
   "source": [
    "!maryam -e dnsbrute"
   ]
  },
  {
   "cell_type": "code",
   "execution_count": 3,
   "id": "e4fc6da9",
   "metadata": {},
   "outputs": [
    {
     "name": "stdout",
     "output_type": "stream",
     "text": [
      "\n",
      "-----------------------------------------\n",
      "STARTING DNS BRUTE FORCE WITH 790 PAYLOAD\n",
      "-----------------------------------------\n",
      "\u001b[94m[*]\u001b[92m blogs.ibm.com                                                  \u001b[m\n",
      "\u001b[94m[*]\u001b[92m careers.ibm.com                                                  \u001b[m\n",
      "\u001b[94m[*]\u001b[92m cms.ibm.com                                                  \u001b[m\n",
      "\u001b[94m[*]\u001b[93m boulder.ibm.com => Timed out\u001b[m\n",
      "\u001b[94m[*]\u001b[92m login.ibm.com                                                  \u001b[m\n",
      "\u001b[94m[*]\u001b[92m m.ibm.com                                                  \u001b[m\n",
      "\u001b[94m[*]\u001b[93m mobile.ibm.com => Timed out\u001b[m\n",
      "\u001b[94m[*]\u001b[92m open.ibm.com                                                  \u001b[m\n",
      "\u001b[94m[*]\u001b[92m research.ibm.com                                                  \u001b[m\n",
      "\u001b[94m[*]\u001b[92m shop.ibm.com                                                  \u001b[m\n",
      "\u001b[94m[*]\u001b[92m research.ibm.com                                                  \u001b[m\n",
      "\u001b[94m[*]\u001b[92m support.ibm.com                                                  \u001b[m\n",
      "\u001b[94m[*]\u001b[92m time.ibm.com                                                  \u001b[m\n",
      "\u001b[94m[*]\u001b[92m uddi.ibm.com                                                  \u001b[m\n",
      "\u001b[94m[*]\u001b[92m video.ibm.com                                                  \u001b[m\n",
      "\u001b[94m[*]\u001b[92m wap.ibm.com                                                  \u001b[m\n",
      "\u001b[94m[*]\u001b[92m whois.ibm.com                                                  \u001b[m\n",
      "\u001b[94m[*]\u001b[92m wireless.ibm.com                                                  \u001b[m\n",
      "\u001b[94m[*]\u001b[92m www.ibm.com                                                  \u001b[m\n",
      "\u001b[94m[*]\u001b[92m www-01.ibm.com                                                  \u001b[m\n",
      "\u001b[94m[*]\u001b[92m www-1.ibm.com                                                  \u001b[m\n",
      "Checking payload 790, hits: 19\n",
      "\n",
      "\u001b[94m[*]\u001b[92m blogs.ibm.com\u001b[m\n",
      "\u001b[94m[*]\u001b[92m careers.ibm.com\u001b[m\n",
      "\u001b[94m[*]\u001b[92m cms.ibm.com\u001b[m\n",
      "\u001b[94m[*]\u001b[92m login.ibm.com\u001b[m\n",
      "\u001b[94m[*]\u001b[92m m.ibm.com\u001b[m\n",
      "\u001b[94m[*]\u001b[92m open.ibm.com\u001b[m\n",
      "\u001b[94m[*]\u001b[92m research.ibm.com\u001b[m\n",
      "\u001b[94m[*]\u001b[92m shop.ibm.com\u001b[m\n",
      "\u001b[94m[*]\u001b[92m research.ibm.com\u001b[m\n",
      "\u001b[94m[*]\u001b[92m support.ibm.com\u001b[m\n",
      "\u001b[94m[*]\u001b[92m time.ibm.com\u001b[m\n",
      "\u001b[94m[*]\u001b[92m uddi.ibm.com\u001b[m\n",
      "\u001b[94m[*]\u001b[92m video.ibm.com\u001b[m\n",
      "\u001b[94m[*]\u001b[92m wap.ibm.com\u001b[m\n",
      "\u001b[94m[*]\u001b[92m whois.ibm.com\u001b[m\n",
      "\u001b[94m[*]\u001b[92m wireless.ibm.com\u001b[m\n",
      "\u001b[94m[*]\u001b[92m www.ibm.com\u001b[m\n",
      "\u001b[94m[*]\u001b[92m www-01.ibm.com\u001b[m\n",
      "\u001b[94m[*]\u001b[92m www-1.ibm.com\u001b[m\n"
     ]
    }
   ],
   "source": [
    "!maryam -e dnsbrute -d ibm.com"
   ]
  },
  {
   "cell_type": "code",
   "execution_count": 5,
   "id": "1d123d85",
   "metadata": {},
   "outputs": [
    {
     "name": "stdout",
     "output_type": "stream",
     "text": [
      "\u001b[92m[*]\u001b[m common DNS wordlists\r\n",
      "\r\n",
      "  +-----------------------------------------------------------------------------------------------------------------------------+\r\n",
      "  |                                                        list                                                        | scale  |\r\n",
      "  +-----------------------------------------------------------------------------------------------------------------------------+\r\n",
      "  | https://raw.githubusercontent.com/danielmiessler/SecLists/master/Discovery/DNS/subdomains-top1million-5000.txt     | small  |\r\n",
      "  | https://raw.githubusercontent.com/danielmiessler/SecLists/master/Discovery/DNS/fierce-hostlist.txt                 | small  |\r\n",
      "  | https://raw.githubusercontent.com/danielmiessler/SecLists/master/Discovery/DNS/namelist.txt                        | small  |\r\n",
      "  | https://raw.githubusercontent.com/danielmiessler/SecLists/master/Discovery/DNS/subdomains-top1million-20000.txt    | medium |\r\n",
      "  | https://raw.githubusercontent.com/danielmiessler/SecLists/master/Discovery/DNS/subdomains-top1million-110000.txt   | large  |\r\n",
      "  | https://raw.githubusercontent.com/danielmiessler/SecLists/master/Discovery/DNS/deepmagic.com-prefixes-top50000.txt | large  |\r\n",
      "  | https://raw.githubusercontent.com/danielmiessler/SecLists/master/Discovery/DNS/shubs-subdomains.txt                | large  |\r\n",
      "  +-----------------------------------------------------------------------------------------------------------------------------+\r\n",
      "\r\n"
     ]
    }
   ],
   "source": [
    "!maryam -e dnsbrute -d its.ac.id -l -i --output"
   ]
  },
  {
   "cell_type": "code",
   "execution_count": 6,
   "id": "77fdcbf7",
   "metadata": {},
   "outputs": [
    {
     "name": "stdout",
     "output_type": "stream",
     "text": [
      "\u001b[93m[!] [dnsbrute:opt_proc] File \"/home/hatma/anaconda3/envs/tf/lib/python3.9/site-packages/maryam-2.5.1.post0-py3.9.egg/maryam/core/initial.py\", line 365, in opt_proc.\u001b[m\r\n",
      "\u001b[93m[!] [dnsbrute:opt_proc] TypeError: list indices must be integers or slices, not str.\u001b[m\r\n"
     ]
    }
   ],
   "source": [
    "!maryam -e dnsbrute -d keamanansiber.id -l -i --output --api --format"
   ]
  },
  {
   "cell_type": "code",
   "execution_count": 7,
   "id": "50181aa5",
   "metadata": {},
   "outputs": [
    {
     "name": "stdout",
     "output_type": "stream",
     "text": [
      "\u001b[94m[*]\u001b[m Report saved at /home/hatma/.maryam/workspaces/default/mydnsbrutereport.json\u001b[m\r\n"
     ]
    }
   ],
   "source": [
    "!maryam -e report json myDnsBruteReport footprint/dnsbrute"
   ]
  },
  {
   "cell_type": "code",
   "execution_count": null,
   "id": "ae639b51",
   "metadata": {},
   "outputs": [],
   "source": []
  }
 ],
 "metadata": {
  "kernelspec": {
   "display_name": "tf",
   "language": "python",
   "name": "tf"
  },
  "language_info": {
   "codemirror_mode": {
    "name": "ipython",
    "version": 3
   },
   "file_extension": ".py",
   "mimetype": "text/x-python",
   "name": "python",
   "nbconvert_exporter": "python",
   "pygments_lexer": "ipython3",
   "version": "3.9.12"
  }
 },
 "nbformat": 4,
 "nbformat_minor": 5
}
