{
 "cells": [
  {
   "cell_type": "code",
   "execution_count": 1,
   "id": "913f8876",
   "metadata": {},
   "outputs": [
    {
     "name": "stdout",
     "output_type": "stream",
     "text": [
      "usage: phone_number_search [-h] -n NUMBER [--output] [--api] [--format]\r\n",
      "\r\n",
      "phone_number_search 0.1(Kaushik) - description: A Search Engine for Phone\r\n",
      "Number Enumeration.\r\n",
      "\r\n",
      "optional arguments:\r\n",
      "  -h, --help            show this help message and exit\r\n",
      "  -n NUMBER, --number NUMBER\r\n",
      "                        Phone number (include area code)\r\n",
      "  --output, --output    Save the output to the workspace\r\n",
      "  --api, --api          Show results in the JSON format\r\n",
      "  --format, --format    Beautifying JSON output if --api is used\r\n"
     ]
    }
   ],
   "source": [
    "!maryam -e phone_number_search --help"
   ]
  },
  {
   "cell_type": "code",
   "execution_count": 6,
   "id": "ca71c115",
   "metadata": {},
   "outputs": [
    {
     "name": "stdout",
     "output_type": "stream",
     "text": [
      "\u001b[94m[*]\u001b[m Searching...\u001b[m\n",
      "\u001b[92m[*]\u001b[m VALID\n",
      "\u001b[94m[*]\u001b[m \tTrue\u001b[m\n",
      "\u001b[92m[*]\u001b[m NUMBER\n",
      "\u001b[94m[*]\u001b[m \t817026774592\u001b[m\n",
      "\u001b[92m[*]\u001b[m LOCAL FORMAT\n",
      "\u001b[94m[*]\u001b[m \t07026774592\u001b[m\n",
      "\u001b[92m[*]\u001b[m INTERNATIONAL FORMAT\n",
      "\u001b[94m[*]\u001b[m \t+817026774592\u001b[m\n",
      "\u001b[92m[*]\u001b[m COUNTRY PREFIX\n",
      "\u001b[94m[*]\u001b[m \t+81\u001b[m\n",
      "\u001b[92m[*]\u001b[m COUNTRY CODE\n",
      "\u001b[94m[*]\u001b[m \tJP\u001b[m\n",
      "\u001b[92m[*]\u001b[m COUNTRY NAME\n",
      "\u001b[94m[*]\u001b[m \tJapan\u001b[m\n",
      "\u001b[92m[*]\u001b[m LOCATION\n",
      "\u001b[94m[*]\u001b[m \t\u001b[m\n",
      "\u001b[92m[*]\u001b[m CARRIER\n",
      "\u001b[94m[*]\u001b[m \tNTT DoCoMo Inc.\u001b[m\n",
      "\u001b[92m[*]\u001b[m LINE TYPE\n",
      "\u001b[94m[*]\u001b[m \tmobile\u001b[m\n",
      "\n"
     ]
    }
   ],
   "source": [
    "!maryam -e phone_number_search -n +817026774592"
   ]
  },
  {
   "cell_type": "code",
   "execution_count": 7,
   "id": "5e66b1fd",
   "metadata": {},
   "outputs": [
    {
     "name": "stdout",
     "output_type": "stream",
     "text": [
      "{\r\n",
      "    \"valid\": true,\r\n",
      "    \"number\": \"817026774592\",\r\n",
      "    \"local_format\": \"07026774592\",\r\n",
      "    \"international_format\": \"+817026774592\",\r\n",
      "    \"country_prefix\": \"+81\",\r\n",
      "    \"country_code\": \"JP\",\r\n",
      "    \"country_name\": \"Japan\",\r\n",
      "    \"location\": \"\",\r\n",
      "    \"carrier\": \"NTT DoCoMo Inc.\",\r\n",
      "    \"line_type\": \"mobile\",\r\n",
      "    \"running_errors\": []\r\n",
      "}\r\n"
     ]
    }
   ],
   "source": [
    "!maryam -e phone_number_search -n +817026774592 --output --api --format"
   ]
  },
  {
   "cell_type": "code",
   "execution_count": null,
   "id": "043c439f",
   "metadata": {},
   "outputs": [],
   "source": []
  }
 ],
 "metadata": {
  "kernelspec": {
   "display_name": "tf",
   "language": "python",
   "name": "tf"
  },
  "language_info": {
   "codemirror_mode": {
    "name": "ipython",
    "version": 3
   },
   "file_extension": ".py",
   "mimetype": "text/x-python",
   "name": "python",
   "nbconvert_exporter": "python",
   "pygments_lexer": "ipython3",
   "version": "3.9.12"
  }
 },
 "nbformat": 4,
 "nbformat_minor": 5
}
