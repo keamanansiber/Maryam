{
 "cells": [
  {
   "cell_type": "code",
   "execution_count": 1,
   "id": "3a6b9e68",
   "metadata": {},
   "outputs": [
    {
     "name": "stdout",
     "output_type": "stream",
     "text": [
      "usage: linkedin [-h] -q QUERY [-l LIMIT] [-c COUNT] [-t THREAD] [-e ENGINE]\r\n",
      "                [--output] [--api] [--format]\r\n",
      "\r\n",
      "linkedin 0.5(Saeed) - description: Search your query in the linkedin.com and\r\n",
      "show the results.\r\n",
      "\r\n",
      "optional arguments:\r\n",
      "  -h, --help            show this help message and exit\r\n",
      "  -q QUERY, --query QUERY\r\n",
      "                        Query string\r\n",
      "  -l LIMIT, --limit LIMIT\r\n",
      "                        Search limit(number of pages, default=1)\r\n",
      "  -c COUNT, --count COUNT\r\n",
      "                        Number of results per page(min=10, max=100,\r\n",
      "                        default=50)\r\n",
      "  -t THREAD, --thread THREAD\r\n",
      "                        The number of engine that run per round(default=2)\r\n",
      "  -e ENGINE, --engine ENGINE\r\n",
      "                        Engine names for search(default=google)\r\n",
      "  --output, --output    Save the output to the workspace\r\n",
      "  --api, --api          Show results in the JSON format\r\n",
      "  --format, --format    Beautifying JSON output if --api is used\r\n"
     ]
    }
   ],
   "source": [
    "!maryam -e linkedin --help"
   ]
  },
  {
   "cell_type": "code",
   "execution_count": 2,
   "id": "4a554cfb",
   "metadata": {},
   "outputs": [
    {
     "name": "stdout",
     "output_type": "stream",
     "text": [
      "\u001b[94m[*]\u001b[m [GOOGLE] Searching in 1 page...\u001b[m\n",
      "\u001b[92m[*]\u001b[m LINKS\n",
      "\u001b[94m[*]\u001b[91m \tWithout result\u001b[m\n",
      "\u001b[92m[*]\u001b[m USERNAMES\n",
      "\u001b[94m[*]\u001b[92m \tlinkedin.com/company/the-cyber-security-hub\u001b[m\n",
      "\u001b[94m[*]\u001b[92m \tlinkedin.com/company/cyber-security-indonesia\u001b[m\n",
      "\u001b[94m[*]\u001b[92m \tlinkedin.com/company/cyber-security-community\u001b[m\n",
      "\u001b[94m[*]\u001b[92m \tlinkedin.com/company/cyberflorida\u001b[m\n",
      "\u001b[94m[*]\u001b[92m \tlinkedin.com/company/odyssey-consultants\u001b[m\n",
      "\u001b[94m[*]\u001b[92m \tlinkedin.com/company/cybersecuritymalaysia\u001b[m\n",
      "\u001b[94m[*]\u001b[92m \tlinkedin.com/company/wattlecorp\u001b[m\n",
      "\u001b[94m[*]\u001b[92m \tlinkedin.com/company/cbisecure\u001b[m\n",
      "\u001b[94m[*]\u001b[92m \tlinkedin.com/company/block-harbor\u001b[m\n",
      "\u001b[94m[*]\u001b[92m \tlinkedin.com/company/attcybersecurity\u001b[m\n",
      "\u001b[94m[*]\u001b[92m \tlinkedin.com/company/axon-technologies-cyber-security\u001b[m\n",
      "\u001b[94m[*]\u001b[92m \tlinkedin.com/company/eucpc\u001b[m\n",
      "\u001b[94m[*]\u001b[92m \tlinkedin.com/company/nist-nice\u001b[m\n",
      "\u001b[94m[*]\u001b[92m \tlinkedin.com/company/cyber-security-solutions-fl\u001b[m\n",
      "\u001b[94m[*]\u001b[92m \tlinkedin.com/company/crossword-cybersecurity\u001b[m\n",
      "\u001b[94m[*]\u001b[92m \tlinkedin.com/company/foresite-managed-services\u001b[m\n",
      "\u001b[94m[*]\u001b[92m \tlinkedin.com/company/infysec\u001b[m\n",
      "\u001b[94m[*]\u001b[92m \tlinkedin.com/company/cisagov\u001b[m\n",
      "\u001b[94m[*]\u001b[92m \tlinkedin.com/company/compuquip-cybersecurity\u001b[m\n",
      "\u001b[94m[*]\u001b[92m \tlinkedin.com/company/cyberalliance\u001b[m\n",
      "\u001b[94m[*]\u001b[92m \tlinkedin.com/company/airbuscyber\u001b[m\n",
      "\u001b[94m[*]\u001b[92m \tlinkedin.com/company/blackfoot-uk\u001b[m\n",
      "\u001b[94m[*]\u001b[92m \tlinkedin.com/company/techcess-cybersecurity-group\u001b[m\n",
      "\u001b[94m[*]\u001b[92m \tlinkedin.com/company/the-cybersecurity-law-report\u001b[m\n",
      "\u001b[94m[*]\u001b[92m \tlinkedin.com/company/righthandai\u001b[m\n",
      "\u001b[94m[*]\u001b[92m \tlinkedin.com/company/isgbaruch\u001b[m\n",
      "\u001b[94m[*]\u001b[92m \tlinkedin.com/company/protocol-46\u001b[m\n",
      "\u001b[94m[*]\u001b[92m \tlinkedin.com/company/futureconevents\u001b[m\n",
      "\u001b[94m[*]\u001b[92m \tlinkedin.com/company/national-cybersecurity-center\u001b[m\n",
      "\u001b[94m[*]\u001b[92m \tlinkedin.com/company/evidence-based-cybersecurity\u001b[m\n",
      "\u001b[94m[*]\u001b[92m \tlinkedin.com/company/nrd-cs\u001b[m\n",
      "\u001b[94m[*]\u001b[92m \tlinkedin.com/company/choice-cybersecurity\u001b[m\n",
      "\u001b[94m[*]\u001b[92m \tlinkedin.com/company/mediapro-inc-\u001b[m\n",
      "\u001b[94m[*]\u001b[92m \tlinkedin.com/in/deby-indah-lestari-4b95a5128\u001b[m\n",
      "\u001b[94m[*]\u001b[92m \tlinkedin.com/in/fandi-aditya-putra-36025218b\u001b[m\n",
      "\u001b[92m[*]\u001b[m BLOGS\n",
      "\u001b[94m[*]\u001b[91m \tWithout result\u001b[m\n",
      "\n"
     ]
    }
   ],
   "source": [
    "!maryam -e linkedin -q cybersecurity"
   ]
  },
  {
   "cell_type": "code",
   "execution_count": 3,
   "id": "2103a038",
   "metadata": {},
   "outputs": [
    {
     "name": "stdout",
     "output_type": "stream",
     "text": [
      "{\r\n",
      "    \"links\": [],\r\n",
      "    \"usernames\": [\r\n",
      "        \"linkedin.com/in/hatma-suryotrisongko-539669126\",\r\n",
      "        \"linkedin.com/in/ridho-rahman-hariadi-bb1402109\",\r\n",
      "        \"linkedin.com/in/syahril-syahril-24a863185\",\r\n",
      "        \"linkedin.com/in/erik-valentino-58328ba4\",\r\n",
      "        \"linkedin.com/in/rocky-alfanz-b03142210\",\r\n",
      "        \"linkedin.com/in/libraku-channel-582ba6192\",\r\n",
      "        \"linkedin.com/in/m-hanif-satria-budi-b3b750197\",\r\n",
      "        \"linkedin.com/in/prasasti-karunia\",\r\n",
      "        \"linkedin.com/in/kresna-ridwan-854652118\",\r\n",
      "        \"linkedin.com/in/muhammad-fakhruzzaman-721084104\",\r\n",
      "        \"linkedin.com/in/hafizanshori\"\r\n",
      "    ],\r\n",
      "    \"blogs\": [],\r\n",
      "    \"running_errors\": []\r\n",
      "}\r\n"
     ]
    }
   ],
   "source": [
    "!maryam -e linkedin -q suryotrisongko --output --api --format"
   ]
  },
  {
   "cell_type": "code",
   "execution_count": null,
   "id": "005f944b",
   "metadata": {},
   "outputs": [],
   "source": []
  }
 ],
 "metadata": {
  "kernelspec": {
   "display_name": "tf",
   "language": "python",
   "name": "tf"
  },
  "language_info": {
   "codemirror_mode": {
    "name": "ipython",
    "version": 3
   },
   "file_extension": ".py",
   "mimetype": "text/x-python",
   "name": "python",
   "nbconvert_exporter": "python",
   "pygments_lexer": "ipython3",
   "version": "3.9.12"
  }
 },
 "nbformat": 4,
 "nbformat_minor": 5
}
