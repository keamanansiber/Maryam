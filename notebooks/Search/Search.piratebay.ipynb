{
 "cells": [
  {
   "cell_type": "code",
   "execution_count": 1,
   "id": "c0c9922c",
   "metadata": {},
   "outputs": [
    {
     "name": "stdout",
     "output_type": "stream",
     "text": [
      "usage: piratebay [-h] -q QUERY [-c COUNT] [--output] [--api] [--format]\r\n",
      "\r\n",
      "piratebay 0.1(Kaushik) - description: Piratebay is the world's most persistent\r\n",
      "torrenting site. Please refrain from abusive usage.\r\n",
      "\r\n",
      "optional arguments:\r\n",
      "  -h, --help            show this help message and exit\r\n",
      "  -q QUERY, --query QUERY\r\n",
      "                        Query string\r\n",
      "  -c COUNT, --count COUNT\r\n",
      "                        Max result count (default=15)\r\n",
      "  --output, --output    Save the output to the workspace\r\n",
      "  --api, --api          Show results in the JSON format\r\n",
      "  --format, --format    Beautifying JSON output if --api is used\r\n"
     ]
    }
   ],
   "source": [
    "!maryam -e piratebay --help"
   ]
  },
  {
   "cell_type": "code",
   "execution_count": 2,
   "id": "6f011b8c",
   "metadata": {},
   "outputs": [
    {
     "name": "stdout",
     "output_type": "stream",
     "text": [
      "\u001b[94m[*]\u001b[m [PIRATEBAY] Searching piratebay...\u001b[m\n",
      "\u001b[94m[*]\u001b[m Cybersecurity For Dummies by Joseph Steinberg PDF\u001b[m\n",
      "\u001b[94m[*]\u001b[m magnet:?xt=urn:btih:8D8783293BED26CFAE1D50D51D4BA6634E758DE0&dn=Cybersecurity For Dummies by Joseph Steinberg PDF&tr=udp://tracker.coppersurfer.tk:6969/announce&tr=udp://open.demonii.com:1337&tr=udp://tracker.openbittorrent.com:6969/announce&tr=udp://tracker.opentrackr.org:1337&tr=udp://tracker.leechers-paradise.org:6969/announce&tr=udp://tracker.dler.org:6969/announce&tr=udp://opentracker.i2p.rocks:6969/announce&tr=udp://47.ip-51-68-199.eu:6969/announce\u001b[m\n",
      "\u001b[94m[*]\u001b[m zakareya | 18.7 MiB\u001b[m\n",
      "\u001b[94m[*]\u001b[m seeders: 11 | leechers: 0\u001b[m\n",
      "\n",
      "\u001b[94m[*]\u001b[m Python for Cybersecurity by Howard E. Poston EPUB\u001b[m\n",
      "\u001b[94m[*]\u001b[m magnet:?xt=urn:btih:20D2D4DF10C63AA3396C95647A02B0B54AEA7614&dn=Python for Cybersecurity by Howard E. Poston EPUB&tr=udp://tracker.coppersurfer.tk:6969/announce&tr=udp://open.demonii.com:1337&tr=udp://tracker.openbittorrent.com:6969/announce&tr=udp://tracker.opentrackr.org:1337&tr=udp://tracker.leechers-paradise.org:6969/announce&tr=udp://tracker.dler.org:6969/announce&tr=udp://opentracker.i2p.rocks:6969/announce&tr=udp://47.ip-51-68-199.eu:6969/announce\u001b[m\n",
      "\u001b[94m[*]\u001b[m zakareya | 10.5 MiB\u001b[m\n",
      "\u001b[94m[*]\u001b[m seeders: 9 | leechers: 0\u001b[m\n",
      "\n",
      "\u001b[94m[*]\u001b[m Cybersecurity For Dummies by Joseph Steinberg EPUB\u001b[m\n",
      "\u001b[94m[*]\u001b[m magnet:?xt=urn:btih:F19C652C1939E719B6A49D745E846C90ABD8D215&dn=Cybersecurity For Dummies by Joseph Steinberg EPUB&tr=udp://tracker.coppersurfer.tk:6969/announce&tr=udp://open.demonii.com:1337&tr=udp://tracker.openbittorrent.com:6969/announce&tr=udp://tracker.opentrackr.org:1337&tr=udp://tracker.leechers-paradise.org:6969/announce&tr=udp://tracker.dler.org:6969/announce&tr=udp://opentracker.i2p.rocks:6969/announce&tr=udp://47.ip-51-68-199.eu:6969/announce\u001b[m\n",
      "\u001b[94m[*]\u001b[m zakareya | 5.9 MiB\u001b[m\n",
      "\u001b[94m[*]\u001b[m seeders: 6 | leechers: 0\u001b[m\n",
      "\n",
      "\u001b[94m[*]\u001b[m How Cybersecurity Really Works A Hands On Guide For Total Beginn\u001b[m\n",
      "\u001b[94m[*]\u001b[m magnet:?xt=urn:btih:631FB8ECD2AA5E5FB3985FD4A7EA59060938BEBC&dn=How Cybersecurity Really Works A Hands On Guide For Total Beginn&tr=udp://tracker.coppersurfer.tk:6969/announce&tr=udp://open.demonii.com:1337&tr=udp://tracker.openbittorrent.com:6969/announce&tr=udp://tracker.opentrackr.org:1337&tr=udp://tracker.leechers-paradise.org:6969/announce&tr=udp://tracker.dler.org:6969/announce&tr=udp://opentracker.i2p.rocks:6969/announce&tr=udp://47.ip-51-68-199.eu:6969/announce\u001b[m\n",
      "\u001b[94m[*]\u001b[m CJDanVamme | 5.3 MiB\u001b[m\n",
      "\u001b[94m[*]\u001b[m seeders: 5 | leechers: 0\u001b[m\n",
      "\n",
      "\u001b[94m[*]\u001b[m TTC - Thinking about Cybersecurity\u001b[m\n",
      "\u001b[94m[*]\u001b[m magnet:?xt=urn:btih:89CB708908715C6A6EF4D08671D2BBE0C55016EB&dn=TTC - Thinking about Cybersecurity&tr=udp://tracker.coppersurfer.tk:6969/announce&tr=udp://open.demonii.com:1337&tr=udp://tracker.openbittorrent.com:6969/announce&tr=udp://tracker.opentrackr.org:1337&tr=udp://tracker.leechers-paradise.org:6969/announce&tr=udp://tracker.dler.org:6969/announce&tr=udp://opentracker.i2p.rocks:6969/announce&tr=udp://47.ip-51-68-199.eu:6969/announce\u001b[m\n",
      "\u001b[94m[*]\u001b[m dohduhdah | 7.9 GiB\u001b[m\n",
      "\u001b[94m[*]\u001b[m seeders: 4 | leechers: 1\u001b[m\n",
      "\n",
      "\u001b[94m[*]\u001b[m Cybersecurity Learn Fast How To Become An Infosec Pro 3 Books In\u001b[m\n",
      "\u001b[94m[*]\u001b[m magnet:?xt=urn:btih:6D9ED9EAE3234DF7FE971B6602CD68D878D1D462&dn=Cybersecurity Learn Fast How To Become An Infosec Pro 3 Books In&tr=udp://tracker.coppersurfer.tk:6969/announce&tr=udp://open.demonii.com:1337&tr=udp://tracker.openbittorrent.com:6969/announce&tr=udp://tracker.opentrackr.org:1337&tr=udp://tracker.leechers-paradise.org:6969/announce&tr=udp://tracker.dler.org:6969/announce&tr=udp://opentracker.i2p.rocks:6969/announce&tr=udp://47.ip-51-68-199.eu:6969/announce\u001b[m\n",
      "\u001b[94m[*]\u001b[m CJDanVamme | 834.0 KiB\u001b[m\n",
      "\u001b[94m[*]\u001b[m seeders: 4 | leechers: 0\u001b[m\n",
      "\n",
      "\u001b[94m[*]\u001b[m The New Cybersecurity For Beginners And Dummies Extensive Guide \u001b[m\n",
      "\u001b[94m[*]\u001b[m magnet:?xt=urn:btih:F9D8E30D2BAA738EBE128904C48ADAEAD731A11E&dn=The New Cybersecurity For Beginners And Dummies Extensive Guide &tr=udp://tracker.coppersurfer.tk:6969/announce&tr=udp://open.demonii.com:1337&tr=udp://tracker.openbittorrent.com:6969/announce&tr=udp://tracker.opentrackr.org:1337&tr=udp://tracker.leechers-paradise.org:6969/announce&tr=udp://tracker.dler.org:6969/announce&tr=udp://opentracker.i2p.rocks:6969/announce&tr=udp://47.ip-51-68-199.eu:6969/announce\u001b[m\n",
      "\u001b[94m[*]\u001b[m CJDanVamme | 426.5 KiB\u001b[m\n",
      "\u001b[94m[*]\u001b[m seeders: 4 | leechers: 0\u001b[m\n",
      "\n",
      "\u001b[94m[*]\u001b[m How Cybersecurity Really Works A Hands On Guide For Total Beginn\u001b[m\n",
      "\u001b[94m[*]\u001b[m magnet:?xt=urn:btih:ACF92F344F3E1AB40BAEE09E97C581233CA51B28&dn=How Cybersecurity Really Works A Hands On Guide For Total Beginn&tr=udp://tracker.coppersurfer.tk:6969/announce&tr=udp://open.demonii.com:1337&tr=udp://tracker.openbittorrent.com:6969/announce&tr=udp://tracker.opentrackr.org:1337&tr=udp://tracker.leechers-paradise.org:6969/announce&tr=udp://tracker.dler.org:6969/announce&tr=udp://opentracker.i2p.rocks:6969/announce&tr=udp://47.ip-51-68-199.eu:6969/announce\u001b[m\n",
      "\u001b[94m[*]\u001b[m CJDanVamme | 5.5 MiB\u001b[m\n",
      "\u001b[94m[*]\u001b[m seeders: 4 | leechers: 0\u001b[m\n",
      "\n",
      "\u001b[94m[*]\u001b[m The New Cybersecurity For Beginners And Dummies Extensive Guide\u001b[m\n",
      "\u001b[94m[*]\u001b[m magnet:?xt=urn:btih:0F4A6B92993DAF067A3E06DAD88EA0DBFC6E54F3&dn=The New Cybersecurity For Beginners And Dummies Extensive Guide&tr=udp://tracker.coppersurfer.tk:6969/announce&tr=udp://open.demonii.com:1337&tr=udp://tracker.openbittorrent.com:6969/announce&tr=udp://tracker.opentrackr.org:1337&tr=udp://tracker.leechers-paradise.org:6969/announce&tr=udp://tracker.dler.org:6969/announce&tr=udp://opentracker.i2p.rocks:6969/announce&tr=udp://47.ip-51-68-199.eu:6969/announce\u001b[m\n",
      "\u001b[94m[*]\u001b[m CJDanVamme | 533.9 KiB\u001b[m\n",
      "\u001b[94m[*]\u001b[m seeders: 4 | leechers: 0\u001b[m\n",
      "\n",
      "\u001b[94m[*]\u001b[m Cybersecurity Really Works - A Hands On Guide For Total Beginner\u001b[m\n",
      "\u001b[94m[*]\u001b[m magnet:?xt=urn:btih:0FEF859B41B4F5331335D520D5D9CBB399D243EE&dn=Cybersecurity Really Works - A Hands On Guide For Total Beginner&tr=udp://tracker.coppersurfer.tk:6969/announce&tr=udp://open.demonii.com:1337&tr=udp://tracker.openbittorrent.com:6969/announce&tr=udp://tracker.opentrackr.org:1337&tr=udp://tracker.leechers-paradise.org:6969/announce&tr=udp://tracker.dler.org:6969/announce&tr=udp://opentracker.i2p.rocks:6969/announce&tr=udp://47.ip-51-68-199.eu:6969/announce\u001b[m\n",
      "\u001b[94m[*]\u001b[m CJDanVamme | 5.7 MiB\u001b[m\n",
      "\u001b[94m[*]\u001b[m seeders: 4 | leechers: 1\u001b[m\n",
      "\n",
      "\u001b[94m[*]\u001b[m Understanding Cybersecurity Law and Digital Privacy EPUB\u001b[m\n",
      "\u001b[94m[*]\u001b[m magnet:?xt=urn:btih:F14D2AF7CFDE04AF694A9E461E6DBC1928603BFE&dn=Understanding Cybersecurity Law and Digital Privacy EPUB&tr=udp://tracker.coppersurfer.tk:6969/announce&tr=udp://open.demonii.com:1337&tr=udp://tracker.openbittorrent.com:6969/announce&tr=udp://tracker.opentrackr.org:1337&tr=udp://tracker.leechers-paradise.org:6969/announce&tr=udp://tracker.dler.org:6969/announce&tr=udp://opentracker.i2p.rocks:6969/announce&tr=udp://47.ip-51-68-199.eu:6969/announce\u001b[m\n",
      "\u001b[94m[*]\u001b[m zakareya | 7.1 MiB\u001b[m\n",
      "\u001b[94m[*]\u001b[m seeders: 4 | leechers: 0\u001b[m\n",
      "\n",
      "\u001b[94m[*]\u001b[m Implementing Cybersecurity (2017) (Pdf) Gooner\u001b[m\n",
      "\u001b[94m[*]\u001b[m magnet:?xt=urn:btih:03F79A4F7B9EB3125D89E0B91814165405B20B68&dn=Implementing Cybersecurity (2017) (Pdf) Gooner&tr=udp://tracker.coppersurfer.tk:6969/announce&tr=udp://open.demonii.com:1337&tr=udp://tracker.openbittorrent.com:6969/announce&tr=udp://tracker.opentrackr.org:1337&tr=udp://tracker.leechers-paradise.org:6969/announce&tr=udp://tracker.dler.org:6969/announce&tr=udp://opentracker.i2p.rocks:6969/announce&tr=udp://47.ip-51-68-199.eu:6969/announce\u001b[m\n",
      "\u001b[94m[*]\u001b[m GoonerTPB | 4.1 MiB\u001b[m\n",
      "\u001b[94m[*]\u001b[m seeders: 3 | leechers: 0\u001b[m\n",
      "\n",
      "\u001b[94m[*]\u001b[m Cybersecurity Program Development for Business  - Chris Moschovi\u001b[m\n",
      "\u001b[94m[*]\u001b[m magnet:?xt=urn:btih:D6F37731DB09728C3AAA201B5499953A5F1B52A4&dn=Cybersecurity Program Development for Business  - Chris Moschovi&tr=udp://tracker.coppersurfer.tk:6969/announce&tr=udp://open.demonii.com:1337&tr=udp://tracker.openbittorrent.com:6969/announce&tr=udp://tracker.opentrackr.org:1337&tr=udp://tracker.leechers-paradise.org:6969/announce&tr=udp://tracker.dler.org:6969/announce&tr=udp://opentracker.i2p.rocks:6969/announce&tr=udp://47.ip-51-68-199.eu:6969/announce\u001b[m\n",
      "\u001b[94m[*]\u001b[m Horisarte | 252.6 MiB\u001b[m\n",
      "\u001b[94m[*]\u001b[m seeders: 3 | leechers: 0\u001b[m\n",
      "\n",
      "\u001b[94m[*]\u001b[m Cybersecurity and Cyberwar  (2014) P W Singer (multi) \u001b[m\n",
      "\u001b[94m[*]\u001b[m magnet:?xt=urn:btih:ADC1E5824870B9F8BC5304360F73B1CFC8DE96AD&dn=Cybersecurity and Cyberwar  (2014) P W Singer (multi) &tr=udp://tracker.coppersurfer.tk:6969/announce&tr=udp://open.demonii.com:1337&tr=udp://tracker.openbittorrent.com:6969/announce&tr=udp://tracker.opentrackr.org:1337&tr=udp://tracker.leechers-paradise.org:6969/announce&tr=udp://tracker.dler.org:6969/announce&tr=udp://opentracker.i2p.rocks:6969/announce&tr=udp://47.ip-51-68-199.eu:6969/announce\u001b[m\n",
      "\u001b[94m[*]\u001b[m 7 | 7.3 MiB\u001b[m\n",
      "\u001b[94m[*]\u001b[m seeders: 2 | leechers: 0\u001b[m\n",
      "\n",
      "\u001b[94m[*]\u001b[m Cybersecurity and Third-Party Risk by Gregory C. Rasner EPUB\u001b[m\n",
      "\u001b[94m[*]\u001b[m magnet:?xt=urn:btih:EC35C62FBB525E12F4D3D749B89F9E3B424251FE&dn=Cybersecurity and Third-Party Risk by Gregory C. Rasner EPUB&tr=udp://tracker.coppersurfer.tk:6969/announce&tr=udp://open.demonii.com:1337&tr=udp://tracker.openbittorrent.com:6969/announce&tr=udp://tracker.opentrackr.org:1337&tr=udp://tracker.leechers-paradise.org:6969/announce&tr=udp://tracker.dler.org:6969/announce&tr=udp://opentracker.i2p.rocks:6969/announce&tr=udp://47.ip-51-68-199.eu:6969/announce\u001b[m\n",
      "\u001b[94m[*]\u001b[m zakareya | 1.5 MiB\u001b[m\n",
      "\u001b[94m[*]\u001b[m seeders: 2 | leechers: 0\u001b[m\n",
      "\n"
     ]
    }
   ],
   "source": [
    "!maryam -e piratebay -q cybersecurity"
   ]
  },
  {
   "cell_type": "code",
   "execution_count": 5,
   "id": "aa8c9850",
   "metadata": {},
   "outputs": [
    {
     "name": "stdout",
     "output_type": "stream",
     "text": [
      "{\r\n",
      "    \"results\": [\r\n",
      "        {\r\n",
      "            \"t\": \"Udemy - OWASP Proactive Controls\",\r\n",
      "            \"a\": \"magnet:?xt=urn:btih:ACDE6A4990DB5C32DB5DB6606255688E7FFA7C7E&dn=Udemy - OWASP Proactive Controls&tr=udp://tracker.coppersurfer.tk:6969/announce&tr=udp://open.demonii.com:1337&tr=udp://tracker.openbittorrent.com:6969/announce&tr=udp://tracker.opentrackr.org:1337&tr=udp://tracker.leechers-paradise.org:6969/announce&tr=udp://tracker.dler.org:6969/announce&tr=udp://opentracker.i2p.rocks:6969/announce&tr=udp://47.ip-51-68-199.eu:6969/announce\",\r\n",
      "            \"c\": \"tuts756 | 1.0 GiB\",\r\n",
      "            \"d\": \"seeders: 2 | leechers: 3\"\r\n",
      "        },\r\n",
      "        {\r\n",
      "            \"t\": \"Udemy - OWASP: Threats Fundamentals\",\r\n",
      "            \"a\": \"magnet:?xt=urn:btih:53FACFE3695EF281FCC080B1D9CD82F08A2DB87F&dn=Udemy - OWASP: Threats Fundamentals&tr=udp://tracker.coppersurfer.tk:6969/announce&tr=udp://open.demonii.com:1337&tr=udp://tracker.openbittorrent.com:6969/announce&tr=udp://tracker.opentrackr.org:1337&tr=udp://tracker.leechers-paradise.org:6969/announce&tr=udp://tracker.dler.org:6969/announce&tr=udp://opentracker.i2p.rocks:6969/announce&tr=udp://47.ip-51-68-199.eu:6969/announce\",\r\n",
      "            \"c\": \"tuts756 | 1.9 GiB\",\r\n",
      "            \"d\": \"seeders: 1 | leechers: 4\"\r\n",
      "        }\r\n",
      "    ],\r\n",
      "    \"running_errors\": []\r\n",
      "}\r\n"
     ]
    }
   ],
   "source": [
    "!maryam -e piratebay -q owasp --output --api --format"
   ]
  },
  {
   "cell_type": "code",
   "execution_count": null,
   "id": "32526fae",
   "metadata": {},
   "outputs": [],
   "source": []
  }
 ],
 "metadata": {
  "kernelspec": {
   "display_name": "tf",
   "language": "python",
   "name": "tf"
  },
  "language_info": {
   "codemirror_mode": {
    "name": "ipython",
    "version": 3
   },
   "file_extension": ".py",
   "mimetype": "text/x-python",
   "name": "python",
   "nbconvert_exporter": "python",
   "pygments_lexer": "ipython3",
   "version": "3.9.12"
  }
 },
 "nbformat": 4,
 "nbformat_minor": 5
}
