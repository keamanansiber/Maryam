{
 "cells": [
  {
   "cell_type": "code",
   "execution_count": 1,
   "id": "f5ab385b",
   "metadata": {},
   "outputs": [
    {
     "name": "stdout",
     "output_type": "stream",
     "text": [
      "usage: tiktok [-h] -q QUERY [-l LIMIT] [-c COUNT] [-t THREAD] [-e ENGINE]\r\n",
      "              [--output] [--api] [--format]\r\n",
      "\r\n",
      "tiktok 0.1(Prakhar Jain) - description: Search your query on TikTok and show\r\n",
      "the results.\r\n",
      "\r\n",
      "optional arguments:\r\n",
      "  -h, --help            show this help message and exit\r\n",
      "  -q QUERY, --query QUERY\r\n",
      "                        Query string\r\n",
      "  -l LIMIT, --limit LIMIT\r\n",
      "                        Search limit(number of pages, default=1)\r\n",
      "  -c COUNT, --count COUNT\r\n",
      "                        Number of results per page(min=10, max=100,\r\n",
      "                        default=50)\r\n",
      "  -t THREAD, --thread THREAD\r\n",
      "                        The number of engine that run per round(default=2)\r\n",
      "  -e ENGINE, --engine ENGINE\r\n",
      "                        Engine names for search(default=bing)\r\n",
      "  --output, --output    Save the output to the workspace\r\n",
      "  --api, --api          Show results in the JSON format\r\n",
      "  --format, --format    Beautifying JSON output if --api is used\r\n"
     ]
    }
   ],
   "source": [
    "!maryam -e tiktok --help"
   ]
  },
  {
   "cell_type": "code",
   "execution_count": 8,
   "id": "0f205e7e",
   "metadata": {},
   "outputs": [
    {
     "name": "stdout",
     "output_type": "stream",
     "text": [
      "\u001b[94m[*]\u001b[m [BING] Searching in 1 page...\u001b[m\n",
      "\u001b[92m[*]\u001b[m VIDEOS\n",
      "\u001b[94m[*]\u001b[91m \tWithout result\u001b[m\n",
      "\u001b[92m[*]\u001b[m USERNAMES\n",
      "\u001b[94m[*]\u001b[91m \tWithout result\u001b[m\n",
      "\u001b[92m[*]\u001b[m TAGS\n",
      "\u001b[94m[*]\u001b[91m \tWithout result\u001b[m\n",
      "\u001b[92m[*]\u001b[m MUSIC\n",
      "\u001b[94m[*]\u001b[91m \tWithout result\u001b[m\n",
      "\n"
     ]
    }
   ],
   "source": [
    "!maryam -e tiktok -q ukraina"
   ]
  },
  {
   "cell_type": "code",
   "execution_count": 9,
   "id": "782d1f87",
   "metadata": {},
   "outputs": [
    {
     "name": "stdout",
     "output_type": "stream",
     "text": [
      "{\r\n",
      "    \"videos\": [],\r\n",
      "    \"usernames\": [],\r\n",
      "    \"tags\": [],\r\n",
      "    \"music\": [],\r\n",
      "    \"running_errors\": []\r\n",
      "}\r\n"
     ]
    }
   ],
   "source": [
    "!maryam -e tiktok -q russia --output --api --format"
   ]
  },
  {
   "cell_type": "code",
   "execution_count": null,
   "id": "95dbd58a",
   "metadata": {},
   "outputs": [],
   "source": []
  }
 ],
 "metadata": {
  "kernelspec": {
   "display_name": "tf",
   "language": "python",
   "name": "tf"
  },
  "language_info": {
   "codemirror_mode": {
    "name": "ipython",
    "version": 3
   },
   "file_extension": ".py",
   "mimetype": "text/x-python",
   "name": "python",
   "nbconvert_exporter": "python",
   "pygments_lexer": "ipython3",
   "version": "3.9.12"
  }
 },
 "nbformat": 4,
 "nbformat_minor": 5
}
