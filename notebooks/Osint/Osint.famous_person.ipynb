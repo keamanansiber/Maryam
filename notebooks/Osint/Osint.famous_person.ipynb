{
 "cells": [
  {
   "cell_type": "code",
   "execution_count": 1,
   "id": "b5b42c07",
   "metadata": {},
   "outputs": [
    {
     "name": "stdout",
     "output_type": "stream",
     "text": [
      "usage: famous_person [-h] [-n NAME] [-f FAMILY] [-q QUERY] [-l LIMIT]\r\n",
      "                     [-d DEPTH] [-s] [-i] [--output] [--api] [--format]\r\n",
      "\r\n",
      "famous_person 0.1(Kaushik) - description: later\r\n",
      "\r\n",
      "optional arguments:\r\n",
      "  -h, --help            show this help message and exit\r\n",
      "  -n NAME, --name NAME  Name\r\n",
      "  -f FAMILY, --family FAMILY\r\n",
      "                        Family\r\n",
      "  -q QUERY, --query QUERY\r\n",
      "                        Query string. Name, Family, or nickname\r\n",
      "  -l LIMIT, --limit LIMIT\r\n",
      "                        Search limit\r\n",
      "  -d DEPTH, --depth DEPTH\r\n",
      "                        Search depth (for searching connected people)\r\n",
      "  -s, --show_plot       show term frequency plot in separate window\r\n",
      "  -i, --include_tweets  Include recent tweets mentioning the person\r\n",
      "  --output, --output    Save the output to the workspace\r\n",
      "  --api, --api          Show results in the JSON format\r\n",
      "  --format, --format    Beautifying JSON output if --api is used\r\n"
     ]
    }
   ],
   "source": [
    "!maryam -e famous_person --help"
   ]
  },
  {
   "cell_type": "code",
   "execution_count": 3,
   "id": "42a7e90f",
   "metadata": {},
   "outputs": [
    {
     "name": "stdout",
     "output_type": "stream",
     "text": [
      "\u001b[94m[*]\u001b[m [GOOGLE] Searching in 1 page...\u001b[m\n",
      "\u001b[94m[*]\u001b[m [WIKIPEDIA] Searching...\u001b[m\n",
      "\u001b[94m[*]\u001b[m [WIKIPEDIA] Getting page 2834946...\u001b[m\n",
      "\u001b[94m[*]\u001b[m Searching sanctionsearch...\u001b[m\n",
      "\u001b[94m[*]\u001b[m Getting term-frequencies related to person...\u001b[m\n",
      "\n",
      "\u001b[92m[*]\u001b[m HATMA\n",
      "\u001b[92m[*]\u001b[m \tWIKIPEDIA\n",
      "\u001b[94m[*]\u001b[92m \t\tKelimutu 2834946\u001b[m\n",
      "\u001b[92m[*]\u001b[m \tDESCRIPTION\n",
      "\u001b[94m[*]\u001b[92m \t\t\u001b[m\n",
      "\u001b[92m[*]\u001b[m \tNAME\n",
      "\u001b[94m[*]\u001b[92m \t\thatma\u001b[m\n",
      "\u001b[92m[*]\u001b[m \tIMG\n",
      "\u001b[94m[*]\u001b[92m \t\thttps://bing.com/th?q=hatma\u001b[m\n",
      "\u001b[92m[*]\u001b[m \tINFO\n",
      "\u001b[94m[*]\u001b[91m \t\tWithout result\u001b[m\n",
      "\u001b[92m[*]\u001b[m \tSOCIAL\n",
      "\u001b[94m[*]\u001b[91m \t\tWithout result\u001b[m\n",
      "\u001b[92m[*]\u001b[m \tTOP URLS\n",
      "\u001b[94m[*]\u001b[92m \t\thttps://housing.com/hatma-ranchi-overview-P5z4x4i2uojmlh71b\u001b[m\n",
      "\u001b[92m[*]\u001b[m \tTOP SEARCHED QUERIES\n",
      "\u001b[94m[*]\u001b[92m \t\thatman jack's wichita hat works\u001b[m\n",
      "\u001b[94m[*]\u001b[92m \t\thatmaker hats\u001b[m\n",
      "\u001b[94m[*]\u001b[92m \t\thatman auctions\u001b[m\n",
      "\u001b[94m[*]\u001b[92m \t\thatman jack's wichita ks\u001b[m\n",
      "\u001b[94m[*]\u001b[92m \t\thotmail live\u001b[m\n",
      "\u001b[94m[*]\u001b[92m \t\thotmail\u001b[m\n",
      "\u001b[94m[*]\u001b[92m \t\thatmaker divorce\u001b[m\n",
      "\u001b[94m[*]\u001b[92m \t\thatmaker funeral home\u001b[m\n",
      "\u001b[94m[*]\u001b[92m \t\thatmakers\u001b[m\n",
      "\u001b[94m[*]\u001b[92m \t\thotmail login\u001b[m\n",
      "\u001b[94m[*]\u001b[92m \t\thamatchi\u001b[m\n",
      "\u001b[94m[*]\u001b[92m \t\thatman of ireland\u001b[m\n",
      "\u001b[94m[*]\u001b[92m \t\tbatman\u001b[m\n",
      "\u001b[94m[*]\u001b[92m \t\thatmail\u001b[m\n",
      "\u001b[94m[*]\u001b[92m \t\thatman of ireland amazon\u001b[m\n",
      "\u001b[92m[*]\u001b[m \tIS IN BLACKLIST\n",
      "\u001b[94m[*]\u001b[92m \t\tFalse\u001b[m\n",
      "\u001b[92m[*]\u001b[m \tUSA BLACKLIST\n",
      "\u001b[94m[*]\u001b[91m \t\tWithout result\u001b[m\n",
      "\u001b[92m[*]\u001b[m \tTERM FREQUENCY\n",
      "\u001b[94m[*]\u001b[92m \t\t/home/hatma/.maryam/workspaces/default/Top_10_Most_Common_Words_for_hatma.png\u001b[m\n",
      "\n",
      "\n"
     ]
    }
   ],
   "source": [
    "!maryam -e famous_person -q hatma"
   ]
  },
  {
   "cell_type": "code",
   "execution_count": 5,
   "id": "2b6383ab",
   "metadata": {},
   "outputs": [
    {
     "name": "stdout",
     "output_type": "stream",
     "text": [
      "\u001b[94m[*]\u001b[m [GOOGLE] Searching in 1 page...\u001b[m\n",
      "\u001b[94m[*]\u001b[m [WIKIPEDIA] Searching...\u001b[m\n",
      "\u001b[94m[*]\u001b[m We could not find any result in wikipedia.\u001b[m\n",
      "\u001b[94m[*]\u001b[m Searching sanctionsearch...\u001b[m\n",
      "\u001b[94m[*]\u001b[m Getting term-frequencies related to person...\u001b[m\n",
      "\n",
      "\u001b[92m[*]\u001b[m SURYOTRISONGKO\n",
      "\u001b[92m[*]\u001b[m \tDESCRIPTION\n",
      "\u001b[94m[*]\u001b[92m \t\t\u001b[m\n",
      "\u001b[92m[*]\u001b[m \tNAME\n",
      "\u001b[94m[*]\u001b[92m \t\tsuryotrisongko\u001b[m\n",
      "\u001b[92m[*]\u001b[m \tIMG\n",
      "\u001b[94m[*]\u001b[92m \t\thttps://bing.com/th?q=suryotrisongko\u001b[m\n",
      "\u001b[92m[*]\u001b[m \tINFO\n",
      "\u001b[94m[*]\u001b[91m \t\tWithout result\u001b[m\n",
      "\u001b[92m[*]\u001b[m \tSOCIAL\n",
      "\u001b[94m[*]\u001b[91m \t\tWithout result\u001b[m\n",
      "\u001b[92m[*]\u001b[m \tTOP URLS\n",
      "\u001b[94m[*]\u001b[92m \t\thttps://scholar.google.co.id/citations?user=eKpmmScAAAAJ&hl=en\u001b[m\n",
      "\u001b[92m[*]\u001b[m \tTOP SEARCHED QUERIES\n",
      "\u001b[94m[*]\u001b[91m \t\tWithout result\u001b[m\n",
      "\u001b[92m[*]\u001b[m \tIS IN BLACKLIST\n",
      "\u001b[94m[*]\u001b[92m \t\tFalse\u001b[m\n",
      "\u001b[92m[*]\u001b[m \tUSA BLACKLIST\n",
      "\u001b[94m[*]\u001b[91m \t\tWithout result\u001b[m\n",
      "\u001b[92m[*]\u001b[m \tTERM FREQUENCY\n",
      "\u001b[94m[*]\u001b[92m \t\t/home/hatma/.maryam/workspaces/default/Top_10_Most_Common_Words_for_suryotrisongko.png\u001b[m\n",
      "\n",
      "\n"
     ]
    }
   ],
   "source": [
    "!maryam -e famous_person -q suryotrisongko"
   ]
  },
  {
   "cell_type": "code",
   "execution_count": 4,
   "id": "24d0f28e",
   "metadata": {},
   "outputs": [
    {
     "name": "stdout",
     "output_type": "stream",
     "text": [
      "\u001b[93m[!] [famous_person:opt_proc] File \"/home/hatma/anaconda3/envs/tf/lib/python3.9/site-packages/maryam-2.5.1.post0-py3.9.egg/maryam/core/initial.py\", line 365, in opt_proc.\u001b[m\r\n",
      "\u001b[93m[!] [famous_person:opt_proc] TypeError: 'NoneType' object does not support item assignment.\u001b[m\r\n"
     ]
    }
   ],
   "source": [
    "!maryam -e famous_person -q suryotrisongko --output --api --format"
   ]
  },
  {
   "cell_type": "code",
   "execution_count": null,
   "id": "4b6826eb",
   "metadata": {},
   "outputs": [],
   "source": []
  }
 ],
 "metadata": {
  "kernelspec": {
   "display_name": "tf",
   "language": "python",
   "name": "tf"
  },
  "language_info": {
   "codemirror_mode": {
    "name": "ipython",
    "version": 3
   },
   "file_extension": ".py",
   "mimetype": "text/x-python",
   "name": "python",
   "nbconvert_exporter": "python",
   "pygments_lexer": "ipython3",
   "version": "3.9.12"
  }
 },
 "nbformat": 4,
 "nbformat_minor": 5
}
