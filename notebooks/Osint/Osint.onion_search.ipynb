{
 "cells": [
  {
   "cell_type": "code",
   "execution_count": 1,
   "id": "a70b3471",
   "metadata": {},
   "outputs": [
    {
     "name": "stdout",
     "output_type": "stream",
     "text": [
      "usage: onion_search [-h] -q QUERY [--output] [--api] [--format]\r\n",
      "\r\n",
      "onion_search 0.4(Saeed) - description: onion_search is used to create the\r\n",
      "premier search engine for services residing on the Tor anonymity network.\r\n",
      "\r\n",
      "optional arguments:\r\n",
      "  -h, --help            show this help message and exit\r\n",
      "  -q QUERY, --query QUERY\r\n",
      "                        Domain Name, Company Name, keyword, etc\r\n",
      "  --output, --output    Save the output to the workspace\r\n",
      "  --api, --api          Show results in the JSON format\r\n",
      "  --format, --format    Beautifying JSON output if --api is used\r\n"
     ]
    }
   ],
   "source": [
    "!maryam -e onion_search --help"
   ]
  },
  {
   "cell_type": "code",
   "execution_count": 2,
   "id": "19086ee1",
   "metadata": {},
   "outputs": [
    {
     "name": "stdout",
     "output_type": "stream",
     "text": [
      "\u001b[94m[*]\u001b[m [DARKSEARCH] Searching in 0 page...\u001b[m\n",
      "\u001b[93m[!] [onion_search:opt_proc] <p style=\"font-family: 'Roboto';\"><center>Public access to DarkSearch is now ended, apologies for the inconvenience. <br>If you are an organisation and wish to request private access, contact us at <a href=\"/cdn-cgi/l/email-protection#01636e6f6b6e74735a415c6e766d686f752f6773\" target=\"_blank\" style=\"color:#292929;\">bonjour[@]owlint.fr</a>.</center></p>.\u001b[m\n",
      "\u001b[93m[!] [onion_search:opt_proc] </HTML>: 0.\u001b[m\n"
     ]
    }
   ],
   "source": [
    "!maryam -e onion_search -q cybersecurity"
   ]
  },
  {
   "cell_type": "code",
   "execution_count": 3,
   "id": "2b030f2e",
   "metadata": {},
   "outputs": [
    {
     "name": "stdout",
     "output_type": "stream",
     "text": [
      "\u001b[94m[*]\u001b[m [DARKSEARCH] Searching in 0 page...\u001b[m\n",
      "\u001b[93m[!] [onion_search:opt_proc] <p style=\"font-family: 'Roboto';\"><center>Public access to DarkSearch is now ended, apologies for the inconvenience. <br>If you are an organisation and wish to request private access, contact us at <a href=\"/cdn-cgi/l/email-protection#84e6ebeaeeebf1f6dfc4d9ebf3e8edeaf0aae2f6\" target=\"_blank\" style=\"color:#292929;\">bonjour[@]owlint.fr</a>.</center></p>.\u001b[m\n",
      "\u001b[93m[!] [onion_search:opt_proc] </HTML>: 0.\u001b[m\n"
     ]
    }
   ],
   "source": [
    "!maryam -e onion_search -q hatma"
   ]
  },
  {
   "cell_type": "code",
   "execution_count": 4,
   "id": "87210759",
   "metadata": {},
   "outputs": [
    {
     "name": "stdout",
     "output_type": "stream",
     "text": [
      "\u001b[93m[!] [onion_search:opt_proc] <p style=\"font-family: 'Roboto';\"><center>Public access to DarkSearch is now ended, apologies for the inconvenience. <br>If you are an organisation and wish to request private access, contact us at <a href=\"/cdn-cgi/l/email-protection#50323f3e3a3f25220b100d3f273c393e247e3622\" target=\"_blank\" style=\"color:#292929;\">bonjour[@]owlint.fr</a>.</center></p>.\u001b[m\r\n",
      "\u001b[93m[!] [onion_search:opt_proc] </HTML>: 0.\u001b[m\r\n"
     ]
    }
   ],
   "source": [
    "!maryam -e onion_search -q suryotrisongko --output --api --format"
   ]
  },
  {
   "cell_type": "code",
   "execution_count": null,
   "id": "f7442d0e",
   "metadata": {},
   "outputs": [],
   "source": []
  }
 ],
 "metadata": {
  "kernelspec": {
   "display_name": "tf",
   "language": "python",
   "name": "tf"
  },
  "language_info": {
   "codemirror_mode": {
    "name": "ipython",
    "version": 3
   },
   "file_extension": ".py",
   "mimetype": "text/x-python",
   "name": "python",
   "nbconvert_exporter": "python",
   "pygments_lexer": "ipython3",
   "version": "3.9.12"
  }
 },
 "nbformat": 4,
 "nbformat_minor": 5
}
