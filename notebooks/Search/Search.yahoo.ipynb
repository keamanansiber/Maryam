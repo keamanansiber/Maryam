{
 "cells": [
  {
   "cell_type": "code",
   "execution_count": 1,
   "id": "486ad18b",
   "metadata": {},
   "outputs": [
    {
     "name": "stdout",
     "output_type": "stream",
     "text": [
      "usage: yahoo [-h] -q QUERY [-l LIMIT] [-c COUNT] [--output] [--api] [--format]\r\n",
      "\r\n",
      "yahoo 0.1(Saeed) - description: Search your query in the search.yahoo.com and\r\n",
      "show the results.\r\n",
      "\r\n",
      "optional arguments:\r\n",
      "  -h, --help            show this help message and exit\r\n",
      "  -q QUERY, --query QUERY\r\n",
      "                        Query string\r\n",
      "  -l LIMIT, --limit LIMIT\r\n",
      "                        Search limit(number of pages, default=1)\r\n",
      "  -c COUNT, --count COUNT\r\n",
      "                        Number of results per page(min=10, max=100,\r\n",
      "                        default=50)\r\n",
      "  --output, --output    Save the output to the workspace\r\n",
      "  --api, --api          Show results in the JSON format\r\n",
      "  --format, --format    Beautifying JSON output if --api is used\r\n"
     ]
    }
   ],
   "source": [
    "!maryam -e yahoo --help"
   ]
  },
  {
   "cell_type": "code",
   "execution_count": 2,
   "id": "7471ea29",
   "metadata": {},
   "outputs": [
    {
     "name": "stdout",
     "output_type": "stream",
     "text": [
      "\u001b[94m[*]\u001b[m [YAHOO] Searching in 1 page...\u001b[m\n",
      "\u001b[94m[*]\u001b[m www.ibm.com › topics › cybersecurityWhat is Cybersecurity? | IBM\u001b[m\n",
      "\u001b[94m[*]\u001b[m https://www.ibm.com/topics/cybersecurity\u001b[m\n",
      "\u001b[94m[*]\u001b[m https://www.ibm.com › topics › cybersecur\u001b[m\n",
      "\u001b[94m[*]\u001b[m Cybersecurity is the practice of protecting critical systems and sensitive information from digital attacks. Also known as information technology (IT) security, cybersecurity measures are designed to combat threats against networked systems and applications, whether those threats originate from inside or outside of an organization. \u001b[m\n",
      "\n",
      "\u001b[94m[*]\u001b[m www.cisa.gov › uscert › ncasWhat is Cybersecurity? | CISA\u001b[m\n",
      "\u001b[94m[*]\u001b[m https://www.cisa.gov/uscert/ncas/tips/ST04-001\u001b[m\n",
      "\u001b[94m[*]\u001b[m https://www.cisa.gov › uscert › ncas › tip...\u001b[m\n",
      "\u001b[94m[*]\u001b[m May 06, 2009 ·  Cybersecurity is the art of protecting networks, devices, and data from unauthorized access or criminal use and the practice of ensuring confidentiality, integrity, and availability of information. \u001b[m\n",
      "\n",
      "\u001b[94m[*]\u001b[m www.cisco.com › what-is-cybersecurityWhat Is Cybersecurity? - Cisco\u001b[m\n",
      "\u001b[94m[*]\u001b[m https://www.cisco.com/c/en/us/products/security/what-is-cybersecurity.html\u001b[m\n",
      "\u001b[94m[*]\u001b[m https://www.cisco.com › c › en › us › produ...\u001b[m\n",
      "\u001b[94m[*]\u001b[m What is cybersecurity all about? A successful cybersecurity approach has multiple layers of protection spread across the computers, networks, programs, or data that one intends to keep safe. In an organization, the people, processes, and technology must all complement one another to create an effective defense from cyber attacks. \u001b[m\n",
      "\n",
      "\u001b[94m[*]\u001b[m www.cisa.gov › cyberCYBERSECURITY | CISA\u001b[m\n",
      "\u001b[94m[*]\u001b[m https://www.cisa.gov/cybersecurity\u001b[m\n",
      "\u001b[94m[*]\u001b[m https://www.cisa.gov › cybersecurity\u001b[m\n",
      "\u001b[94m[*]\u001b[m Cyberspace is particularly difficult to secure due to a number of factors: the ability of malicious actors to operate from anywhere in the world, the linkages between cyberspace and physical systems, and the difficulty of reducing vulnerabilities and consequences in complex cyber networks. \u001b[m\n",
      "\n",
      "\u001b[94m[*]\u001b[m www.nist.gov › cyberCybersecurity | NIST\u001b[m\n",
      "\u001b[94m[*]\u001b[m https://www.nist.gov/cybersecurity\u001b[m\n",
      "\u001b[94m[*]\u001b[m https://www.nist.gov › cybersecurity\u001b[m\n",
      "\u001b[94m[*]\u001b[m May 16, 2022 ·  Cybersecurity Overview NIST develops cybersecurity standards, guidelines, best practices, and other resources to meet the needs of U.S. industry, federal agencies and the broader public. \u001b[m\n",
      "\n"
     ]
    }
   ],
   "source": [
    "!maryam -e yahoo -q cybersecurity"
   ]
  },
  {
   "cell_type": "code",
   "execution_count": 3,
   "id": "9981802c",
   "metadata": {},
   "outputs": [
    {
     "name": "stdout",
     "output_type": "stream",
     "text": [
      "{\r\n",
      "    \"results\": [\r\n",
      "        {\r\n",
      "            \"t\": \"github.com \\u203a suryotrisongkosuryotrisongko \\u00b7 GitHub\",\r\n",
      "            \"a\": \"https://github.com/suryotrisongko\",\r\n",
      "            \"c\": \"https://github.com \\u203a suryotrisongko\",\r\n",
      "            \"d\": \"suryotrisongko has 16 repositories available. Follow their code on GitHub. \"\r\n",
      "        },\r\n",
      "        {\r\n",
      "            \"t\": \"twitter.com \\u203a suryotrisongkoHatma Suryotrisongko (@suryotrisongko) | Twitter\",\r\n",
      "            \"a\": \"https://twitter.com/suryotrisongko\",\r\n",
      "            \"c\": \"https://twitter.com \\u203a suryotrisongko\",\r\n",
      "            \"d\": \"Dec 20, 2019 \\u00b7  The latest Tweets from Hatma Suryotrisongko (@suryotrisongko). \\u30cf \\u30c8\\u30a6 \\u30de \\u30b9 \\u30ea \\u30aa \\u30c8\\u30a6 \\u30ea \\u30bd \\u30f3 \\u30b3. Kumamoto-shi, Kumamoto \"\r\n",
      "        },\r\n",
      "        {\r\n",
      "            \"t\": \"github.com \\u203a suryotrisongko \\u203a isengajaGitHub - suryotrisongko/isengaja\",\r\n",
      "            \"a\": \"https://github.com/suryotrisongko/isengaja\",\r\n",
      "            \"c\": \"https://github.com \\u203a suryotrisongko \\u203a is...\",\r\n",
      "            \"d\": \"Contribute to suryotrisongko/isengaja development by creating an account on GitHub. \"\r\n",
      "        },\r\n",
      "        {\r\n",
      "            \"t\": \"ieeexplore.ieee.org \\u203a author \\u203a 38233366800Hatma Suryotrisongko | IEEE Xplore Author Details\",\r\n",
      "            \"a\": \"https://ieeexplore.ieee.org/author/38233366800\",\r\n",
      "            \"c\": \"https://ieeexplore.ieee.org \\u203a author \\u203a 3823336680\",\r\n",
      "            \"d\": \"Publication Topics Android (operating system),Bayes methods,Internet,classification,computer science education,data mining,government data processing,mobile computing ... \"\r\n",
      "        },\r\n",
      "        {\r\n",
      "            \"t\": \"profiles.wordpress.org \\u203a suryotrisongkoHatma Suryotrisongko (@suryotrisongko) \\u2013 WordPress user ...\",\r\n",
      "            \"a\": \"https://profiles.wordpress.org/suryotrisongko/\",\r\n",
      "            \"c\": \"https://profiles.wordpress.org \\u203a suryotrisongko\",\r\n",
      "            \"d\": \"Hatma Suryotrisongko\\u2019s badges: Plugin Developer Activity; Plugins; Committed to Plugins SVN: change mime-type = image/png for all assets image (banner, icon, etc) ... \"\r\n",
      "        },\r\n",
      "        {\r\n",
      "            \"t\": \"www.sciencedirect.com \\u203a science \\u203a articleDesign and Development of Backend Application for Public ...\",\r\n",
      "            \"a\": \"https://www.sciencedirect.com/science/article/pii/S1877050917329800\",\r\n",
      "            \"c\": \"https://www.sciencedirect.com \\u203a science \\u203a article \\u203a...\",\r\n",
      "            \"d\": \"Jan 01, 2017 \\u00b7  Hatma Suryotrisongko et al. / Procedia Computer Science 124 (2017) 736\\u00e2\\u20ac\\u201c743 739 Hatma Suryotrisongko et al. / Procedia Computer Science 00 (2018) 000\\u00e2\\u20ac\\u201c000 3 Functional requirement analysis was conducted by looking at some similar applications. For example, the public complaint web application in Kediri city [6]. \"\r\n",
      "        },\r\n",
      "        {\r\n",
      "            \"t\": \"sci-hub.se \\u203a 10 \\u203a jSci-Hub | Design and Development of Backend Application for ...\",\r\n",
      "            \"a\": \"https://sci-hub.se/10.1016/j.procs.2017.12.212\",\r\n",
      "            \"c\": \"https://sci-hub.se \\u203a 10.1016 \\u203a j.procs.2...\",\r\n",
      "            \"d\": \"Suryotrisongko, H., Jayanto, D. P., & Tjahyanto, A. (2017). Design and Development of Backend Application for Public Complaint Systems Using Microservice Spring Boot. \"\r\n",
      "        }\r\n",
      "    ],\r\n",
      "    \"running_errors\": []\r\n",
      "}\r\n"
     ]
    }
   ],
   "source": [
    "!maryam -e yahoo -q suryotrisongko --output --api --format"
   ]
  },
  {
   "cell_type": "code",
   "execution_count": null,
   "id": "410c192c",
   "metadata": {},
   "outputs": [],
   "source": []
  }
 ],
 "metadata": {
  "kernelspec": {
   "display_name": "tf",
   "language": "python",
   "name": "tf"
  },
  "language_info": {
   "codemirror_mode": {
    "name": "ipython",
    "version": 3
   },
   "file_extension": ".py",
   "mimetype": "text/x-python",
   "name": "python",
   "nbconvert_exporter": "python",
   "pygments_lexer": "ipython3",
   "version": "3.9.12"
  }
 },
 "nbformat": 4,
 "nbformat_minor": 5
}
