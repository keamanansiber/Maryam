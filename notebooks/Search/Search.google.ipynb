{
 "cells": [
  {
   "cell_type": "code",
   "execution_count": 1,
   "id": "80e1a617",
   "metadata": {},
   "outputs": [
    {
     "name": "stdout",
     "output_type": "stream",
     "text": [
      "usage: google [-h] -q QUERY [-l LIMIT] [-c COUNT] [--output] [--api]\r\n",
      "              [--format]\r\n",
      "\r\n",
      "google 0.5(Saeed) - description: Search your query in the google.com and show\r\n",
      "the results.\r\n",
      "\r\n",
      "optional arguments:\r\n",
      "  -h, --help            show this help message and exit\r\n",
      "  -q QUERY, --query QUERY\r\n",
      "                        Query string\r\n",
      "  -l LIMIT, --limit LIMIT\r\n",
      "                        Search limit(number of pages, default=1)\r\n",
      "  -c COUNT, --count COUNT\r\n",
      "                        Number of results per page(min=10, max=100,\r\n",
      "                        default=50)\r\n",
      "  --output, --output    Save the output to the workspace\r\n",
      "  --api, --api          Show results in the JSON format\r\n",
      "  --format, --format    Beautifying JSON output if --api is used\r\n"
     ]
    }
   ],
   "source": [
    "!maryam -e google --help"
   ]
  },
  {
   "cell_type": "code",
   "execution_count": 2,
   "id": "d2f36cf1",
   "metadata": {},
   "outputs": [
    {
     "name": "stdout",
     "output_type": "stream",
     "text": [
      "\u001b[94m[*]\u001b[m [GOOGLE] Searching in 1 page...\u001b[m\n",
      "\u001b[94m[*]\u001b[m What is Cybersecurity? | IBM\u001b[m\n",
      "\u001b[94m[*]\u001b[m https://www.ibm.com/topics/cybersecurity\u001b[m\n",
      "\u001b[94m[*]\u001b[m https://www.ibm.com › topics › cybersecurity\u001b[m\n",
      "\u001b[94m[*]\u001b[m \u001b[m\n",
      "\n",
      "\u001b[94m[*]\u001b[m What Is Cybersecurity? - Cisco\u001b[m\n",
      "\u001b[94m[*]\u001b[m https://www.cisco.com/c/en_sg/products/security/what-is-cybersecurity.html\u001b[m\n",
      "\u001b[94m[*]\u001b[m https://www.cisco.com › Products & Services › Security\u001b[m\n",
      "\u001b[94m[*]\u001b[m Cyber security is the knowledge and practice of keeping information safe on the internet. It can mean keeping your personal information safe when you browse the ...What is cyber security?What jobs are in cyber security?\u001b[m\n",
      "\n",
      "\u001b[94m[*]\u001b[m What is Cyber Security? Definition, Best Practices & Examples\u001b[m\n",
      "\u001b[94m[*]\u001b[m https://digitalguardian.com/blog/what-cyber-security\u001b[m\n",
      "\u001b[94m[*]\u001b[m https://digitalguardian.com › blog › what-cyber-security\u001b[m\n",
      "\u001b[94m[*]\u001b[m To help you understand the importance of cyber security, we've compiled a post explaining the different elements of cybercrime you may not be aware of. If you' ...What is Cybersecurity?Why is Cybercrime Increasing?\u001b[m\n",
      "\n"
     ]
    }
   ],
   "source": [
    "!maryam -e google -q cybersecurity"
   ]
  },
  {
   "cell_type": "code",
   "execution_count": 4,
   "id": "3844793f",
   "metadata": {},
   "outputs": [
    {
     "name": "stdout",
     "output_type": "stream",
     "text": [
      "{\r\n",
      "    \"results\": [\r\n",
      "        {\r\n",
      "            \"t\": \"Hatma, Ranchi | Hatma Map, Photos and Places to Visit\",\r\n",
      "            \"a\": \"https://housing.com/hatma-ranchi-overview-P5z4x4i2uojmlh71b\",\r\n",
      "            \"c\": \"https://housing.com \\u203a Ranchi \\u203a Hatma\",\r\n",
      "            \"d\": \"Nama Dosen, Hatma Suryotrisongko, S.Kom., M.Eng. NIP, 19840518 201404 1 001. NIDN, 0018058401. Jabatan, \\u2013. Email, hatma[at]is.its.ac.id. Riwayat Pendidikan.Nama Dosen: Hatma Suryotrisongko, S.Kom., ...NIP: 19840518 201404 1 001Mata Kuliah yang Diajarkan: Dasar-Dasar Pen...\"\r\n",
      "        }\r\n",
      "    ],\r\n",
      "    \"running_errors\": []\r\n",
      "}\r\n"
     ]
    }
   ],
   "source": [
    "!maryam -e google -q hatma --output --api --format"
   ]
  },
  {
   "cell_type": "code",
   "execution_count": null,
   "id": "3210b47a",
   "metadata": {},
   "outputs": [],
   "source": []
  }
 ],
 "metadata": {
  "kernelspec": {
   "display_name": "tf",
   "language": "python",
   "name": "tf"
  },
  "language_info": {
   "codemirror_mode": {
    "name": "ipython",
    "version": 3
   },
   "file_extension": ".py",
   "mimetype": "text/x-python",
   "name": "python",
   "nbconvert_exporter": "python",
   "pygments_lexer": "ipython3",
   "version": "3.9.12"
  }
 },
 "nbformat": 4,
 "nbformat_minor": 5
}
