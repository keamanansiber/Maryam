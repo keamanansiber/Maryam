{
 "cells": [
  {
   "cell_type": "code",
   "execution_count": 1,
   "id": "3e901a42",
   "metadata": {},
   "outputs": [
    {
     "name": "stdout",
     "output_type": "stream",
     "text": [
      "usage: carrot2 [-h] -q QUERY [--output] [--api] [--format]\r\n",
      "\r\n",
      "carrot2 0.1(Saeed) - description: Search your query in the carrot2.org and\r\n",
      "show the results.\r\n",
      "\r\n",
      "optional arguments:\r\n",
      "  -h, --help            show this help message and exit\r\n",
      "  -q QUERY, --query QUERY\r\n",
      "                        Query string\r\n",
      "  --output, --output    Save the output to the workspace\r\n",
      "  --api, --api          Show results in the JSON format\r\n",
      "  --format, --format    Beautifying JSON output if --api is used\r\n"
     ]
    }
   ],
   "source": [
    "!maryam -e carrot2 --help"
   ]
  },
  {
   "cell_type": "code",
   "execution_count": 2,
   "id": "e14a8960",
   "metadata": {},
   "outputs": [
    {
     "name": "stdout",
     "output_type": "stream",
     "text": [
      "\u001b[93m[!] [util/carrot2:run_crawl] ETOOLS is missed!\u001b[m\r\n"
     ]
    }
   ],
   "source": [
    "!maryam -e carrot2 -q cybersecurity"
   ]
  },
  {
   "cell_type": "code",
   "execution_count": 4,
   "id": "e6dc1d37",
   "metadata": {},
   "outputs": [
    {
     "name": "stdout",
     "output_type": "stream",
     "text": [
      "{\r\n",
      "    \"results\": [],\r\n",
      "    \"running_errors\": [\r\n",
      "        \"[util/carrot2:run_crawl] ETOOLS is missed!\"\r\n",
      "    ]\r\n",
      "}\r\n"
     ]
    }
   ],
   "source": [
    "!maryam -e carrot2 -q security --output --api --format"
   ]
  },
  {
   "cell_type": "code",
   "execution_count": null,
   "id": "6dd11107",
   "metadata": {},
   "outputs": [],
   "source": []
  }
 ],
 "metadata": {
  "kernelspec": {
   "display_name": "tf",
   "language": "python",
   "name": "tf"
  },
  "language_info": {
   "codemirror_mode": {
    "name": "ipython",
    "version": 3
   },
   "file_extension": ".py",
   "mimetype": "text/x-python",
   "name": "python",
   "nbconvert_exporter": "python",
   "pygments_lexer": "ipython3",
   "version": "3.9.12"
  }
 },
 "nbformat": 4,
 "nbformat_minor": 5
}
