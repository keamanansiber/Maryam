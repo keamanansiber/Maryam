{
 "cells": [
  {
   "cell_type": "code",
   "execution_count": 1,
   "id": "7506012b",
   "metadata": {},
   "outputs": [
    {
     "name": "stdout",
     "output_type": "stream",
     "text": [
      "usage: wikileaks [-h] -q QUERY [-l LIMIT] [--output] [--api] [--format]\r\n",
      "\r\n",
      "wikileaks 0.1(Aman Singh) - description: WikiLeaks is an international non-\r\n",
      "profit organisation that publishes news leaks and classified media provided by\r\n",
      "anonymous sources.\r\n",
      "\r\n",
      "optional arguments:\r\n",
      "  -h, --help            show this help message and exit\r\n",
      "  -q QUERY, --query QUERY\r\n",
      "                        Query string\r\n",
      "  -l LIMIT, --limit LIMIT\r\n",
      "                        Search limit(number of pages, default=1)\r\n",
      "  --output, --output    Save the output to the workspace\r\n",
      "  --api, --api          Show results in the JSON format\r\n",
      "  --format, --format    Beautifying JSON output if --api is used\r\n"
     ]
    }
   ],
   "source": [
    "!maryam -e wikileaks --help"
   ]
  },
  {
   "cell_type": "code",
   "execution_count": 2,
   "id": "32f015b1",
   "metadata": {},
   "outputs": [
    {
     "name": "stdout",
     "output_type": "stream",
     "text": [
      "\u001b[94m[*]\u001b[m [WIKILEAKS] Searching in 1 page ....\u001b[m\n",
      "\u001b[94m[*]\u001b[m  INDO-US CYBERSECURITY FORUM PREPARATORY CONSULTATIONS IN NEW DELHI \u001b[m\n",
      "\u001b[94m[*]\u001b[92m \thttps://wikileaks.org/plusd/cables/04NEWDELHI7026_a.html\u001b[m\n",
      "\u001b[94m[*]\u001b[m  PRODUCTIVE PREP TALKS POINT TO A SUCCESSFUL JANUARY CYBERSECURITY EXCHANGE \u001b[m\n",
      "\u001b[94m[*]\u001b[92m \thttps://wikileaks.org/plusd/cables/06NEWDELHI93_a.html\u001b[m\n",
      "\u001b[94m[*]\u001b[m  U.S.- RF CYBERSECURITY BILATERAL ON MARGINS OF OSCE CYBER WORKSHOP \u001b[m\n",
      "\u001b[94m[*]\u001b[92m \thttps://wikileaks.org/plusd/cables/09USOSCE66_a.html\u001b[m\n",
      "\u001b[94m[*]\u001b[m  BIOS OF INDIAN CYBERSECURITY EXPERTS \u001b[m\n",
      "\u001b[94m[*]\u001b[92m \thttps://wikileaks.org/plusd/cables/05NEWDELHI9820_a.html\u001b[m\n",
      "\u001b[94m[*]\u001b[m  UNGA SECOND COMMITTEE - U.S. PROMOTES CYBERSECURITY AND LEGAL EMPOWERMENT FOR POOR, CONSENSUS ON KEY DEVELOPMENT ISSUES \u001b[m\n",
      "\u001b[94m[*]\u001b[92m \thttps://wikileaks.org/plusd/cables/09USUNNEWYORK1161_a.html\u001b[m\n",
      "\u001b[94m[*]\u001b[m  CROATIA INTERESTED IN SOFIA CYBERSECURITY CONFERENCE \u001b[m\n",
      "\u001b[94m[*]\u001b[92m \thttps://wikileaks.org/plusd/cables/03ZAGREB1677_a.html\u001b[m\n",
      "\u001b[94m[*]\u001b[m  DHS CYBERSECURITY DISCUSSIONS FOCUS ON INTERNAL PROTECTIONS AND PRIVACY \u001b[m\n",
      "\u001b[94m[*]\u001b[92m \thttps://wikileaks.org/plusd/cables/08KUWAIT1084_a.html\u001b[m\n",
      "\u001b[94m[*]\u001b[m  INDO-US CYBERSECURITY FORUM: BIO NOTES FOR DELEGATION HEADS \u001b[m\n",
      "\u001b[94m[*]\u001b[92m \thttps://wikileaks.org/plusd/cables/04NEWDELHI6980_a.html\u001b[m\n",
      "\u001b[94m[*]\u001b[m  OSCE/FSC: DAY TWO--OSCE WORKSHOP ON A COMPREHENSIVE OSCE APPROACH TO ENHANCING CYBERSECURITY, DAY TWO \u001b[m\n",
      "\u001b[94m[*]\u001b[92m \thttps://wikileaks.org/plusd/cables/09USOSCE65_a.html\u001b[m\n",
      "\u001b[94m[*]\u001b[m  OSCE/FSC: PROPOSAL ON NATIONAL CYBERSECURITY SELF-SURVEY AND ASSESSMENT \u001b[m\n",
      "\u001b[94m[*]\u001b[92m \thttps://wikileaks.org/plusd/cables/09STATE107552_a.html\u001b[m\n",
      "\u001b[94m[*]\u001b[m  FOLLOW-UP WITH CERT-IN: COOPERATIVE APPROACH TO ADVOCATING CYBERSECURITY \u001b[m\n",
      "\u001b[94m[*]\u001b[92m \thttps://wikileaks.org/plusd/cables/06NEWDELHI4255_a.html\u001b[m\n",
      "\u001b[94m[*]\u001b[m  [TACTICAL] US/CT - FACT SHEET: The Administration's Cybersecurity\n",
      "\tAccomplishments \u001b[m\n",
      "\u001b[94m[*]\u001b[92m \thttps://wikileaks.org/gifiles/docs/18/1897126_-tactical-us-ct-fact-sheet-the-administration-s.html\u001b[m\n",
      "\u001b[94m[*]\u001b[m  OSCE/FSC: DAY ONE--OSCE WORKSHOP ON A COMPREHENSIVE OSCE APPROACH TO ENHANCING CYBERSECURITY \u001b[m\n",
      "\u001b[94m[*]\u001b[92m \thttps://wikileaks.org/plusd/cables/09USOSCE64_a.html\u001b[m\n",
      "\u001b[94m[*]\u001b[m  ROMANIA: CYBERSECURITY POLICIES UNDER DEVELOPMENT \u001b[m\n",
      "\u001b[94m[*]\u001b[92m \thttps://wikileaks.org/plusd/cables/09BUCHAREST453_a.html\u001b[m\n",
      "\u001b[94m[*]\u001b[m  Re: [CT] Fw: [OS] US/MIL/CT - Senior US cybersecurity\n",
      "\tofficial\tresigns \u001b[m\n",
      "\u001b[94m[*]\u001b[92m \thttps://wikileaks.org/gifiles/docs/28/2882676_re-ct-fw-os-us-mil-ct-senior-us-cybersecurity-official.html\u001b[m\n",
      "\u001b[94m[*]\u001b[m  Fwd: ANALYSIS FOR EDIT - U.S./MIL - The Comprehensive National Cybersecurity\n",
      " Initiative \u001b[m\n",
      "\u001b[94m[*]\u001b[92m \thttps://wikileaks.org/gifiles/docs/34/342406_fwd-analysis-for-edit-u-s-mil-the-comprehensive-national.html\u001b[m\n",
      "\u001b[94m[*]\u001b[m  NSA Building a National Cybersecurity Science    March 13, 2013 \u001b[m\n",
      "\u001b[94m[*]\u001b[92m \thttps://cryptome.org/2013/03/nsa-tnw-19-4.pdf\u001b[m\n",
      "\u001b[94m[*]\u001b[m  NSA: Building a Science of Cybersecurity         April 25, 2014 \u001b[m\n",
      "\u001b[94m[*]\u001b[92m \thttps://cryptome.org/2014/04/nsa-build-cybersec-sci.pdf\u001b[m\n",
      "\u001b[94m[*]\u001b[m  Cybersecurity of North American Electric Grid    March 8, 2014 \u001b[m\n",
      "\u001b[94m[*]\u001b[92m \thttps://cryptome.org/2014/03/cybersec-elec-grid.pdf\u001b[m\n",
      "\u001b[94m[*]\u001b[m  GAO: National Strategy for Cybersecurity Zonked  February 14, 2013 \u001b[m\n",
      "\u001b[94m[*]\u001b[92m \thttps://cryptome.org/2013/02/gao-13-187.pdf\u001b[m\n"
     ]
    }
   ],
   "source": [
    "!maryam -e wikileaks -q cybersecurity"
   ]
  },
  {
   "cell_type": "code",
   "execution_count": 4,
   "id": "5ddc980a",
   "metadata": {},
   "outputs": [
    {
     "name": "stdout",
     "output_type": "stream",
     "text": [
      "{\r\n",
      "    \"results\": [\r\n",
      "        {\r\n",
      "            \"title\": \" Territory Presentations  TUESDAY.ppt \",\r\n",
      "            \"link\": \"https://wikileaks.org/sony/docs/03_03/Mktrsch/I N T E R N A T I O N A L/SPRI Conference/Cancun 2011/Territory Presentations  TUESDAY.ppt\"\r\n",
      "        },\r\n",
      "        {\r\n",
      "            \"title\": \" DEMONSTRATION IN BAGHDAD(ZONE 1): NON-VIOLENT \",\r\n",
      "            \"link\": \"https://wikileaks.org/irq/report/2004/08/IRQ20040823n556.html\"\r\n",
      "        },\r\n",
      "        {\r\n",
      "            \"title\": \" Tanzania Richmond Report \",\r\n",
      "            \"link\": \"https://wikileaks.org/wiki/Tanzania_Richmond_Report\"\r\n",
      "        },\r\n",
      "        {\r\n",
      "            \"title\": \" CURRENT POLITICAL SITUATION CONFIDENTIAL \",\r\n",
      "            \"link\": \"https://wikileaks.org/plusd/cables/1975NEWDE11044_b.html\"\r\n",
      "        },\r\n",
      "        {\r\n",
      "            \"title\": \" Bell Media-SPT Basic TV License Agreement CAN12B007X.pdf \",\r\n",
      "            \"link\": \"https://wikileaks.org/sony/docs/03_03/Legal_Dept/Corporate Legal/Legal-EAG_JWR/Executed Agreements/JRS/Bell TV/Bell Media-SPT Basic TV License Agreement CAN12B007X.pdf\"\r\n",
      "        },\r\n",
      "        {\r\n",
      "            \"title\": \" MANUAL  DO FATURAMENTO.doc \",\r\n",
      "            \"link\": \"https://wikileaks.org/sony/docs/03/Finance/MP_FINANCE/FATURAMENTO/MANUAL  DO FATURAMENTO.doc\"\r\n",
      "        }\r\n",
      "    ],\r\n",
      "    \"running_errors\": []\r\n",
      "}\r\n"
     ]
    }
   ],
   "source": [
    "!maryam -e wikileaks -q hatma --output --api --format"
   ]
  },
  {
   "cell_type": "code",
   "execution_count": null,
   "id": "934e1a61",
   "metadata": {},
   "outputs": [],
   "source": []
  }
 ],
 "metadata": {
  "kernelspec": {
   "display_name": "tf",
   "language": "python",
   "name": "tf"
  },
  "language_info": {
   "codemirror_mode": {
    "name": "ipython",
    "version": 3
   },
   "file_extension": ".py",
   "mimetype": "text/x-python",
   "name": "python",
   "nbconvert_exporter": "python",
   "pygments_lexer": "ipython3",
   "version": "3.9.12"
  }
 },
 "nbformat": 4,
 "nbformat_minor": 5
}
