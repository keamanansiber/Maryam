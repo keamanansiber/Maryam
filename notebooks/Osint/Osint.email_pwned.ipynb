{
 "cells": [
  {
   "cell_type": "code",
   "execution_count": 1,
   "id": "e353f261",
   "metadata": {},
   "outputs": [
    {
     "name": "stdout",
     "output_type": "stream",
     "text": [
      "usage: email_pwned [-h] -e EMAIL [--output] [--api] [--format]\r\n",
      "\r\n",
      "email_pwned 1.1(Vikas Kundu) - description: Search your email for data\r\n",
      "breaches\r\n",
      "\r\n",
      "optional arguments:\r\n",
      "  -h, --help            show this help message and exit\r\n",
      "  -e EMAIL, --email EMAIL\r\n",
      "                        Email to search for breach\r\n",
      "  --output, --output    Save the output to the workspace\r\n",
      "  --api, --api          Show results in the JSON format\r\n",
      "  --format, --format    Beautifying JSON output if --api is used\r\n"
     ]
    }
   ],
   "source": [
    "!maryam -e email_pwned --help"
   ]
  },
  {
   "cell_type": "code",
   "execution_count": 3,
   "id": "18af9afc",
   "metadata": {},
   "outputs": [
    {
     "name": "stdout",
     "output_type": "stream",
     "text": [
      "\u001b[94m[*]\u001b[m [PAWNED] Searching for pwning...\u001b[m\n",
      "\n",
      "  +---------------------------+\n",
      "  |          breaches         |\n",
      "  +---------------------------+\n",
      "  |  breaches |     pastes    |\n",
      "  +---------------------------+\n",
      "  | Bukalapak | bukalapak.com |\n",
      "  | Cit0day   | cit0day.in    |\n",
      "  | Gravatar  | gravatar.com  |\n",
      "  | Tokopedia | tokopedia.com |\n",
      "  +---------------------------+\n",
      "\n",
      "\n",
      "  +-------------------+\n",
      "  |       pastes      |\n",
      "  +-------------------+\n",
      "  | breaches | pastes |\n",
      "  +-------------------+\n",
      "  +-------------------+\n",
      "\n"
     ]
    }
   ],
   "source": [
    "!maryam -e email_pwned -e xxx@gmail.com"
   ]
  },
  {
   "cell_type": "code",
   "execution_count": 6,
   "id": "c0097520",
   "metadata": {},
   "outputs": [
    {
     "name": "stdout",
     "output_type": "stream",
     "text": [
      "{\r\n",
      "    \"breaches\": [\r\n",
      "        {\r\n",
      "            \"breach_name\": \"Bukalapak\",\r\n",
      "            \"breach_domain\": \"bukalapak.com\"\r\n",
      "        },\r\n",
      "        {\r\n",
      "            \"breach_name\": \"Cit0day\",\r\n",
      "            \"breach_domain\": \"cit0day.in\"\r\n",
      "        },\r\n",
      "        {\r\n",
      "            \"breach_name\": \"Gravatar\",\r\n",
      "            \"breach_domain\": \"gravatar.com\"\r\n",
      "        },\r\n",
      "        {\r\n",
      "            \"breach_name\": \"Tokopedia\",\r\n",
      "            \"breach_domain\": \"tokopedia.com\"\r\n",
      "        }\r\n",
      "    ],\r\n",
      "    \"pastes\": [],\r\n",
      "    \"running_errors\": []\r\n",
      "}\r\n"
     ]
    }
   ],
   "source": [
    "!maryam -e email_pwned -e xxxx@gmail.com --output --api --format"
   ]
  },
  {
   "cell_type": "code",
   "execution_count": null,
   "id": "c2ec609a",
   "metadata": {},
   "outputs": [],
   "source": []
  }
 ],
 "metadata": {
  "kernelspec": {
   "display_name": "tf",
   "language": "python",
   "name": "tf"
  },
  "language_info": {
   "codemirror_mode": {
    "name": "ipython",
    "version": 3
   },
   "file_extension": ".py",
   "mimetype": "text/x-python",
   "name": "python",
   "nbconvert_exporter": "python",
   "pygments_lexer": "ipython3",
   "version": "3.9.12"
  }
 },
 "nbformat": 4,
 "nbformat_minor": 5
}
